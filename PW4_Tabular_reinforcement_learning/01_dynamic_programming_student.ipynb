{
  "cells": [
    {
      "cell_type": "markdown",
      "id": "febec091",
      "metadata": {
        "id": "febec091"
      },
      "source": [
        "# Outlook #"
      ]
    },
    {
      "cell_type": "markdown",
      "id": "73de3b7d",
      "metadata": {
        "id": "73de3b7d"
      },
      "source": [
        "In this colab we will investigate the **value iteration** and **policy iteration** algorithms in a maze environment."
      ]
    },
    {
      "cell_type": "markdown",
      "id": "6682d547",
      "metadata": {
        "id": "6682d547"
      },
      "source": [
        "# Installation #"
      ]
    },
    {
      "cell_type": "code",
      "execution_count": null,
      "id": "15b22c60",
      "metadata": {
        "colab": {
          "base_uri": "https://localhost:8080/"
        },
        "id": "15b22c60",
        "outputId": "a44378e0-156b-422b-eb1d-e27819e7ddf6"
      },
      "outputs": [
        {
          "output_type": "stream",
          "name": "stdout",
          "text": [
            "Reading package lists... Done\n",
            "Building dependency tree       \n",
            "Reading state information... Done\n",
            "ffmpeg is already the newest version (7:3.4.11-0ubuntu0.1).\n",
            "The following package was automatically installed and is no longer required:\n",
            "  libnvidia-common-460\n",
            "Use 'apt autoremove' to remove it.\n",
            "0 upgraded, 0 newly installed, 0 to remove and 20 not upgraded.\n"
          ]
        }
      ],
      "source": [
        "if get_ipython().__class__.__module__ == \"google.colab._shell\":\n",
        "    !apt-get install ffmpeg"
      ]
    },
    {
      "cell_type": "code",
      "execution_count": null,
      "id": "938429e4",
      "metadata": {
        "colab": {
          "base_uri": "https://localhost:8080/"
        },
        "id": "938429e4",
        "outputId": "97c50cdd-0751-42a7-c030-5fa3cd8ed708"
      },
      "outputs": [
        {
          "output_type": "stream",
          "name": "stdout",
          "text": [
            "Looking in indexes: https://pypi.org/simple, https://us-python.pkg.dev/colab-wheels/public/simple/\n",
            "Collecting git+https://github.com/osigaud/my_gym\n",
            "  Cloning https://github.com/osigaud/my_gym to /tmp/pip-req-build-24mm5q00\n",
            "  Running command git clone -q https://github.com/osigaud/my_gym /tmp/pip-req-build-24mm5q00\n",
            "Requirement already satisfied: numpy>=1.19.1 in /usr/local/lib/python3.7/dist-packages (from bbrl-gym==0.1.0) (1.21.6)\n",
            "Collecting gym==0.21.0\n",
            "  Downloading gym-0.21.0.tar.gz (1.5 MB)\n",
            "\u001b[K     |████████████████████████████████| 1.5 MB 2.1 MB/s \n",
            "\u001b[?25hCollecting Box2D\n",
            "  Downloading Box2D-2.3.10-cp37-cp37m-manylinux1_x86_64.whl (1.3 MB)\n",
            "\u001b[K     |████████████████████████████████| 1.3 MB 35.0 MB/s \n",
            "\u001b[?25hCollecting mazemdp>=0.1.1\n",
            "  Downloading mazemdp-0.1.1.tar.gz (15 kB)\n",
            "Requirement already satisfied: cloudpickle>=1.2.0 in /usr/local/lib/python3.7/dist-packages (from gym==0.21.0->bbrl-gym==0.1.0) (1.5.0)\n",
            "Requirement already satisfied: importlib_metadata>=4.8.1 in /usr/local/lib/python3.7/dist-packages (from gym==0.21.0->bbrl-gym==0.1.0) (4.12.0)\n",
            "Requirement already satisfied: zipp>=0.5 in /usr/local/lib/python3.7/dist-packages (from importlib_metadata>=4.8.1->gym==0.21.0->bbrl-gym==0.1.0) (3.8.1)\n",
            "Requirement already satisfied: typing-extensions>=3.6.4 in /usr/local/lib/python3.7/dist-packages (from importlib_metadata>=4.8.1->gym==0.21.0->bbrl-gym==0.1.0) (4.1.1)\n",
            "Requirement already satisfied: matplotlib in /usr/local/lib/python3.7/dist-packages (from mazemdp>=0.1.1->bbrl-gym==0.1.0) (3.2.2)\n",
            "Requirement already satisfied: kiwisolver>=1.0.1 in /usr/local/lib/python3.7/dist-packages (from matplotlib->mazemdp>=0.1.1->bbrl-gym==0.1.0) (1.4.4)\n",
            "Requirement already satisfied: pyparsing!=2.0.4,!=2.1.2,!=2.1.6,>=2.0.1 in /usr/local/lib/python3.7/dist-packages (from matplotlib->mazemdp>=0.1.1->bbrl-gym==0.1.0) (3.0.9)\n",
            "Requirement already satisfied: python-dateutil>=2.1 in /usr/local/lib/python3.7/dist-packages (from matplotlib->mazemdp>=0.1.1->bbrl-gym==0.1.0) (2.8.2)\n",
            "Requirement already satisfied: cycler>=0.10 in /usr/local/lib/python3.7/dist-packages (from matplotlib->mazemdp>=0.1.1->bbrl-gym==0.1.0) (0.11.0)\n",
            "Requirement already satisfied: six>=1.5 in /usr/local/lib/python3.7/dist-packages (from python-dateutil>=2.1->matplotlib->mazemdp>=0.1.1->bbrl-gym==0.1.0) (1.15.0)\n",
            "Building wheels for collected packages: bbrl-gym, gym, mazemdp\n",
            "  Building wheel for bbrl-gym (setup.py) ... \u001b[?25l\u001b[?25hdone\n",
            "  Created wheel for bbrl-gym: filename=bbrl_gym-0.1.0-py3-none-any.whl size=17222 sha256=f7409fe7a6e4d2ed2c1113dc74c985899b4b18a4586b8f6ceabbf8dc533bef24\n",
            "  Stored in directory: /tmp/pip-ephem-wheel-cache-rk2st_j1/wheels/0b/2c/67/5df37c12451553731420023ff73d12effcae27a38cc5053550\n",
            "  Building wheel for gym (setup.py) ... \u001b[?25l\u001b[?25hdone\n",
            "  Created wheel for gym: filename=gym-0.21.0-py3-none-any.whl size=1616824 sha256=b2d5a90be2d58baf78f14b33a86a885f51fe7e4e421290dc81647610b6072e7e\n",
            "  Stored in directory: /root/.cache/pip/wheels/76/ee/9c/36bfe3e079df99acf5ae57f4e3464ff2771b34447d6d2f2148\n",
            "  Building wheel for mazemdp (setup.py) ... \u001b[?25l\u001b[?25hdone\n",
            "  Created wheel for mazemdp: filename=mazemdp-0.1.1-py3-none-any.whl size=14721 sha256=cbd45831412d564288b501f195af17cd4fbfbdc35f162bfbdceecb81a823da44\n",
            "  Stored in directory: /root/.cache/pip/wheels/7f/bc/ab/90ec3e74f662c378b422671e88abc734a66f2f7959d550de1a\n",
            "Successfully built bbrl-gym gym mazemdp\n",
            "Installing collected packages: mazemdp, gym, Box2D, bbrl-gym\n",
            "  Attempting uninstall: gym\n",
            "    Found existing installation: gym 0.25.2\n",
            "    Uninstalling gym-0.25.2:\n",
            "      Successfully uninstalled gym-0.25.2\n",
            "Successfully installed Box2D-2.3.10 bbrl-gym-0.1.0 gym-0.21.0 mazemdp-0.1.1\n"
          ]
        }
      ],
      "source": [
        "try:\n",
        "    import my_gym\n",
        "except ModuleNotFoundError as e:\n",
        "    !pip install git+https://github.com/osigaud/my_gym"
      ]
    },
    {
      "cell_type": "code",
      "execution_count": null,
      "id": "33aae6af",
      "metadata": {
        "id": "33aae6af",
        "colab": {
          "base_uri": "https://localhost:8080/"
        },
        "outputId": "8b19392a-fbf3-41e8-dc25-c0285fb61075"
      },
      "outputs": [
        {
          "output_type": "stream",
          "name": "stdout",
          "text": [
            "Matplotlib backend: module://ipykernel.pylab.backend_inline\n"
          ]
        }
      ],
      "source": [
        "import os\n",
        "from typing import Tuple, List\n",
        "\n",
        "import numpy as np\n",
        "import matplotlib.pyplot as plt\n",
        "\n",
        "from mazemdp.maze_plotter import show_videos\n",
        "from my_gym.envs.maze_mdp import MazeMDPEnv\n",
        "\n",
        "# For visualization\n",
        "os.environ[\"VIDEO_FPS\"] = \"5\"\n",
        "if not os.path.isdir(\"./videos\"):\n",
        "    os.mkdir(\"./videos\")\n",
        "\n",
        "from IPython.display import Video"
      ]
    },
    {
      "cell_type": "code",
      "execution_count": null,
      "id": "d43187c8",
      "metadata": {
        "id": "d43187c8"
      },
      "outputs": [],
      "source": [
        "# Agents and MDPs #"
      ]
    },
    {
      "cell_type": "markdown",
      "id": "4faaea4a",
      "metadata": {
        "id": "4faaea4a"
      },
      "source": [
        "\n",
        "A reinforcement learning agent interacts with an environment represented as a Markov Decision Process (MDP). It is defined by a tuple $(S, A, P, r, \\gamma)$ where $S$ is the state space, $A$ is the action space, $P(state_t, action_t, state_{t+1})$ is the transition function, $r(state_t, action_t)$ is the reward function and $\\gamma \\in [0, 1]$ is the discount factor.\n",
        "\n"
      ]
    },
    {
      "cell_type": "markdown",
      "id": "ae177846",
      "metadata": {
        "id": "ae177846"
      },
      "source": [
        "In what follows we import code to create an MDP corresponding to a random maze (see https://github.com/osigaud/SimpleMazeMDP for documentation)."
      ]
    },
    {
      "cell_type": "code",
      "execution_count": null,
      "id": "c9476f2a",
      "metadata": {
        "id": "c9476f2a",
        "colab": {
          "base_uri": "https://localhost:8080/",
          "height": 377,
          "referenced_widgets": [
            "f19d976945fe4b739757d76091db56bd",
            "696d148e1e6a472a993ee26b7fb5344c"
          ]
        },
        "outputId": "dd9ed152-811a-478d-aecf-8bfa1bbda077"
      },
      "outputs": [
        {
          "output_type": "display_data",
          "data": {
            "text/plain": [
              "Output()"
            ],
            "application/vnd.jupyter.widget-view+json": {
              "version_major": 2,
              "version_minor": 0,
              "model_id": "f19d976945fe4b739757d76091db56bd"
            }
          },
          "metadata": {}
        }
      ],
      "source": [
        "import gym\n",
        "import my_gym\n",
        "\n",
        "\n",
        "env = gym.make(\"MazeMDP-v0\", kwargs={\"width\": 5, \"height\": 5, \"ratio\": 0.2})\n",
        "env.reset()\n",
        "\n",
        "# in dynamic programming, there is no agent moving in the environment\n",
        "env.set_no_agent()\n",
        "env.init_draw(\"The maze\")"
      ]
    },
    {
      "cell_type": "markdown",
      "id": "547662a6",
      "metadata": {
        "id": "547662a6"
      },
      "source": [
        "# Dynamic programming #"
      ]
    },
    {
      "cell_type": "markdown",
      "id": "17fe8bf1",
      "metadata": {
        "id": "17fe8bf1"
      },
      "source": [
        "\n",
        "The goal of an RL agent is to find the optimal behaviour, defined by a policy $\\pi$ that assigns an action (or distribution over actions) to each state so as to maximize the agent's total expected reward. In order to estimate how good a state is, either a state value function $V(x)$ or a state-action value function $Q(x,u)$ is used.\n",
        "\n",
        "Dynamic programming algorithms are used for planning, they require a full knowledge of the MDP from the agent (in contrast to \"true\" RL where the agent does not know the transition and reward functions).\n",
        "They find the optimal policy by computing a value function $V$ or an action-value function $Q$ over the state space or state-action space of the given MDP. **Value iteration** and **policy iteration** are two standard dynamic programming algorithms. You should study both of them using both $V$ and $Q$, as these algorithms contain the basic building blocks for most RL algorithms.\n"
      ]
    },
    {
      "cell_type": "markdown",
      "id": "5ab2f6b8",
      "metadata": {
        "id": "5ab2f6b8"
      },
      "source": [
        "## Value Iteration ##"
      ]
    },
    {
      "cell_type": "markdown",
      "id": "533e1dcd",
      "metadata": {
        "id": "533e1dcd"
      },
      "source": [
        "### Value Iteration with the V function ###\n"
      ]
    },
    {
      "cell_type": "markdown",
      "id": "8b8f42a3",
      "metadata": {
        "id": "8b8f42a3"
      },
      "source": [
        "\n",
        "When using the $V$ function, **value iteration** aims at finding the optimal values $V^*$ based on the Bellman Optimality Equation:\n",
        "$$V^*(s) = \\max_a \\big[ r(s,a) + \\gamma \\sum_{y \\in S} P(s,a,y)V^*(y) \\big],$$\n",
        "\n",
        "where:\n",
        "\n",
        "*   $r(s, a)$ is the reward obtained from taking action $a$ in state $s$,\n",
        "*   $P(s, a, y)$ is the probability of reaching state $y$ when taking action $a$ in state $s$, \n",
        "*   $\\gamma \\in [0,1]$ is a discount factor defining the relative importance of long term rewards over short term ones (the closer to 0, the more the agent focuses on immediate rewards).\n",
        "\n",
        "In practice, we start with an initial value function $V^0$ (for instance, the values of all states are 0), and then we iterate for all states $s$\n",
        "\n",
        "$$V^{i+1}(s) = \\max_a \\big[ r(s,a) + \\gamma \\sum_{y \\in S} P(s,a,y)V^i(y) \\big],$$\n",
        "\n",
        "until the values converge, that is $\\forall s, V^{i+1}(s) \\approx V^i(s)$. It is shown that at convergence, $\\forall s, V^i(s)= V^*(s)$."
      ]
    },
    {
      "cell_type": "markdown",
      "id": "c9bc781f",
      "metadata": {
        "id": "c9bc781f"
      },
      "source": [
        "To visualize the policy obtained from **value iteration**, we need to first define the `get_policy_from_V()` function"
      ]
    },
    {
      "cell_type": "code",
      "execution_count": null,
      "id": "cef40df0",
      "metadata": {
        "id": "cef40df0"
      },
      "outputs": [],
      "source": [
        "def get_policy_from_v(mdp: MazeMDPEnv, v: np.ndarray) -> np.ndarray:\n",
        "    # Outputs a policy given the state values\n",
        "    policy = np.zeros(mdp.nb_states)  # initial state values are set to 0\n",
        "    for x in range(mdp.nb_states):  # for each state x\n",
        "        if x not in mdp.terminal_states:\n",
        "            # Compute the value of the state x for each action u of the MDP action space\n",
        "            v_temp = []\n",
        "            for u in mdp.action_space.actions:\n",
        "                # Process sum of the values of the neighbouring states\n",
        "                summ = 0\n",
        "                for y in range(mdp.nb_states):\n",
        "                    summ = summ + mdp.P[x, u, y] * v[y]\n",
        "                v_temp.append(mdp.r[x, u] + mdp.gamma * summ)\n",
        "            policy[x] = np.argmax(v_temp)\n",
        "    return policy"
      ]
    },
    {
      "cell_type": "markdown",
      "id": "e4d63213",
      "metadata": {
        "id": "e4d63213"
      },
      "source": [
        "\n",
        "The `value_iteration_v(mdp)` function below provides the code of **value iteration** using the $V$ function. It is given as an example from which you can derive other instances of dynamic programming algorithms. Look at it more closely, this will help for later questions:\n",
        "\n",
        "* you can ignore the `mdp.new_render()` and `mdp.render(...)` functions which are here to provide the visualization of the iterations.\n",
        "* find in the code the loop over states, the main loop that performs these updates until the values don't change significantly anymore, the main update equation. Found them? OK, you can continue...\n"
      ]
    },
    {
      "cell_type": "code",
      "execution_count": null,
      "id": "d457e025",
      "metadata": {
        "id": "d457e025"
      },
      "outputs": [],
      "source": [
        "from gym.wrappers.monitoring.video_recorder import VideoRecorder\n",
        "\n",
        "def value_iteration_v(mdp: MazeMDPEnv, render: bool = True) -> Tuple[np.ndarray, List[float]]:  # pour quoi retourner la nrme de v!! \n",
        "    # Value Iteration using the state value v\n",
        "    v = np.zeros(mdp.nb_states)  # initial state values are set to 0\n",
        "    v_list = []\n",
        "    stop = False\n",
        "\n",
        "    video_recorder = VideoRecorder(mdp, \"videos/ValueIterationV.mp4\", enabled=render)\n",
        "    mdp.set_title(\"Value iteration V\")\n",
        "    if render:\n",
        "        mdp.render()\n",
        "        video_recorder.capture_frame()\n",
        "    mdp.set_render_func(mdp.draw_v, lambda draw: draw(v))\n",
        "\n",
        "    while not stop:\n",
        "        v_old = v.copy()\n",
        "        if render:\n",
        "            mdp.render()\n",
        "            video_recorder.capture_frame()\n",
        "\n",
        "        for x in range(mdp.nb_states):  # for each state x\n",
        "            # Compute the value of the state x for each action u of the MDP action space\n",
        "            if x not in mdp.terminal_states:\n",
        "                v_temp = []\n",
        "                for u in mdp.action_space.actions:\n",
        "                    # Process sum of the values of the neighbouring states\n",
        "                    summ = 0\n",
        "                    for y in range(mdp.nb_states):\n",
        "                        summ = summ + mdp.P[x, u, y] * v_old[y]\n",
        "                    v_temp.append(mdp.r[x, u] + mdp.gamma * summ)\n",
        "\n",
        "                # Select the highest state value among those computed\n",
        "                v[x] = np.max(v_temp)\n",
        "\n",
        "        # Test if convergence has been reached\n",
        "        if (np.linalg.norm(v - v_old)) < 0.01:\n",
        "            stop = True\n",
        "        v_list.append(np.linalg.norm(v))\n",
        "\n",
        "    if render:\n",
        "        policy = get_policy_from_v(mdp, v)\n",
        "        mdp.set_render_func(mdp.draw_v_pi, lambda draw: draw(v, policy))\n",
        "        mdp.render()\n",
        "        video_recorder.capture_frame()\n",
        "\n",
        "\n",
        "    video_recorder.close()\n",
        "    return v, v_list"
      ]
    },
    {
      "cell_type": "markdown",
      "id": "21abe348",
      "metadata": {
        "id": "21abe348"
      },
      "source": [
        "Let us run it on the previously defined MDP"
      ]
    },
    {
      "cell_type": "code",
      "execution_count": null,
      "id": "e6537508",
      "metadata": {
        "id": "e6537508",
        "colab": {
          "base_uri": "https://localhost:8080/",
          "height": 377,
          "referenced_widgets": [
            "9bc711f3042e45b59eec7622fdea8c56",
            "04e19cf5ab2a4b368cc4b8ca0ecf2aa1"
          ]
        },
        "outputId": "2aacf218-f870-4194-cc1f-29a20b9b16b1"
      },
      "outputs": [
        {
          "output_type": "display_data",
          "data": {
            "text/plain": [
              "Output()"
            ],
            "application/vnd.jupyter.widget-view+json": {
              "version_major": 2,
              "version_minor": 0,
              "model_id": "9bc711f3042e45b59eec7622fdea8c56"
            }
          },
          "metadata": {}
        }
      ],
      "source": [
        "v, v_list = value_iteration_v(env, render=True)"
      ]
    },
    {
      "cell_type": "code",
      "execution_count": null,
      "id": "1f1d4212",
      "metadata": {
        "id": "1f1d4212",
        "colab": {
          "base_uri": "https://localhost:8080/",
          "height": 422
        },
        "outputId": "4f6be5e1-6960-4a83-db20-3a9fcc21a185"
      },
      "outputs": [
        {
          "output_type": "display_data",
          "data": {
            "text/plain": [
              "<IPython.core.display.HTML object>"
            ],
            "text/html": [
              "<video alt=\"videos/ValueIterationV.mp4\" autoplay\n",
              "                    loop controls style=\"height: 400px;\">\n",
              "                    <source src=\"data:video/mp4;base64,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\" type=\"video/mp4\" />\n",
              "                </video>"
            ]
          },
          "metadata": {}
        }
      ],
      "source": [
        "# display(Video(filename=\"./videos/ValueIterationV.mp4\"))\n",
        "show_videos(\"videos/\", prefix=\"ValueIterationV\")"
      ]
    },
    {
      "cell_type": "markdown",
      "id": "373063a5",
      "metadata": {
        "id": "373063a5"
      },
      "source": [
        "### Value iteration with the $Q$ function ###"
      ]
    },
    {
      "cell_type": "markdown",
      "id": "bbd998ff",
      "metadata": {
        "id": "bbd998ff"
      },
      "source": [
        "\n",
        "The state-action value function $Q^{\\pi}(s,a)$ defines the value of being in state $s$, taking action $a$ then following policy $\\pi$. The Bellman Optimality Equation for $Q^*$ is\n",
        "$$ Q^*(s,a) =  r(s,a) + \\gamma \\sum_{y} P(s,a,y) \\max_{a'}Q^*(y,a'). $$ \n"
      ]
    },
    {
      "cell_type": "markdown",
      "id": "01b93050",
      "metadata": {
        "id": "01b93050"
      },
      "source": [
        "**Question:** By taking inspiration from the `value_iteration_v(mdp)` function above, fill the blank (given with '\\#Q[x,u]=...') in the code of `value_iteration_q(mdp)`."
      ]
    },
    {
      "cell_type": "code",
      "execution_count": null,
      "id": "5e6ca7f2",
      "metadata": {
        "id": "5e6ca7f2"
      },
      "outputs": [],
      "source": [
        "\n",
        "# ------------------ Value Iteration with the Q function ---------------------#\n",
        "# Given a MDP, this algorithm computes the optimal action value function Q\n",
        "# It then derives the optimal policy based on this function\n",
        "\n",
        "\n",
        "def value_iteration_q(mdp: MazeMDPEnv, render: bool = True) -> Tuple[np.ndarray, List[float]]:\n",
        "    q = np.zeros((mdp.nb_states, mdp.action_space.size))  # initial action values are set to 0\n",
        "    q_list = []\n",
        "    stop = False\n",
        "\n",
        "    \n",
        "\n",
        "    if render:\n",
        "        mdp.init_draw(\"Value iteration Q\")\n",
        "\n",
        "    while not stop:\n",
        "        qold = q.copy()\n",
        "\n",
        "        if render:\n",
        "            mdp.draw_v(q, title=\"Value iteration Q\")\n",
        "\n",
        "        for x in range(mdp.nb_states):\n",
        "            if x not in mdp.terminal_states:\n",
        "                for u in mdp.action_space.actions:\n",
        "                    summ = 0\n",
        "                    for y in range(mdp.nb_states):\n",
        "                        summ += mdp.P[x, u, y] * np.max(qold[y, :])\n",
        "\n",
        "                    q[x, u] = mdp.r[x, u] + mdp.gamma * summ\n",
        "                    \n",
        "        if (np.linalg.norm(q - qold)) <= 0.01:\n",
        "            stop = True\n",
        "        q_list.append(np.linalg.norm(q))\n",
        "\n",
        "    if render:\n",
        "        mdp.draw_v(q, title=\"Value iteration Q\")\n",
        "        mdp.mdp.plotter.video_writer.release()\n",
        "\n",
        "    return q, q_list\n"
      ]
    },
    {
      "cell_type": "markdown",
      "id": "aa309999",
      "metadata": {
        "id": "aa309999"
      },
      "source": [
        "Once you are done, run it."
      ]
    },
    {
      "cell_type": "code",
      "execution_count": null,
      "id": "498a59bb",
      "metadata": {
        "id": "498a59bb",
        "colab": {
          "base_uri": "https://localhost:8080/",
          "height": 377,
          "referenced_widgets": [
            "4985cdc5d58541db8ed76038993599e3",
            "626be1a61a4e4e6b8125ece85814d22f"
          ]
        },
        "outputId": "02425e43-80f4-49cc-af82-a29906c49b75"
      },
      "outputs": [
        {
          "output_type": "display_data",
          "data": {
            "text/plain": [
              "Output()"
            ],
            "application/vnd.jupyter.widget-view+json": {
              "version_major": 2,
              "version_minor": 0,
              "model_id": "4985cdc5d58541db8ed76038993599e3"
            }
          },
          "metadata": {}
        }
      ],
      "source": [
        "q, q_list = value_iteration_q(env, render=True)"
      ]
    },
    {
      "cell_type": "code",
      "execution_count": null,
      "id": "e26c035d",
      "metadata": {
        "id": "e26c035d",
        "colab": {
          "base_uri": "https://localhost:8080/",
          "height": 439
        },
        "outputId": "75578b74-c829-4477-de3e-4fa239a190e8"
      },
      "outputs": [
        {
          "output_type": "stream",
          "name": "stdout",
          "text": [
            "Converting videos/ValueiterationQ.avi\n"
          ]
        },
        {
          "output_type": "display_data",
          "data": {
            "text/plain": [
              "<IPython.core.display.HTML object>"
            ],
            "text/html": [
              "<video alt=\"videos/ValueiterationQ.mp4\" autoplay\n",
              "                    loop controls style=\"height: 400px;\">\n",
              "                    <source src=\"data:video/mp4;base64,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\" type=\"video/mp4\" />\n",
              "                </video>"
            ]
          },
          "metadata": {}
        }
      ],
      "source": [
        "show_videos(\"videos/\", prefix=\"ValueiterationQ\")"
      ]
    },
    {
      "cell_type": "markdown",
      "id": "8aeb2d98",
      "metadata": {
        "id": "8aeb2d98"
      },
      "source": [
        "## Policy Iteration ##"
      ]
    },
    {
      "cell_type": "markdown",
      "id": "718b388b",
      "metadata": {
        "id": "718b388b"
      },
      "source": [
        "\n",
        "The **policy iteration** algorithm is more complicated than **value iteration**.\n",
        "Given a MDP and a policy $\\pi$, **policy iteration** iterates the following steps: \n",
        "\n",
        "*   Evaluate policy $\\pi$: compute $V$ or $Q$ based on the policy $\\pi$;\n",
        "*   Improve policy $\\pi$: compute a better policy based on $V$ or $Q$.\n",
        "\n",
        "This process is repeated until convergence, i.e. when the policy cannot be improved anymore.\n"
      ]
    },
    {
      "cell_type": "markdown",
      "id": "d2d4902e",
      "metadata": {
        "id": "d2d4902e"
      },
      "source": [
        "### Policy iteration with the $V$ function ###"
      ]
    },
    {
      "cell_type": "markdown",
      "id": "59b1e121",
      "metadata": {
        "id": "59b1e121"
      },
      "source": [
        "When using $V$, $V^{\\pi}(s)$ is the expected return when starting from state $s$ and following policy $\\pi$. It is processed based on the Bellman Optimality Equation for deterministic policies:\n",
        "\n",
        "$$V^\\pi(s) = r(s, \\pi(s)) + \\gamma \\sum_{y \\in S}P(s, \\pi(s), y)V^\\pi(y),$$\n",
        "\n",
        "\n",
        "where:\n",
        "\n",
        "*   $\\pi$ is a deterministic policy, meaning that in a state $s$, the agent always selects the same action,\n",
        "*   $V^\\pi(y)$ is the value of the state $y$ under policy $\\pi$.\n",
        "\n",
        "\n",
        "Thus, given a policy $\\pi$, one must first compute its value function $V^\\pi(s)$ for all states $s$ iterating the Bellman Optimality Equation until convergence, that is using **value iteration**.\n",
        "Then, one must determine if policy $\\pi$ can be improved based on $V$. For that, in each state $s$, one can compute the Q-value $Q(s,a)$ of applying action $a$ and then following policy $\\pi$ based on the just computed $V^\\pi$, and replace the action $\\pi(s)$ with $\\arg\\max_a Q(s,a)$.\n"
      ]
    },
    {
      "cell_type": "markdown",
      "id": "1c3426e8",
      "metadata": {
        "id": "1c3426e8"
      },
      "source": [
        "\n",
        "In order to facilitate the coding of **policy iteration** algorithms, we first define a set of useful functions.\n",
        "\n",
        "The `improve_policy_from_v(mdp, v, policy)` function is very similar to the `get_policy_from_v(v)` function which was given above. The main difference is that it takes a policy as argument and improves this policy when possible, thus is is more in the spirit of the `policy improvement` step of **policy iteration**. But both functions can be used interchangeably.\n",
        "\n",
        "The functions `evaluate_one_step_v(mdp, v, policy)`, where `mdp` is a given MDP, `v` is some value function in this MDP and `policy` is some policy and the function `evaluate_v(mdp, policy)` are also given. These functions are used to build the value function $V^\\pi$ corresponding to policy $\\pi$.\n"
      ]
    },
    {
      "cell_type": "code",
      "execution_count": null,
      "id": "9494bb71",
      "metadata": {
        "id": "9494bb71"
      },
      "outputs": [],
      "source": [
        "def improve_policy_from_v(mdp: MazeMDPEnv, v: np.ndarray, policy: np.ndarray) -> np.ndarray:\n",
        "    # Improves a policy given the state values\n",
        "    for x in range(mdp.nb_states):  # for each state x\n",
        "        # Compute the value of the state x for each action u of the MDP action space\n",
        "        if x not in mdp.terminal_states:\n",
        "            v_temp = np.zeros(mdp.action_space.size) \n",
        "            for u in mdp.action_space.actions:\n",
        "                # Process sum of the values of the neighbouring states\n",
        "                summ = 0\n",
        "                for y in range(mdp.nb_states):\n",
        "                    summ = summ + mdp.P[x, u, y] * v[y]\n",
        "                v_temp[u] = mdp.r[x, u] + mdp.gamma * summ\n",
        "\n",
        "            for u in mdp.action_space.actions:\n",
        "                if v_temp[u] > v_temp[policy[x]]:\n",
        "                    policy[x] = u\n",
        "    return policy"
      ]
    },
    {
      "cell_type": "code",
      "execution_count": null,
      "id": "b1fee20f",
      "metadata": {
        "id": "b1fee20f"
      },
      "outputs": [],
      "source": [
        "def evaluate_one_step_v(mdp: MazeMDPEnv, v: np.ndarray, policy: np.ndarray) -> np.ndarray:\n",
        "    # Outputs the state value function after one step of policy evaluation\n",
        "    # Corresponds to one application of the Bellman Operator\n",
        "    v_new = np.zeros(mdp.nb_states)  # initial state values are set to 0\n",
        "    for x in range(mdp.nb_states):  # for each state x\n",
        "        # Compute the value of the state x for each action u of the MDP action space\n",
        "        if x not in mdp.terminal_states:\n",
        "            # Process sum of the values of the neighbouring states\n",
        "            summ = 0\n",
        "            for y in range(mdp.nb_states):\n",
        "                summ = summ + mdp.P[x, policy[x], y] * v[y]\n",
        "            v_new[x] = mdp.r[x, policy[x]] + mdp.gamma * summ\n",
        "    return v_new\n"
      ]
    },
    {
      "cell_type": "code",
      "execution_count": null,
      "id": "7ffb8471",
      "metadata": {
        "id": "7ffb8471"
      },
      "outputs": [],
      "source": [
        "def evaluate_v(mdp: MazeMDPEnv, policy: np.ndarray) -> np.ndarray:\n",
        "    # Outputs the state value function of a policy\n",
        "    v = np.zeros(mdp.nb_states)  # initial state values are set to 0\n",
        "    stop = False\n",
        "    while not stop:\n",
        "        vold = v.copy()\n",
        "        v = evaluate_one_step_v(mdp, vold, policy)\n",
        "        \n",
        "        # Test if convergence has been reached\n",
        "        if (np.linalg.norm(v - vold)) < 0.01:\n",
        "            stop = True\n",
        "    return v\n"
      ]
    },
    {
      "cell_type": "markdown",
      "id": "ae418405",
      "metadata": {
        "id": "ae418405"
      },
      "source": [
        "To perform **policy iteration** we also need an initial random policy."
      ]
    },
    {
      "cell_type": "code",
      "execution_count": null,
      "id": "0a1ed24b",
      "metadata": {
        "id": "0a1ed24b"
      },
      "outputs": [],
      "source": [
        "from mazemdp import random_policy"
      ]
    },
    {
      "cell_type": "markdown",
      "id": "a693d216",
      "metadata": {
        "id": "a693d216"
      },
      "source": [
        "**Question:** By using the above functions, fill the code of the `policy_iteration_v(mdp)` function below."
      ]
    },
    {
      "cell_type": "code",
      "execution_count": null,
      "id": "67958517",
      "metadata": {
        "id": "67958517"
      },
      "outputs": [],
      "source": [
        "# ---------------- Policy Iteration with the V function -----------------#\n",
        "# Given an MDP, this algorithm simultaneously computes \n",
        "# the optimal state value function V and the optimal policy\n",
        "\n",
        "def policy_iteration_v(mdp: MazeMDPEnv, render: bool = True) -> Tuple[np.ndarray, List[float]]:\n",
        "    # policy iteration over the v function\n",
        "    v = np.zeros(mdp.nb_states)  # initial state values are set to 0\n",
        "    v_list = []\n",
        "    policy = random_policy(mdp)\n",
        "\n",
        "    stop = False\n",
        "\n",
        "    if render:\n",
        "        mdp.init_draw(\"Policy iteration V\")\n",
        "\n",
        "    while not stop:\n",
        "        vold = v.copy()\n",
        "        # Step 1 : Policy Evaluation\n",
        "        v = evaluate_v(mdp, policy)\n",
        "\n",
        "        if render:\n",
        "            mdp.draw_v_pi(v, policy, title=\"Policy iteration V\")\n",
        "\n",
        "        # Step 2 : Policy Improvement\n",
        "        policy = improve_policy_from_v(mdp, v, policy)\n",
        "        \n",
        "        # Check convergence\n",
        "        if (np.linalg.norm(v - vold)) < 0.01:\n",
        "            stop = True\n",
        "        v_list.append(np.linalg.norm(v))\n",
        "\n",
        "    if render:\n",
        "        mdp.draw_v_pi(v, policy, title=\"Policy iteration V\")\n",
        "        mdp.mdp.plotter.video_writer.release()\n",
        "\n",
        "    return v, v_list\n"
      ]
    },
    {
      "cell_type": "markdown",
      "id": "e39a654f",
      "metadata": {
        "id": "e39a654f"
      },
      "source": [
        "And finally run it."
      ]
    },
    {
      "cell_type": "code",
      "execution_count": null,
      "id": "ecf2732b",
      "metadata": {
        "id": "ecf2732b",
        "colab": {
          "base_uri": "https://localhost:8080/",
          "height": 377,
          "referenced_widgets": [
            "787efd96575743ee81270090c7113ad6",
            "f489efb1d69e4705ac000641e46327d6"
          ]
        },
        "outputId": "10d74721-02a5-48a6-b349-6c1382ed1183"
      },
      "outputs": [
        {
          "output_type": "display_data",
          "data": {
            "text/plain": [
              "Output()"
            ],
            "application/vnd.jupyter.widget-view+json": {
              "version_major": 2,
              "version_minor": 0,
              "model_id": "787efd96575743ee81270090c7113ad6"
            }
          },
          "metadata": {}
        }
      ],
      "source": [
        "v, v_list = policy_iteration_v(env, render=True)"
      ]
    },
    {
      "cell_type": "code",
      "execution_count": null,
      "id": "27b0cfbb",
      "metadata": {
        "id": "27b0cfbb",
        "colab": {
          "base_uri": "https://localhost:8080/",
          "height": 439
        },
        "outputId": "12840eab-c7d7-476d-a699-b0e4d50abf77"
      },
      "outputs": [
        {
          "output_type": "stream",
          "name": "stdout",
          "text": [
            "Converting videos/PolicyiterationV.avi\n"
          ]
        },
        {
          "output_type": "display_data",
          "data": {
            "text/plain": [
              "<IPython.core.display.HTML object>"
            ],
            "text/html": [
              "<video alt=\"videos/PolicyiterationV.mp4\" autoplay\n",
              "                    loop controls style=\"height: 400px;\">\n",
              "                    <source src=\"data:video/mp4;base64,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\" type=\"video/mp4\" />\n",
              "                </video>"
            ]
          },
          "metadata": {}
        }
      ],
      "source": [
        "show_videos(\"videos/\", prefix=\"PolicyiterationV\")"
      ]
    },
    {
      "cell_type": "markdown",
      "id": "dedd92b3",
      "metadata": {
        "id": "dedd92b3"
      },
      "source": [
        "### Policy iteration with the $Q$ function ###"
      ]
    },
    {
      "cell_type": "markdown",
      "id": "49e11516",
      "metadata": {
        "id": "49e11516"
      },
      "source": [
        "\n",
        "The **policy iteration** algorithm with the $Q$ function is the same as with the $V$ function, but the policy improvement step is more straightforward.\n",
        "\n",
        "When using $Q$, the Bellman Optimality Equation with deterministic policy $\\pi$ for $Q$ becomes: \n",
        "$$Q^{\\pi}(s,a) = r(s,a) + \\gamma \\sum_{y \\in S}P(s,a,y)Q^{\\pi}(y,\\pi(y)).$$\n",
        "\n",
        "The policy can then be updated as follows:\n",
        "$$\\pi^{(t+1)}(s) = \\arg\\max_aQ^{\\pi^{(t)}}(s,a).$$\n"
      ]
    },
    {
      "cell_type": "markdown",
      "id": "f6bbc271",
      "metadata": {
        "id": "f6bbc271"
      },
      "source": [
        "First, we need to determine a policy from the $Q$ function."
      ]
    },
    {
      "cell_type": "markdown",
      "id": "bf293b53",
      "metadata": {
        "id": "bf293b53"
      },
      "source": [
        "**Question:**  fill the `get_policy_from_q(q)` function, where $q$ is the state-action value function."
      ]
    },
    {
      "cell_type": "code",
      "execution_count": null,
      "id": "a09bb775",
      "metadata": {
        "id": "a09bb775"
      },
      "outputs": [],
      "source": [
        "def get_policy_from_q(q: np.ndarray) -> np.ndarray:\n",
        "    return np.argmax(q, axis=1)"
      ]
    },
    {
      "cell_type": "markdown",
      "id": "01c23518",
      "metadata": {
        "id": "01c23518"
      },
      "source": [
        "**Question:** By drawing inspiration on the functions give with the $v$ function, fill the code of the `evaluate_one_step_q(mdp, q, policy)` function below, where $q$ is some action value function, and the `evaluate_q(mdp, policy)` function."
      ]
    },
    {
      "cell_type": "code",
      "execution_count": null,
      "id": "00e08a5e",
      "metadata": {
        "id": "00e08a5e"
      },
      "outputs": [],
      "source": [
        "def evaluate_one_step_q(mdp: MazeMDPEnv, q: np.ndarray, policy: np.ndarray) -> np.ndarray:\n",
        "    # Outputs the state value function after one step of policy evaluation\n",
        "    qnew = np.zeros((mdp.nb_states, mdp.action_space.size))  # initial action values are set to 0\n",
        "    for x in range(mdp.nb_states):  # for each state x\n",
        "        # Compute the value of the state x for each action u of the MDP action space\n",
        "        if x not in mdp.terminal_states:\n",
        "            for u in mdp.action_space.actions:\n",
        "                # Process sum of the values of the neighbouring states\n",
        "                summ = 0\n",
        "                for y in range(mdp.nb_states):\n",
        "                    summ += mdp.P[x, u, y] * q[y, policy[y]]\n",
        "                qnew[x, u] = mdp.r[x, u] + mdp.gamma * summ\n",
        "    return qnew\n"
      ]
    },
    {
      "cell_type": "code",
      "execution_count": null,
      "id": "b81a2f29",
      "metadata": {
        "id": "b81a2f29"
      },
      "outputs": [],
      "source": [
        "def evaluate_q(mdp: MazeMDPEnv, policy: np.ndarray) -> np.ndarray:\n",
        "    # Outputs the state value function of a policy\n",
        "    q = np.zeros((mdp.nb_states, mdp.action_space.size))  # initial action values are set to 0\n",
        "    stop = False\n",
        "    while not stop:\n",
        "        qold = q.copy()\n",
        "        q = evaluate_one_step_q(mdp, qold, policy)\n",
        "\n",
        "        # Test if convergence has been reached\n",
        "        if (np.linalg.norm(q - qold)) < 0.01:\n",
        "            stop = True\n",
        "    return q"
      ]
    },
    {
      "cell_type": "markdown",
      "id": "110af1dc",
      "metadata": {
        "id": "110af1dc"
      },
      "source": [
        "**Question:** By using the above functions, fill the code of the `policy_iteration_q(mdp)` function below."
      ]
    },
    {
      "cell_type": "code",
      "execution_count": null,
      "id": "f05f1b28",
      "metadata": {
        "id": "f05f1b28"
      },
      "outputs": [],
      "source": [
        "\n",
        "# ---------------- Policy Iteration with the Q function -----------------#\n",
        "# Given a MDP, this algorithm simultaneously computes \n",
        "# the optimal action value function Q and the optimal policy\n",
        "\n",
        "def policy_iteration_q(mdp: MazeMDPEnv, render: bool = True) -> Tuple[np.ndarray, List[float]]:\n",
        "    \"\"\"policy iteration over the q function.\"\"\"\n",
        "    q = np.zeros((mdp.nb_states, mdp.action_space.size))  # initial action values are set to 0\n",
        "    q_list = []\n",
        "    policy = random_policy(mdp)\n",
        "\n",
        "    stop = False\n",
        "\n",
        "    if render:\n",
        "        mdp.init_draw(\"Policy iteration Q\")\n",
        "\n",
        "    while not stop:\n",
        "        qold = q.copy()\n",
        "\n",
        "        if render:\n",
        "            mdp.draw_v(q, title=\"Policy iteration Q\")\n",
        "\n",
        "        # Step 1 : Policy evaluation\n",
        "        q = evaluate_q(mdp, policy)\n",
        "\n",
        "        # Step 2 : Policy improvement\n",
        "        policy = get_policy_from_q(q) # improve_policy_from_q(mdp, qold, policy)\n",
        "\n",
        "        # Check convergence\n",
        "        if (np.linalg.norm(q - qold)) <= 0.01:\n",
        "            stop = True\n",
        "        q_list.append(np.linalg.norm(q))\n",
        "\n",
        "    if render:\n",
        "        mdp.draw_v_pi(q, get_policy_from_q(q), title=\"Policy iteration Q\")\n",
        "    return q, q_list\n"
      ]
    },
    {
      "cell_type": "markdown",
      "id": "c01d089d",
      "metadata": {
        "id": "c01d089d"
      },
      "source": [
        "Finally, run it."
      ]
    },
    {
      "cell_type": "code",
      "execution_count": null,
      "id": "d197c871",
      "metadata": {
        "id": "d197c871",
        "colab": {
          "base_uri": "https://localhost:8080/",
          "height": 377,
          "referenced_widgets": [
            "1083328e83de48e785a1653c8149c5cb",
            "eb2d62b4955b490f9e95df5524e6d195"
          ]
        },
        "outputId": "00fdfe49-cd3d-40e5-f2b3-089fae416a4c"
      },
      "outputs": [
        {
          "output_type": "display_data",
          "data": {
            "text/plain": [
              "Output()"
            ],
            "application/vnd.jupyter.widget-view+json": {
              "version_major": 2,
              "version_minor": 0,
              "model_id": "1083328e83de48e785a1653c8149c5cb"
            }
          },
          "metadata": {}
        }
      ],
      "source": [
        "q, q_list = policy_iteration_q(env, render=True)"
      ]
    },
    {
      "cell_type": "code",
      "execution_count": null,
      "id": "0a940e78",
      "metadata": {
        "id": "0a940e78",
        "colab": {
          "base_uri": "https://localhost:8080/",
          "height": 34
        },
        "outputId": "e7c2ed1b-9bf2-4cad-e77c-bea7a3bee00c"
      },
      "outputs": [
        {
          "output_type": "stream",
          "name": "stdout",
          "text": [
            "Converting videos/PolicyiterationQ.avi\n"
          ]
        },
        {
          "output_type": "display_data",
          "data": {
            "text/plain": [
              "<IPython.core.display.HTML object>"
            ],
            "text/html": []
          },
          "metadata": {}
        }
      ],
      "source": [
        "show_videos(\"videos/\", prefix=\"PolicyiterationQ\")"
      ]
    },
    {
      "cell_type": "markdown",
      "id": "77454445",
      "metadata": {
        "id": "77454445"
      },
      "source": [
        "### Study part: Experimental comparisons"
      ]
    },
    {
      "cell_type": "markdown",
      "id": "cca5885f",
      "metadata": {
        "id": "cca5885f"
      },
      "source": [
        "We will now compare the efficiency of the various dynamic programming methods using either the $V$ or the  $Q$ functions.\n",
        "\n",
        "In all your dymanic programming functions, add code to count the number of iterations and the number of elementary $V$ or $Q$ updates. Use the provided `mazemdp.Chrono` class to measure the time taken. You may generate various mazes of various sizes to figure out the influence of the maze topology.\n",
        "\n",
        "Build a table where you compare the various dymanic programming functions in terms of iterations, elementary operations and time taken.\n",
        "\n",
        "You can run the `plot_convergence_vi_pi(...)` function provided below to visualize the convergence of the various algorithms.\n"
      ]
    },
    {
      "cell_type": "code",
      "execution_count": null,
      "id": "3dbf1697",
      "metadata": {
        "id": "3dbf1697"
      },
      "outputs": [],
      "source": [
        "\n",
        "# ---- plot learning curves of Q-Learning and Sarsa using epsilon-greedy and softmax -----#\n",
        "\n",
        "def plot_convergence_vi_pi(m, render):\n",
        "    v, v_list1 = value_iteration_v(m, render)\n",
        "    q, q_list1 = value_iteration_q(m, render)\n",
        "    v, v_list2 = policy_iteration_v(m, render)\n",
        "    q, q_list2 = policy_iteration_q(m, render)\n",
        "\n",
        "    plt.plot(range(len(v_list1)), v_list1, label='value_iteration_v')\n",
        "    plt.plot(range(len(q_list1)), q_list1, label='value_iteration_q')\n",
        "    plt.plot(range(len(v_list2)), v_list2, label='policy_iteration_v')\n",
        "    plt.plot(range(len(q_list2)), q_list2, label='policy_iteration_q')\n",
        "\n",
        "    plt.xlabel('Number of episodes')\n",
        "    plt.ylabel('Norm of V or Q value')\n",
        "    plt.legend(loc='upper right')\n",
        "    # plt.savefig(\"comparison_DP.png\")\n",
        "    plt.title(\"Comparison of convergence rates\")\n",
        "    plt.show()"
      ]
    },
    {
      "cell_type": "markdown",
      "id": "d84b16d5",
      "metadata": {
        "id": "d84b16d5"
      },
      "source": [
        "**Question:** Run the code below and visualize the results of the different algorithms"
      ]
    },
    {
      "cell_type": "code",
      "execution_count": null,
      "id": "1b22c238",
      "metadata": {
        "id": "1b22c238",
        "colab": {
          "base_uri": "https://localhost:8080/",
          "height": 295
        },
        "outputId": "bf6d36c0-aa6d-411b-c87a-d4602b9905cf"
      },
      "outputs": [
        {
          "output_type": "display_data",
          "data": {
            "text/plain": [
              "<Figure size 432x288 with 1 Axes>"
            ],
            "image/png": "[encoded data removed]"
          },
          "metadata": {
            "needs_background": "light"
          }
        }
      ],
      "source": [
        "plot_convergence_vi_pi(env, False)\n"
      ]
    },
    {
      "cell_type": "markdown",
      "id": "9a7a492f",
      "metadata": {
        "id": "9a7a492f"
      },
      "source": [
        "\n",
        "Given the results above, discuss the relative computational efficiency of these methods."
      ]
    },
    {
      "cell_type": "markdown",
      "id": "c4a7297e",
      "metadata": {
        "id": "c4a7297e"
      },
      "source": [
        "### Study part: Generalized Policy Iteration"
      ]
    },
    {
      "cell_type": "markdown",
      "id": "a70adab3",
      "metadata": {
        "id": "a70adab3"
      },
      "source": [
        "Code the **generalized policy iteration** algorithm and study the influence of the number of evaluation steps between each improvement step"
      ]
    }
  ],
  "metadata": {
    "jupytext": {
      "formats": "ipynb,Rmd"
    },
    "kernelspec": {
      "display_name": "Python 3 (ipykernel)",
      "language": "python",
      "name": "python3"
    },
    "language_info": {
      "codemirror_mode": {
        "name": "ipython",
        "version": 3
      },
      "file_extension": ".py",
      "mimetype": "text/x-python",
      "name": "python",
      "nbconvert_exporter": "python",
      "pygments_lexer": "ipython3",
      "version": "3.10.4"
    },
    "vscode": {
      "interpreter": {
        "hash": "6e884070700a07b2f65153b26d66f81de9f18181d58025abdb2edf229e421bcd"
      }
    },
    "colab": {
      "provenance": [],
      "collapsed_sections": []
    },
    "widgets": {
      "application/vnd.jupyter.widget-state+json": {
        "f19d976945fe4b739757d76091db56bd": {
          "model_module": "@jupyter-widgets/output",
          "model_name": "OutputModel",
          "model_module_version": "1.0.0",
          "state": {
            "_dom_classes": [],
            "_model_module": "@jupyter-widgets/output",
            "_model_module_version": "1.0.0",
            "_model_name": "OutputModel",
            "_view_count": null,
            "_view_module": "@jupyter-widgets/output",
            "_view_module_version": "1.0.0",
            "_view_name": "OutputView",
            "layout": "IPY_MODEL_696d148e1e6a472a993ee26b7fb5344c",
            "msg_id": "",
            "outputs": [
              {
                "output_type": "display_data",
                "data": {
                  "image/png": "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\n",
                  "text/plain": "<IPython.core.display.Image object>"
                },
                "metadata": {}
              }
            ]
          }
        },
        "696d148e1e6a472a993ee26b7fb5344c": {
          "model_module": "@jupyter-widgets/base",
          "model_name": "LayoutModel",
          "model_module_version": "1.2.0",
          "state": {
            "_model_module": "@jupyter-widgets/base",
            "_model_module_version": "1.2.0",
            "_model_name": "LayoutModel",
            "_view_count": null,
            "_view_module": "@jupyter-widgets/base",
            "_view_module_version": "1.2.0",
            "_view_name": "LayoutView",
            "align_content": null,
            "align_items": null,
            "align_self": null,
            "border": null,
            "bottom": null,
            "display": null,
            "flex": null,
            "flex_flow": null,
            "grid_area": null,
            "grid_auto_columns": null,
            "grid_auto_flow": null,
            "grid_auto_rows": null,
            "grid_column": null,
            "grid_gap": null,
            "grid_row": null,
            "grid_template_areas": null,
            "grid_template_columns": null,
            "grid_template_rows": null,
            "height": null,
            "justify_content": null,
            "justify_items": null,
            "left": null,
            "margin": null,
            "max_height": null,
            "max_width": null,
            "min_height": null,
            "min_width": null,
            "object_fit": null,
            "object_position": null,
            "order": null,
            "overflow": null,
            "overflow_x": null,
            "overflow_y": null,
            "padding": null,
            "right": null,
            "top": null,
            "visibility": null,
            "width": null
          }
        },
        "9bc711f3042e45b59eec7622fdea8c56": {
          "model_module": "@jupyter-widgets/output",
          "model_name": "OutputModel",
          "model_module_version": "1.0.0",
          "state": {
            "_dom_classes": [],
            "_model_module": "@jupyter-widgets/output",
            "_model_module_version": "1.0.0",
            "_model_name": "OutputModel",
            "_view_count": null,
            "_view_module": "@jupyter-widgets/output",
            "_view_module_version": "1.0.0",
            "_view_name": "OutputView",
            "layout": "IPY_MODEL_04e19cf5ab2a4b368cc4b8ca0ecf2aa1",
            "msg_id": "",
            "outputs": [
              {
                "output_type": "display_data",
                "data": {
                  "image/png": "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\n",
                  "text/plain": "<IPython.core.display.Image object>"
                },
                "metadata": {}
              }
            ]
          }
        },
        "04e19cf5ab2a4b368cc4b8ca0ecf2aa1": {
          "model_module": "@jupyter-widgets/base",
          "model_name": "LayoutModel",
          "model_module_version": "1.2.0",
          "state": {
            "_model_module": "@jupyter-widgets/base",
            "_model_module_version": "1.2.0",
            "_model_name": "LayoutModel",
            "_view_count": null,
            "_view_module": "@jupyter-widgets/base",
            "_view_module_version": "1.2.0",
            "_view_name": "LayoutView",
            "align_content": null,
            "align_items": null,
            "align_self": null,
            "border": null,
            "bottom": null,
            "display": null,
            "flex": null,
            "flex_flow": null,
            "grid_area": null,
            "grid_auto_columns": null,
            "grid_auto_flow": null,
            "grid_auto_rows": null,
            "grid_column": null,
            "grid_gap": null,
            "grid_row": null,
            "grid_template_areas": null,
            "grid_template_columns": null,
            "grid_template_rows": null,
            "height": null,
            "justify_content": null,
            "justify_items": null,
            "left": null,
            "margin": null,
            "max_height": null,
            "max_width": null,
            "min_height": null,
            "min_width": null,
            "object_fit": null,
            "object_position": null,
            "order": null,
            "overflow": null,
            "overflow_x": null,
            "overflow_y": null,
            "padding": null,
            "right": null,
            "top": null,
            "visibility": null,
            "width": null
          }
        },
        "4985cdc5d58541db8ed76038993599e3": {
          "model_module": "@jupyter-widgets/output",
          "model_name": "OutputModel",
          "model_module_version": "1.0.0",
          "state": {
            "_dom_classes": [],
            "_model_module": "@jupyter-widgets/output",
            "_model_module_version": "1.0.0",
            "_model_name": "OutputModel",
            "_view_count": null,
            "_view_module": "@jupyter-widgets/output",
            "_view_module_version": "1.0.0",
            "_view_name": "OutputView",
            "layout": "IPY_MODEL_626be1a61a4e4e6b8125ece85814d22f",
            "msg_id": "",
            "outputs": [
              {
                "output_type": "display_data",
                "data": {
                  "image/png": "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\n",
                  "text/plain": "<IPython.core.display.Image object>"
                },
                "metadata": {}
              }
            ]
          }
        },
        "626be1a61a4e4e6b8125ece85814d22f": {
          "model_module": "@jupyter-widgets/base",
          "model_name": "LayoutModel",
          "model_module_version": "1.2.0",
          "state": {
            "_model_module": "@jupyter-widgets/base",
            "_model_module_version": "1.2.0",
            "_model_name": "LayoutModel",
            "_view_count": null,
            "_view_module": "@jupyter-widgets/base",
            "_view_module_version": "1.2.0",
            "_view_name": "LayoutView",
            "align_content": null,
            "align_items": null,
            "align_self": null,
            "border": null,
            "bottom": null,
            "display": null,
            "flex": null,
            "flex_flow": null,
            "grid_area": null,
            "grid_auto_columns": null,
            "grid_auto_flow": null,
            "grid_auto_rows": null,
            "grid_column": null,
            "grid_gap": null,
            "grid_row": null,
            "grid_template_areas": null,
            "grid_template_columns": null,
            "grid_template_rows": null,
            "height": null,
            "justify_content": null,
            "justify_items": null,
            "left": null,
            "margin": null,
            "max_height": null,
            "max_width": null,
            "min_height": null,
            "min_width": null,
            "object_fit": null,
            "object_position": null,
            "order": null,
            "overflow": null,
            "overflow_x": null,
            "overflow_y": null,
            "padding": null,
            "right": null,
            "top": null,
            "visibility": null,
            "width": null
          }
        },
        "787efd96575743ee81270090c7113ad6": {
          "model_module": "@jupyter-widgets/output",
          "model_name": "OutputModel",
          "model_module_version": "1.0.0",
          "state": {
            "_dom_classes": [],
            "_model_module": "@jupyter-widgets/output",
            "_model_module_version": "1.0.0",
            "_model_name": "OutputModel",
            "_view_count": null,
            "_view_module": "@jupyter-widgets/output",
            "_view_module_version": "1.0.0",
            "_view_name": "OutputView",
            "layout": "IPY_MODEL_f489efb1d69e4705ac000641e46327d6",
            "msg_id": "",
            "outputs": [
              {
                "output_type": "display_data",
                "data": {
                  "image/png": "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\n",
                  "text/plain": "<IPython.core.display.Image object>"
                },
                "metadata": {}
              }
            ]
          }
        },
        "f489efb1d69e4705ac000641e46327d6": {
          "model_module": "@jupyter-widgets/base",
          "model_name": "LayoutModel",
          "model_module_version": "1.2.0",
          "state": {
            "_model_module": "@jupyter-widgets/base",
            "_model_module_version": "1.2.0",
            "_model_name": "LayoutModel",
            "_view_count": null,
            "_view_module": "@jupyter-widgets/base",
            "_view_module_version": "1.2.0",
            "_view_name": "LayoutView",
            "align_content": null,
            "align_items": null,
            "align_self": null,
            "border": null,
            "bottom": null,
            "display": null,
            "flex": null,
            "flex_flow": null,
            "grid_area": null,
            "grid_auto_columns": null,
            "grid_auto_flow": null,
            "grid_auto_rows": null,
            "grid_column": null,
            "grid_gap": null,
            "grid_row": null,
            "grid_template_areas": null,
            "grid_template_columns": null,
            "grid_template_rows": null,
            "height": null,
            "justify_content": null,
            "justify_items": null,
            "left": null,
            "margin": null,
            "max_height": null,
            "max_width": null,
            "min_height": null,
            "min_width": null,
            "object_fit": null,
            "object_position": null,
            "order": null,
            "overflow": null,
            "overflow_x": null,
            "overflow_y": null,
            "padding": null,
            "right": null,
            "top": null,
            "visibility": null,
            "width": null
          }
        },
        "1083328e83de48e785a1653c8149c5cb": {
          "model_module": "@jupyter-widgets/output",
          "model_name": "OutputModel",
          "model_module_version": "1.0.0",
          "state": {
            "_dom_classes": [],
            "_model_module": "@jupyter-widgets/output",
            "_model_module_version": "1.0.0",
            "_model_name": "OutputModel",
            "_view_count": null,
            "_view_module": "@jupyter-widgets/output",
            "_view_module_version": "1.0.0",
            "_view_name": "OutputView",
            "layout": "IPY_MODEL_eb2d62b4955b490f9e95df5524e6d195",
            "msg_id": "",
            "outputs": [
              {
                "output_type": "display_data",
                "data": {
                  "image/png": "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\n",
                  "text/plain": "<IPython.core.display.Image object>"
                },
                "metadata": {}
              }
            ]
          }
        },
        "eb2d62b4955b490f9e95df5524e6d195": {
          "model_module": "@jupyter-widgets/base",
          "model_name": "LayoutModel",
          "model_module_version": "1.2.0",
          "state": {
            "_model_module": "@jupyter-widgets/base",
            "_model_module_version": "1.2.0",
            "_model_name": "LayoutModel",
            "_view_count": null,
            "_view_module": "@jupyter-widgets/base",
            "_view_module_version": "1.2.0",
            "_view_name": "LayoutView",
            "align_content": null,
            "align_items": null,
            "align_self": null,
            "border": null,
            "bottom": null,
            "display": null,
            "flex": null,
            "flex_flow": null,
            "grid_area": null,
            "grid_auto_columns": null,
            "grid_auto_flow": null,
            "grid_auto_rows": null,
            "grid_column": null,
            "grid_gap": null,
            "grid_row": null,
            "grid_template_areas": null,
            "grid_template_columns": null,
            "grid_template_rows": null,
            "height": null,
            "justify_content": null,
            "justify_items": null,
            "left": null,
            "margin": null,
            "max_height": null,
            "max_width": null,
            "min_height": null,
            "min_width": null,
            "object_fit": null,
            "object_position": null,
            "order": null,
            "overflow": null,
            "overflow_x": null,
            "overflow_y": null,
            "padding": null,
            "right": null,
            "top": null,
            "visibility": null,
            "width": null
          }
        }
      }
    }
  },
  "nbformat": 4,
  "nbformat_minor": 5
}