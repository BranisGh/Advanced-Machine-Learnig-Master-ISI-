{
 "cells": [
  {
   "cell_type": "code",
   "execution_count": null,
   "metadata": {},
   "outputs": [],
   "source": []
  },
  {
   "cell_type": "markdown",
   "metadata": {},
   "source": [
    "- Nom    :  GHOUL  \n",
    "- Prenom : Branis  \n",
    "- id     : 28612738  \n",
    "- Master : ISI  "
   ]
  },
  {
   "cell_type": "markdown",
   "metadata": {},
   "source": [
    "# Analyse des sentiments\n",
    "Il s'agit d'un exemple d'analyse des sentiments développée au-dessus de l'ensemble de données IMDb. L'ensemble de données IMDb contient le texte de `50 000` critiques de films de l'Internet Movie Database. Chaque avis est positif ou négatif (0 ou 1). L'ensemble de données est divisé en `25 000` avis pour la formation et `25 000` avis pour les tests. Notre objectif est de construire un classificateur capable de prédire le jugement binaire compte tenu du texte. Nous pouvons facilement charger IMDb via `tf.keraset` les séquences de mots dans les revues ont été converties en séquences d'entiers, où chaque entier représente un mot spécifique dans un dictionnaire. Nous avons égalementun moyen pratique de remplir les phrases en `max_len`, afin que nous puissions utiliser toutes les phrases, qu'elles soient courtes ou longues, comme entrées d'un réseau de neurones avec un vecteur d'entrée de taille fixe."
   ]
  },
  {
   "cell_type": "code",
   "execution_count": 7,
   "metadata": {},
   "outputs": [],
   "source": [
    "import tensorflow as tf\n",
    "from tensorflow.keras import datasets\n",
    "from tensorflow.keras.layers import Dense , Input , SimpleRNN, LSTM , Embedding, Dropout\n",
    "from attention import Attention\n",
    "from tensorflow.keras.layers import Bidirectional, GlobalMaxPool1D\n",
    "from tensorflow.keras.models import Model, Sequential\n",
    "from tensorflow.keras.layers import Convolution1D\n",
    "from tensorflow.keras.utils import pad_sequences\n",
    "from sklearn.metrics import accuracy_score \n",
    "from sklearn.metrics import confusion_matrix\n",
    "import tensorflow_datasets as tfds\n",
    "import matplotlib.pyplot as plt \n",
    "import numpy as np\n",
    "\n",
    "max_len = 100\n",
    "num_words = 5000\n",
    "dim_embedding = 128\n",
    "EPOCHS = 10\n",
    "BATCH_SIZE = 64"
   ]
  },
  {
   "cell_type": "code",
   "execution_count": 8,
   "metadata": {},
   "outputs": [],
   "source": [
    "# Importation dela dataset\n",
    "def load_data(num_words, max_len, truncating='post'):\n",
    "        # Load data.\n",
    "        (X_train, y_train), (X_test, y_test) = datasets.imdb.load_data(num_words=num_words,  maxlen=max_len)\n",
    "        # Pad sequences with max_len.\n",
    "        X_train = tf.keras.preprocessing.sequence.pad_sequences(X_train, maxlen=max_len, truncating=truncating)\n",
    "        X_test = tf.keras.preprocessing.sequence.pad_sequences(X_test, maxlen=max_len, truncating=truncating)\n",
    "        return (X_train, y_train), (X_test, y_test)\n",
    "\n",
    "\n",
    "# Fonctions utiles\n",
    "def plot_history(history):\n",
    "    plt.figure(figsize=(10, 5))\n",
    "    # On trace l'évolution de l'accuracy\n",
    "    plt.subplot(1,2,1)\n",
    "    plt.plot(history.history['accuracy'])\n",
    "    plt.plot(history.history['val_accuracy']) \n",
    "    plt.title('model accuracy')\n",
    "    plt.ylabel('accuracy')\n",
    "    plt.xlabel('epoch')\n",
    "    plt.legend(['train', 'test'], loc='upper left')\n",
    "\n",
    "    # On trace l'évolution de la loss\n",
    "    plt.subplot(1,2,2)\n",
    "    plt.plot(history.history['loss'])\n",
    "    plt.plot(history.history['val_loss'])\n",
    "    plt.title('model loss')\n",
    "    plt.ylabel('loss')\n",
    "    plt.xlabel('epoch')\n",
    "    plt.legend(['train', 'test'], loc='upper left')\n",
    "    plt.show()\n",
    "\n",
    "\n",
    "def pridiction(model, X_test, y_test, activation='sigmoid'):\n",
    "    # On prédit sur les données de test\n",
    "    y_hat = model.predict(X_test)\n",
    "\n",
    "    # On tranforme les prédictions en labels\n",
    "    y_pred = np.array(y_hat >= (0.5 if activation =='sigmoid' else 0)).astype(int)\n",
    "\n",
    "    # On importe les librairies pour l'évaluation\n",
    "    # On calcule la matrice de confusion\n",
    "    cm_test = confusion_matrix(y_test, y_pred)\n",
    "    print('La matrice de confusion sur le jeu de test :\\n', cm_test, '\\n')\n",
    "\n",
    "    # On calcul le score d accuracy\n",
    "    acc_train=accuracy_score(y_test, y_pred)\n",
    "    print('L accuracy sur le jeu de test est :\\n', acc_train)"
   ]
  },
  {
   "cell_type": "code",
   "execution_count": 9,
   "metadata": {},
   "outputs": [],
   "source": [
    "(X_train, y_train), (X_test, y_test) = load_data(num_words, max_len, truncating='post')"
   ]
  },
  {
   "cell_type": "markdown",
   "metadata": {},
   "source": [
    "# Simple RNN \n",
    "- dropout (avec un taux de 25% en sortie du RNN)\n",
    "- activation $softmax()$"
   ]
  },
  {
   "cell_type": "code",
   "execution_count": 48,
   "metadata": {},
   "outputs": [],
   "source": [
    "def build_SimpleRNN(num_words=5000, \n",
    "                    embed_size=128, \n",
    "                    RNN_size=64, \n",
    "                    loss='binary_crossentropy', \n",
    "                    optimizer='adam', \n",
    "                    metrics='accuracy'):\n",
    "    # Example d'architecture pour le réseau RNN simple avec dropout\n",
    "    model = Sequential()                                    \n",
    "    model.add(Embedding(num_words, embed_size))                 # layer embedding\n",
    "    model.add(SimpleRNN(RNN_size, return_sequences = False))    # layer RNN\n",
    "    model.add(Dropout(0.25))                                    # layer Dropout\n",
    "    model.add(Dense(1, activation='sigmoid'))                   # layer Dense\n",
    "\n",
    "    # On affiche l'architecture de notre modèle\n",
    "    model.summary()\n",
    "\n",
    "    # On spécifie la fonction de perte, l'optimiseur, et la fonction d'évaluation\n",
    "    model.compile(loss=loss, optimizer=optimizer, metrics=[metrics])\n",
    "    \n",
    "    return model"
   ]
  },
  {
   "cell_type": "code",
   "execution_count": 49,
   "metadata": {},
   "outputs": [
    {
     "name": "stdout",
     "output_type": "stream",
     "text": [
      "Model: \"sequential_8\"\n",
      "_________________________________________________________________\n",
      " Layer (type)                Output Shape              Param #   \n",
      "=================================================================\n",
      " embedding_8 (Embedding)     (None, None, 128)         640000    \n",
      "                                                                 \n",
      " simple_rnn_1 (SimpleRNN)    (None, 64)                12352     \n",
      "                                                                 \n",
      " dropout_4 (Dropout)         (None, 64)                0         \n",
      "                                                                 \n",
      " dense_6 (Dense)             (None, 1)                 65        \n",
      "                                                                 \n",
      "=================================================================\n",
      "Total params: 652,417\n",
      "Trainable params: 652,417\n",
      "Non-trainable params: 0\n",
      "_________________________________________________________________\n"
     ]
    }
   ],
   "source": [
    "SimpleRNN = build_SimpleRNN()\n",
    "SimpleRNN.compile(  optimizer = \"adam\", loss = \"binary_crossentropy\",\n",
    "                metrics = [\"accuracy\"]  )"
   ]
  },
  {
   "cell_type": "code",
   "execution_count": 50,
   "metadata": {},
   "outputs": [
    {
     "name": "stdout",
     "output_type": "stream",
     "text": [
      "Epoch 1/10\n",
      "44/44 [==============================] - 3s 37ms/step - loss: 0.6871 - accuracy: 0.5366 - val_loss: 0.6779 - val_accuracy: 0.5606\n",
      "Epoch 2/10\n",
      "44/44 [==============================] - 1s 34ms/step - loss: 0.4826 - accuracy: 0.8338 - val_loss: 0.6286 - val_accuracy: 0.6588\n",
      "Epoch 3/10\n",
      "44/44 [==============================] - 2s 44ms/step - loss: 0.1588 - accuracy: 0.9737 - val_loss: 0.6625 - val_accuracy: 0.6544\n",
      "Epoch 4/10\n",
      "44/44 [==============================] - 2s 46ms/step - loss: 0.0342 - accuracy: 0.9989 - val_loss: 0.6174 - val_accuracy: 0.7212\n",
      "Epoch 5/10\n",
      "44/44 [==============================] - 2s 40ms/step - loss: 0.0095 - accuracy: 1.0000 - val_loss: 0.6407 - val_accuracy: 0.7273\n",
      "Epoch 6/10\n",
      "44/44 [==============================] - 2s 38ms/step - loss: 0.0049 - accuracy: 1.0000 - val_loss: 0.6695 - val_accuracy: 0.7246\n",
      "Epoch 7/10\n",
      "44/44 [==============================] - 2s 39ms/step - loss: 0.0033 - accuracy: 1.0000 - val_loss: 0.6905 - val_accuracy: 0.7222\n",
      "Epoch 8/10\n",
      "44/44 [==============================] - 2s 40ms/step - loss: 0.0025 - accuracy: 1.0000 - val_loss: 0.7151 - val_accuracy: 0.7168\n",
      "Epoch 9/10\n",
      "44/44 [==============================] - 2s 40ms/step - loss: 0.0019 - accuracy: 1.0000 - val_loss: 0.7261 - val_accuracy: 0.7189\n",
      "Epoch 10/10\n",
      "44/44 [==============================] - 2s 40ms/step - loss: 0.0015 - accuracy: 1.0000 - val_loss: 0.7407 - val_accuracy: 0.7179\n",
      "47/47 [==============================] - 1s 12ms/step - loss: 0.7407 - accuracy: 0.7179\n"
     ]
    }
   ],
   "source": [
    "history_SimpleRNN = SimpleRNN.fit(X_train, y_train,\n",
    "                    epochs = EPOCHS,\n",
    "                    batch_size = BATCH_SIZE,\n",
    "                    validation_data = (X_test, y_test),\n",
    "                    validation_split = 0.2 )\n",
    "                    \n",
    "score_SimpleRNN = SimpleRNN.evaluate(X_test, y_test, batch_size=BATCH_SIZE)"
   ]
  },
  {
   "cell_type": "code",
   "execution_count": 51,
   "metadata": {},
   "outputs": [
    {
     "data": {
      "image/png": "[encoded data removed]",
      "text/plain": [
       "<Figure size 720x360 with 2 Axes>"
      ]
     },
     "metadata": {
      "needs_background": "light"
     },
     "output_type": "display_data"
    }
   ],
   "source": [
    "plot_history(history_SimpleRNN)"
   ]
  },
  {
   "cell_type": "code",
   "execution_count": 52,
   "metadata": {},
   "outputs": [
    {
     "name": "stdout",
     "output_type": "stream",
     "text": [
      "93/93 [==============================] - 1s 5ms/step\n",
      "La matrice de confusion sur le jeu de test :\n",
      " [[ 901  458]\n",
      " [ 378 1226]] \n",
      "\n",
      "L accuracy sur le jeu de test est :\n",
      " 0.7178535268309146\n"
     ]
    }
   ],
   "source": [
    "pridiction(SimpleRNN, X_test, y_test)"
   ]
  },
  {
   "cell_type": "markdown",
   "metadata": {},
   "source": [
    "### Analyse : \n",
    "**- La LOSS:**   \n",
    "    La perte de formation deminue à chaque époch, contrairement à la perte de validation elle augmente pour chaque époch, cela signifie que le réseau peut être en sur-ajustement. Les solutions à cela consistent par exemple à réduire la taille du réseau ou augmenter les données d'apprentissage (si possible) ou augmenter le dropout (0.35, 0.5, ... ainsi de suite).\n",
    "\n",
    "**- L'accuracy:**  \n",
    "    La précision de formation augmente pour chaque époch jusqu'à atteindre une valeur de 0.99, mais celle de la validation elle atteint son maximum à la première époch 0.79 et puis elle ne fait que oscillée autour de cette valeur. Cela peut être dû au pas d'apprentissage, qui peut être important."
   ]
  },
  {
   "cell_type": "markdown",
   "metadata": {},
   "source": [
    "### Remarque : \n",
    "Les réseaux de neurones récurrents simples (ou SimpleRNN) sont les premiers réseaux de neurones qui peuvent aider à analyser et à apprendre des séquences de données plutôt qu'un simple apprentissage basé sur des instances. Comme toutes les autres techniques de ML, elle présente certains inconvénients qui laissent la porte ouverte à l'amélioration. Premièrement, il ne parvient pas à stocker les informations pendant une période plus longue. Parfois, une référence à certaines informations stockées il y a assez longtemps est nécessaire pour prédire la sortie actuelle. Mais les RNN sont absolument incapables de gérer de telles «dépendances à long terme». Deuxième, il n'y a pas de contrôle plus fin sur quelle partie du contexte doit être reportée et quelle part du passé doit être « oubliée ». D'autres problèmes avec les RNN sont les gradients d'explosion et de disparition qui se produisent pendant le processus de formation d'un réseau par retour en arrière."
   ]
  },
  {
   "cell_type": "markdown",
   "metadata": {},
   "source": [
    "# RNN-LSTM gauche-droite classique\n",
    "- dropout (avec un taux de 20% en sortie du LSTM)\n",
    "- activation $sigmoid()$"
   ]
  },
  {
   "cell_type": "code",
   "execution_count": 53,
   "metadata": {},
   "outputs": [],
   "source": [
    "def build_LSTM(     num_words=5000, \n",
    "                    embed_size=128, \n",
    "                    LSTM_size=64, \n",
    "                    loss='binary_crossentropy', \n",
    "                    optimizer='adam', \n",
    "                    metrics='accuracy'  ):\n",
    "    \n",
    "    # Example d'architecture pour le réseau RNN simple avec dropout\n",
    "    model = Sequential()                                    \n",
    "    model.add(Embedding(num_words, embed_size))                        # layer embedding\n",
    "    model.add(LSTM(LSTM_size, dropout=0.2, recurrent_dropout=0.2))     # layer LSTM (dropout 0.2, reccurent_dropout=0.2)\n",
    "    model.add(Dense(1, activation='sigmoid'))                          # layer Dense\n",
    "\n",
    "    # On affiche l'architecture de notre modèle\n",
    "    model.summary()\n",
    "\n",
    "    # On spécifie la fonction de perte, l'optimiseur, et la fonction d'évaluation\n",
    "    model.compile(loss=loss, optimizer=optimizer, metrics=[metrics])\n",
    "    \n",
    "    return model"
   ]
  },
  {
   "cell_type": "code",
   "execution_count": 54,
   "metadata": {},
   "outputs": [
    {
     "name": "stdout",
     "output_type": "stream",
     "text": [
      "Model: \"sequential_9\"\n",
      "_________________________________________________________________\n",
      " Layer (type)                Output Shape              Param #   \n",
      "=================================================================\n",
      " embedding_9 (Embedding)     (None, None, 128)         640000    \n",
      "                                                                 \n",
      " lstm_5 (LSTM)               (None, 64)                49408     \n",
      "                                                                 \n",
      " dense_7 (Dense)             (None, 1)                 65        \n",
      "                                                                 \n",
      "=================================================================\n",
      "Total params: 689,473\n",
      "Trainable params: 689,473\n",
      "Non-trainable params: 0\n",
      "_________________________________________________________________\n"
     ]
    }
   ],
   "source": [
    "LSTM = build_LSTM()\n",
    "LSTM.compile(  optimizer = \"adam\", loss = \"binary_crossentropy\",\n",
    "                metrics = [\"accuracy\"]  )"
   ]
  },
  {
   "cell_type": "code",
   "execution_count": 55,
   "metadata": {},
   "outputs": [
    {
     "name": "stdout",
     "output_type": "stream",
     "text": [
      "Epoch 1/10\n",
      "35/35 [==============================] - 6s 101ms/step - loss: 0.6710 - accuracy: 0.5595 - val_loss: 0.6180 - val_accuracy: 0.7441\n",
      "Epoch 2/10\n",
      "35/35 [==============================] - 4s 121ms/step - loss: 0.4844 - accuracy: 0.8354 - val_loss: 0.4329 - val_accuracy: 0.8234\n",
      "Epoch 3/10\n",
      "35/35 [==============================] - 8s 239ms/step - loss: 0.2730 - accuracy: 0.9067 - val_loss: 0.4100 - val_accuracy: 0.7946\n",
      "Epoch 4/10\n",
      "35/35 [==============================] - 5s 154ms/step - loss: 0.1857 - accuracy: 0.9391 - val_loss: 0.3581 - val_accuracy: 0.8432\n",
      "Epoch 5/10\n",
      "35/35 [==============================] - 5s 151ms/step - loss: 0.1017 - accuracy: 0.9693 - val_loss: 0.4157 - val_accuracy: 0.8234\n",
      "Epoch 6/10\n",
      "35/35 [==============================] - 8s 235ms/step - loss: 0.0669 - accuracy: 0.9815 - val_loss: 0.4299 - val_accuracy: 0.8216\n",
      "Epoch 7/10\n",
      "35/35 [==============================] - 5s 150ms/step - loss: 0.0452 - accuracy: 0.9910 - val_loss: 0.4979 - val_accuracy: 0.8378\n",
      "Epoch 8/10\n",
      "35/35 [==============================] - 8s 240ms/step - loss: 0.0282 - accuracy: 0.9946 - val_loss: 0.4527 - val_accuracy: 0.8360\n",
      "Epoch 9/10\n",
      "35/35 [==============================] - 6s 160ms/step - loss: 0.0167 - accuracy: 0.9964 - val_loss: 0.5015 - val_accuracy: 0.8360\n",
      "Epoch 10/10\n",
      "35/35 [==============================] - 6s 182ms/step - loss: 0.0081 - accuracy: 0.9991 - val_loss: 0.6302 - val_accuracy: 0.8342\n"
     ]
    }
   ],
   "source": [
    "history_LSTM =      LSTM.fit(   X_train, y_train,\n",
    "                                epochs = EPOCHS,\n",
    "                                batch_size = BATCH_SIZE,\n",
    "                                # validation_data = (X_test, y_test),\n",
    "                                validation_split=0.2,\n",
    "                                verbose=1   )"
   ]
  },
  {
   "cell_type": "code",
   "execution_count": 56,
   "metadata": {},
   "outputs": [
    {
     "name": "stdout",
     "output_type": "stream",
     "text": [
      "47/47 [==============================] - 1s 28ms/step - loss: 0.7114 - accuracy: 0.8255\n"
     ]
    }
   ],
   "source": [
    "score_LSTM = LSTM.evaluate(X_test, y_test, batch_size=BATCH_SIZE)"
   ]
  },
  {
   "cell_type": "code",
   "execution_count": 57,
   "metadata": {},
   "outputs": [
    {
     "data": {
      "image/png": "[encoded data removed]",
      "text/plain": [
       "<Figure size 720x360 with 2 Axes>"
      ]
     },
     "metadata": {
      "needs_background": "light"
     },
     "output_type": "display_data"
    }
   ],
   "source": [
    "plot_history(history_LSTM)"
   ]
  },
  {
   "cell_type": "code",
   "execution_count": 58,
   "metadata": {},
   "outputs": [
    {
     "name": "stdout",
     "output_type": "stream",
     "text": [
      "93/93 [==============================] - 1s 11ms/step\n",
      "La matrice de confusion sur le jeu de test :\n",
      " [[1117  242]\n",
      " [ 275 1329]] \n",
      "\n",
      "L accuracy sur le jeu de test est :\n",
      " 0.8255146810664866\n"
     ]
    }
   ],
   "source": [
    "pridiction(LSTM, X_test, y_test)"
   ]
  },
  {
   "cell_type": "markdown",
   "metadata": {},
   "source": [
    "### Analyse : \n",
    "**- La LOSS:**   \n",
    "    La perte de formation est toujour bien inférieure à la perte de validation, ce qui n'est pas du tous bon signe pour un apretissage!!\n",
    "\n",
    "**- L'accuracy:**  \n",
    "    N'est au moins cette fois ci la précision augmente jusqu'a atteindre la valeur de 0.82. n'empêche que notre modèle rentre sur apprentissage. "
   ]
  },
  {
   "cell_type": "markdown",
   "metadata": {},
   "source": [
    "### Remarque :\n",
    "Les réseaux LSTM sont une extension des réseaux de neurones récurrents (RNN) principalement introduits pour gérer les situations où les RNN échouent. Ainsi, la mémoire longue à court terme (LSTM) a été conçu de manière à ce que le problème du gradient de fuite soit presque complètement supprimé, tandis que le modèle d'apprentissage reste inchangé. Les longs retards dans certains problèmes sont comblés à l'aide de LSTM où ils gèrent également le bruit, les représentations distribuées et les valeurs continues. Avec les LSTM, il n'est pas nécessaire de conserver un nombre fini d'états à l'avance comme l'exige le modèle de Markov caché (HMM). Les LSTM nous fournissent une large gamme de paramètres tels que les taux d'apprentissage et les biais d'entrée et de sortie. Par conséquent, aucun réglage fin n'est nécessaire. La complexité pour mettre à jour chaque poids est réduite à O (1) avec les LSTM, similaire à celle de la rétropropagation dans le temps (BPTT), ce qui est un avantage. "
   ]
  },
  {
   "cell_type": "markdown",
   "metadata": {},
   "source": [
    "# LSTM bi-directionnel et return_sequences = False\n",
    "- dropout (avec un taux de 20% en sortie du RNN)\n",
    "- activation $sigmoid()$"
   ]
  },
  {
   "cell_type": "code",
   "execution_count": 69,
   "metadata": {},
   "outputs": [],
   "source": [
    "def build_LSTM_bi_directionnel( num_words=5000, \n",
    "                                embed_size=128, \n",
    "                                LSTM_size=64, \n",
    "                                loss='binary_crossentropy', \n",
    "                                optimizer='adam', \n",
    "                                metrics='accuracy'  ):\n",
    "    \n",
    "    # Example d'architecture pour le réseau RNN simple avec dropout\n",
    "    model = Sequential()                                    \n",
    "    model.add(Embedding(num_words, embed_size))                                       # layer embedding\n",
    "    model.add(Bidirectional(LSTM(LSTM_size, dropout=0.2, recurrent_dropout=0.2)))     # layer LSTM\n",
    "    model.add(Dropout(0.25))                                                          # layer Dropout\n",
    "\n",
    "    model.add(Dense(1, activation='sigmoid'))                                         # layer Dense\n",
    "\n",
    "    # On affiche l'architecture de notre modèle\n",
    "    model.summary()\n",
    "\n",
    "    # On spécifie la fonction de perte, l'optimiseur, et la fonction d'évaluation\n",
    "    model.compile(loss=loss, optimizer=optimizer, metrics=[metrics])\n",
    "    \n",
    "    return model"
   ]
  },
  {
   "cell_type": "code",
   "execution_count": 70,
   "metadata": {},
   "outputs": [
    {
     "name": "stdout",
     "output_type": "stream",
     "text": [
      "Model: \"sequential_12\"\n",
      "_________________________________________________________________\n",
      " Layer (type)                Output Shape              Param #   \n",
      "=================================================================\n",
      " embedding_12 (Embedding)    (None, None, 128)         640000    \n",
      "                                                                 \n",
      " bidirectional_4 (Bidirectio  (None, 128)              98816     \n",
      " nal)                                                            \n",
      "                                                                 \n",
      " dropout_6 (Dropout)         (None, 128)               0         \n",
      "                                                                 \n",
      " dense_9 (Dense)             (None, 1)                 129       \n",
      "                                                                 \n",
      "=================================================================\n",
      "Total params: 738,945\n",
      "Trainable params: 738,945\n",
      "Non-trainable params: 0\n",
      "_________________________________________________________________\n"
     ]
    }
   ],
   "source": [
    "LSTM_bi_directionnel = build_LSTM_bi_directionnel()\n",
    "LSTM_bi_directionnel.compile(  optimizer = \"adam\", loss = \"binary_crossentropy\",\n",
    "                metrics = [\"accuracy\"]  )"
   ]
  },
  {
   "cell_type": "code",
   "execution_count": 76,
   "metadata": {},
   "outputs": [
    {
     "name": "stdout",
     "output_type": "stream",
     "text": [
      "Epoch 1/10\n",
      "35/35 [==============================] - 9s 256ms/step - loss: 5.9097e-04 - accuracy: 1.0000 - val_loss: 0.9927 - val_accuracy: 0.8252\n",
      "Epoch 2/10\n",
      "35/35 [==============================] - 11s 303ms/step - loss: 7.7977e-04 - accuracy: 1.0000 - val_loss: 0.8087 - val_accuracy: 0.8270\n",
      "Epoch 3/10\n",
      "35/35 [==============================] - 12s 333ms/step - loss: 5.4975e-04 - accuracy: 1.0000 - val_loss: 0.9675 - val_accuracy: 0.8216\n",
      "Epoch 4/10\n",
      "35/35 [==============================] - 12s 332ms/step - loss: 3.9927e-04 - accuracy: 1.0000 - val_loss: 1.0147 - val_accuracy: 0.8252\n",
      "Epoch 5/10\n",
      "35/35 [==============================] - 11s 324ms/step - loss: 0.0022 - accuracy: 0.9995 - val_loss: 1.0445 - val_accuracy: 0.8342\n",
      "Epoch 6/10\n",
      "35/35 [==============================] - 12s 335ms/step - loss: 0.0089 - accuracy: 0.9982 - val_loss: 0.5331 - val_accuracy: 0.8054\n",
      "Epoch 7/10\n",
      "35/35 [==============================] - 12s 340ms/step - loss: 0.0412 - accuracy: 0.9851 - val_loss: 0.5767 - val_accuracy: 0.8324\n",
      "Epoch 8/10\n",
      "35/35 [==============================] - 12s 337ms/step - loss: 0.0105 - accuracy: 0.9964 - val_loss: 0.7819 - val_accuracy: 0.8180\n",
      "Epoch 9/10\n",
      "35/35 [==============================] - 13s 378ms/step - loss: 0.0070 - accuracy: 0.9977 - val_loss: 0.8610 - val_accuracy: 0.8378\n",
      "Epoch 10/10\n",
      "35/35 [==============================] - 12s 347ms/step - loss: 0.0048 - accuracy: 0.9982 - val_loss: 0.7220 - val_accuracy: 0.8126\n"
     ]
    }
   ],
   "source": [
    "history_LSTM_bi_directionnel = LSTM_bi_directionnel.fit(  X_train, y_train,\n",
    "                                                          epochs = EPOCHS,\n",
    "                                                          batch_size = BATCH_SIZE,\n",
    "                                                        #   validation_data = (X_test, y_test) \n",
    "                                                          validation_split=0.2)"
   ]
  },
  {
   "cell_type": "code",
   "execution_count": 77,
   "metadata": {},
   "outputs": [
    {
     "name": "stdout",
     "output_type": "stream",
     "text": [
      "47/47 [==============================] - 1s 26ms/step - loss: 0.8305 - accuracy: 0.8205\n"
     ]
    }
   ],
   "source": [
    "score_LSTM_bi_directionnel = LSTM_bi_directionnel.evaluate(X_test, y_test, batch_size=BATCH_SIZE)"
   ]
  },
  {
   "cell_type": "code",
   "execution_count": 78,
   "metadata": {},
   "outputs": [
    {
     "data": {
      "image/png": "[encoded data removed]",
      "text/plain": [
       "<Figure size 720x360 with 2 Axes>"
      ]
     },
     "metadata": {
      "needs_background": "light"
     },
     "output_type": "display_data"
    }
   ],
   "source": [
    "plot_history(history_LSTM_bi_directionnel)"
   ]
  },
  {
   "cell_type": "markdown",
   "metadata": {},
   "source": [
    "### Analyse : \n",
    "**- La LOSS:**   \n",
    "    On analysant le comportement de notre modèle lors de l'apprentissage et la validation, on comprend très vite que les LSTM bi directionnel ne sont pas les mieux adaptés à notre application (analyse de sentiments). Comme nous l'avons mentionné ci dessue les LSTM sont adaptés à des applications ou nos valeurs dépendes du future (exemple : la traduction). Par conséquent, ce n'est pas le cas pour l'analyse de sentiment. Ce qui explique la dégradation de la précision par rapport au LSTM simple.\n",
    "     \n",
    "**- L'accuracy:**  \n",
    "    Sans aucune surprise! le modèle oscille autour d'une valeur et n'arrive pas à s'améliorer"
   ]
  },
  {
   "cell_type": "markdown",
   "metadata": {},
   "source": [
    "### Remarque:\n",
    "Un état typique dans un RNN (RNN simple, GRU ou LSTM) repose sur les événements passés et présents. Un état au temps $t$ dépend des états `x1, x2,…,xt−1x1,x2,…,xt−1`, et `xtxt`. C'est le cas idéaliste, mais parfois nos valeurs dépendent du passé, du présent et du futur. Les LSTM bidirectionnels sont une extension des LSTM traditionnels qui peuvent améliorer les performances du modèle sur les problèmes de classification de séquences. Dans les problèmes où tous les pas de temps de la séquence d'entrée sont disponibles, les LSTM bidirectionnels entraînent deux LSTM au lieu d'un sur la séquence d'entrée. Le premier sur la séquence d'entrée telle quelle et le second sur une copie inversée de la séquence d'entrée. Cela peut fournir un contexte supplémentaire au réseau et entraîner un apprentissage plus complet du problème."
   ]
  },
  {
   "cell_type": "markdown",
   "metadata": {},
   "source": [
    "# 4- LSTM mecanisme d'attention"
   ]
  },
  {
   "cell_type": "code",
   "execution_count": 12,
   "metadata": {},
   "outputs": [],
   "source": [
    "def build_LSTM_attention(   num_words=5000, \n",
    "                            embed_size=128, \n",
    "                            LSTM_size=64, \n",
    "                            loss='binary_crossentropy', \n",
    "                            optimizer='adam', \n",
    "                            metrics='accuracy'  ):\n",
    "    \n",
    "    # Example d'architecture pour le réseau RNN simple avec dropout\n",
    "    model = Sequential()                                    \n",
    "    model.add(Embedding(num_words, embed_size))                                       # layer embedding\n",
    "    model.add(Bidirectional(LSTM(LSTM_size, dropout=0.2, recurrent_dropout=0.2, return_sequences=True)))     # layer LSTM\n",
    "    model.add(Attention(32))\n",
    "\n",
    "    model.add(Dense(1, activation='sigmoid'))                                         # layer Dense\n",
    "\n",
    "    # On affiche l'architecture de notre modèle\n",
    "    model.summary()\n",
    "\n",
    "    # On spécifie la fonction de perte, l'optimiseur, et la fonction d'évaluation\n",
    "    model.compile(loss=loss, optimizer=optimizer, metrics=[metrics])\n",
    "    \n",
    "    return model"
   ]
  },
  {
   "cell_type": "code",
   "execution_count": 13,
   "metadata": {},
   "outputs": [
    {
     "name": "stdout",
     "output_type": "stream",
     "text": [
      "Model: \"sequential_2\"\n",
      "_________________________________________________________________\n",
      " Layer (type)                Output Shape              Param #   \n",
      "=================================================================\n",
      " embedding_2 (Embedding)     (None, None, 128)         640000    \n",
      "                                                                 \n",
      " bidirectional_2 (Bidirectio  (None, None, 128)        98816     \n",
      " nal)                                                            \n",
      "                                                                 \n",
      " attention_2 (Attention)     (None, 32)                24576     \n",
      "                                                                 \n",
      " dense (Dense)               (None, 1)                 33        \n",
      "                                                                 \n",
      "=================================================================\n",
      "Total params: 763,425\n",
      "Trainable params: 763,425\n",
      "Non-trainable params: 0\n",
      "_________________________________________________________________\n"
     ]
    }
   ],
   "source": [
    "LSTM_attention = build_LSTM_attention()\n",
    "LSTM_attention.compile(  optimizer = \"adam\", loss = \"binary_crossentropy\",\n",
    "                metrics = [\"accuracy\"]  )"
   ]
  },
  {
   "cell_type": "code",
   "execution_count": 14,
   "metadata": {},
   "outputs": [
    {
     "name": "stdout",
     "output_type": "stream",
     "text": [
      "Epoch 1/10\n",
      "35/35 [==============================] - 15s 289ms/step - loss: 0.6771 - accuracy: 0.5546 - val_loss: 0.6220 - val_accuracy: 0.7027\n",
      "Epoch 2/10\n",
      "35/35 [==============================] - 10s 298ms/step - loss: 0.3635 - accuracy: 0.8503 - val_loss: 0.3469 - val_accuracy: 0.8450\n",
      "Epoch 3/10\n",
      "35/35 [==============================] - 15s 421ms/step - loss: 0.1367 - accuracy: 0.9495 - val_loss: 0.3518 - val_accuracy: 0.8541\n",
      "Epoch 4/10\n",
      "35/35 [==============================] - 14s 412ms/step - loss: 0.0858 - accuracy: 0.9748 - val_loss: 0.3179 - val_accuracy: 0.8631\n",
      "Epoch 5/10\n",
      "35/35 [==============================] - 16s 434ms/step - loss: 0.0624 - accuracy: 0.9842 - val_loss: 0.3648 - val_accuracy: 0.8577\n",
      "Epoch 6/10\n",
      "35/35 [==============================] - 13s 359ms/step - loss: 0.0176 - accuracy: 0.9959 - val_loss: 0.4579 - val_accuracy: 0.8396\n",
      "Epoch 7/10\n",
      "35/35 [==============================] - 13s 362ms/step - loss: 0.0080 - accuracy: 0.9986 - val_loss: 0.5557 - val_accuracy: 0.8486\n",
      "Epoch 8/10\n",
      "35/35 [==============================] - 13s 379ms/step - loss: 0.0036 - accuracy: 0.9991 - val_loss: 0.6176 - val_accuracy: 0.8685\n",
      "Epoch 9/10\n",
      "35/35 [==============================] - 13s 379ms/step - loss: 0.0014 - accuracy: 1.0000 - val_loss: 0.6325 - val_accuracy: 0.8523\n",
      "Epoch 10/10\n",
      "35/35 [==============================] - 12s 349ms/step - loss: 6.8597e-04 - accuracy: 1.0000 - val_loss: 0.6691 - val_accuracy: 0.8613\n"
     ]
    }
   ],
   "source": [
    "history_LSTM_attention = LSTM_attention.fit(  X_train, y_train,\n",
    "                                              epochs = EPOCHS,\n",
    "                                              batch_size = BATCH_SIZE,\n",
    "                                            #   validation_data = (X_test, y_test) \n",
    "                                                validation_split=0.2)"
   ]
  },
  {
   "cell_type": "code",
   "execution_count": 15,
   "metadata": {},
   "outputs": [
    {
     "name": "stdout",
     "output_type": "stream",
     "text": [
      "47/47 [==============================] - 1s 27ms/step - loss: 0.8655 - accuracy: 0.8309\n"
     ]
    }
   ],
   "source": [
    "score_LSTM_attention = LSTM_attention.evaluate(X_test, y_test, batch_size=BATCH_SIZE)"
   ]
  },
  {
   "cell_type": "code",
   "execution_count": 16,
   "metadata": {},
   "outputs": [
    {
     "data": {
      "image/png": "[encoded data removed]",
      "text/plain": [
       "<Figure size 720x360 with 2 Axes>"
      ]
     },
     "metadata": {
      "needs_background": "light"
     },
     "output_type": "display_data"
    }
   ],
   "source": [
    "plot_history(history_LSTM_attention)"
   ]
  },
  {
   "cell_type": "markdown",
   "metadata": {},
   "source": [
    "### Analyse :  \n",
    "\n",
    "    avec le mécanisme d'attention on arrive à 86% de précision ce qui est pas mal !! malgré que l'on a toujours un surapprentissage, mais la loss de ce dernier et meilleur que les LSTM bi directionnel, LSTM simple et RNN.\n",
    "     "
   ]
  },
  {
   "cell_type": "markdown",
   "metadata": {},
   "source": [
    "### Remarque:\n",
    "Dans une couche RNN avec Attention, on a aussi ce calcul récurrent sur chaque mot. Mais en plus de cela, on garde chacune de ces sorties récurrentes en mémoire pour former la sortie finale. Dit autrement, l'Encodeur de l'Attention va transmettre beaucoup plus d'informations au Décodeur que lors de l'approche classique."
   ]
  }
 ],
 "metadata": {
  "kernelspec": {
   "display_name": "Python 3.10.4 ('env_ML')",
   "language": "python",
   "name": "python3"
  },
  "language_info": {
   "codemirror_mode": {
    "name": "ipython",
    "version": 3
   },
   "file_extension": ".py",
   "mimetype": "text/x-python",
   "name": "python",
   "nbconvert_exporter": "python",
   "pygments_lexer": "ipython3",
   "version": "3.10.4"
  },
  "orig_nbformat": 4,
  "vscode": {
   "interpreter": {
    "hash": "3aeec228df1f54caf4e0351da5a2d0a118f716cc91cd17ac0ce0027b95db8302"
   }
  }
 },
 "nbformat": 4,
 "nbformat_minor": 2
}
