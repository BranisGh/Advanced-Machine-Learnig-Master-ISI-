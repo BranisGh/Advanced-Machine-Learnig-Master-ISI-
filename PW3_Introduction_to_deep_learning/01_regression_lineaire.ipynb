{
 "cells": [
  {
   "cell_type": "markdown",
   "metadata": {},
   "source": [
    "# Exemple simple de regression linéaire"
   ]
  },
  {
   "cell_type": "markdown",
   "metadata": {},
   "source": [
    "## 1. Importation des librairies"
   ]
  },
  {
   "cell_type": "code",
   "execution_count": 2,
   "metadata": {},
   "outputs": [],
   "source": [
    "import tensorflow as tf\n",
    "import numpy as np\n",
    "import matplotlib.pyplot as plt\n",
    "from time import time\n",
    "\n",
    "import warnings\n",
    "#warnings.filterwarnings('ignore')"
   ]
  },
  {
   "cell_type": "markdown",
   "metadata": {},
   "source": [
    "## 2. Définition des données d'apprentissage"
   ]
  },
  {
   "cell_type": "code",
   "execution_count": 3,
   "metadata": {},
   "outputs": [],
   "source": [
    "a = 0.1\n",
    "b = -0.5\n",
    "X = np.arange(0,1,0.05)\n",
    "Y_gt = a*X + b\n",
    "Y = Y_gt + np.random.uniform(-0.02,0.02,X.shape)"
   ]
  },
  {
   "cell_type": "markdown",
   "metadata": {},
   "source": [
    "## 3. Architecture du réseau "
   ]
  },
  {
   "cell_type": "code",
   "execution_count": 4,
   "metadata": {},
   "outputs": [
    {
     "name": "stdout",
     "output_type": "stream",
     "text": [
      "Metal device set to: Apple M1 Max\n"
     ]
    },
    {
     "name": "stderr",
     "output_type": "stream",
     "text": [
      "2022-09-26 00:16:56.730291: I tensorflow/core/common_runtime/pluggable_device/pluggable_device_factory.cc:306] Could not identify NUMA node of platform GPU ID 0, defaulting to 0. Your kernel may not have been built with NUMA support.\n",
      "2022-09-26 00:16:56.730434: I tensorflow/core/common_runtime/pluggable_device/pluggable_device_factory.cc:272] Created TensorFlow device (/job:localhost/replica:0/task:0/device:GPU:0 with 0 MB memory) -> physical PluggableDevice (device: 0, name: METAL, pci bus id: <undefined>)\n"
     ]
    }
   ],
   "source": [
    "linear_model = tf.keras.models.Sequential()\n",
    "#une première couche avec un neurone (couche cachée)\n",
    "linear_model.add(tf.keras.layers.Dense(1, input_shape=(1,)))\n",
    "\n",
    "## Définition des paramètres d'apprentissage\n",
    "# On choisit la méthode d'optimisation\n",
    "sgd = tf.keras.optimizers.SGD(learning_rate=0.01, momentum=0.9)\n",
    "\n",
    "# On compile le graphe en précisant le nom fonction de coût utlisée\n",
    "linear_model.compile(sgd, loss='mean_squared_error', metrics=['mean_absolute_error'])"
   ]
  },
  {
   "cell_type": "markdown",
   "metadata": {},
   "source": [
    "## 4. Apprentissage du réseau"
   ]
  },
  {
   "cell_type": "code",
   "execution_count": 5,
   "metadata": {},
   "outputs": [
    {
     "name": "stdout",
     "output_type": "stream",
     "text": [
      "Epoch 1/50\n"
     ]
    },
    {
     "name": "stderr",
     "output_type": "stream",
     "text": [
      "2022-09-26 00:16:56.946866: W tensorflow/core/platform/profile_utils/cpu_utils.cc:128] Failed to get CPU frequency: 0 Hz\n",
      "2022-09-26 00:16:57.065390: I tensorflow/core/grappler/optimizers/custom_graph_optimizer_registry.cc:114] Plugin optimizer for device_type GPU is enabled.\n"
     ]
    },
    {
     "name": "stdout",
     "output_type": "stream",
     "text": [
      "20/20 [==============================] - 0s 3ms/step - loss: 0.0749 - mean_absolute_error: 0.2366\n",
      "Epoch 2/50\n",
      "20/20 [==============================] - 0s 4ms/step - loss: 0.0643 - mean_absolute_error: 0.2171\n",
      "Epoch 3/50\n",
      "20/20 [==============================] - 0s 5ms/step - loss: 0.0246 - mean_absolute_error: 0.1359\n",
      "Epoch 4/50\n",
      "20/20 [==============================] - 0s 4ms/step - loss: 0.0104 - mean_absolute_error: 0.0832\n",
      "Epoch 5/50\n",
      "20/20 [==============================] - 0s 3ms/step - loss: 0.0060 - mean_absolute_error: 0.0663\n",
      "Epoch 6/50\n",
      "20/20 [==============================] - 0s 3ms/step - loss: 0.0040 - mean_absolute_error: 0.0489\n",
      "Epoch 7/50\n",
      "20/20 [==============================] - 0s 4ms/step - loss: 0.0017 - mean_absolute_error: 0.0340\n",
      "Epoch 8/50\n",
      "20/20 [==============================] - 0s 3ms/step - loss: 9.7081e-04 - mean_absolute_error: 0.0243\n",
      "Epoch 9/50\n",
      "20/20 [==============================] - 0s 3ms/step - loss: 6.2386e-04 - mean_absolute_error: 0.0198\n",
      "Epoch 10/50\n",
      "20/20 [==============================] - 0s 3ms/step - loss: 3.3214e-04 - mean_absolute_error: 0.0146\n",
      "Epoch 11/50\n",
      "20/20 [==============================] - 0s 3ms/step - loss: 2.5984e-04 - mean_absolute_error: 0.0129\n",
      "Epoch 12/50\n",
      "20/20 [==============================] - 0s 3ms/step - loss: 1.9862e-04 - mean_absolute_error: 0.0119\n",
      "Epoch 13/50\n",
      "20/20 [==============================] - 0s 3ms/step - loss: 1.8465e-04 - mean_absolute_error: 0.0118\n",
      "Epoch 14/50\n",
      "20/20 [==============================] - 0s 4ms/step - loss: 1.3384e-04 - mean_absolute_error: 0.0097\n",
      "Epoch 15/50\n",
      "20/20 [==============================] - 0s 3ms/step - loss: 1.2860e-04 - mean_absolute_error: 0.0099\n",
      "Epoch 16/50\n",
      "20/20 [==============================] - 0s 3ms/step - loss: 1.3121e-04 - mean_absolute_error: 0.0094\n",
      "Epoch 17/50\n",
      "20/20 [==============================] - 0s 3ms/step - loss: 1.2345e-04 - mean_absolute_error: 0.0097\n",
      "Epoch 18/50\n",
      "20/20 [==============================] - 0s 3ms/step - loss: 1.2022e-04 - mean_absolute_error: 0.0091\n",
      "Epoch 19/50\n",
      "20/20 [==============================] - 0s 3ms/step - loss: 1.3139e-04 - mean_absolute_error: 0.0098\n",
      "Epoch 20/50\n",
      "20/20 [==============================] - 0s 3ms/step - loss: 1.2632e-04 - mean_absolute_error: 0.0093\n",
      "Epoch 21/50\n",
      "20/20 [==============================] - 0s 3ms/step - loss: 1.2021e-04 - mean_absolute_error: 0.0093\n",
      "Epoch 22/50\n",
      "20/20 [==============================] - 0s 3ms/step - loss: 1.4844e-04 - mean_absolute_error: 0.0101\n",
      "Epoch 23/50\n",
      "20/20 [==============================] - 0s 3ms/step - loss: 1.1605e-04 - mean_absolute_error: 0.0092\n",
      "Epoch 24/50\n",
      "20/20 [==============================] - 0s 4ms/step - loss: 1.2910e-04 - mean_absolute_error: 0.0094\n",
      "Epoch 25/50\n",
      "20/20 [==============================] - 0s 3ms/step - loss: 1.2846e-04 - mean_absolute_error: 0.0090\n",
      "Epoch 26/50\n",
      "20/20 [==============================] - 0s 3ms/step - loss: 1.3543e-04 - mean_absolute_error: 0.0097\n",
      "Epoch 27/50\n",
      "20/20 [==============================] - 0s 3ms/step - loss: 1.3162e-04 - mean_absolute_error: 0.0097\n",
      "Epoch 28/50\n",
      "20/20 [==============================] - 0s 3ms/step - loss: 1.1211e-04 - mean_absolute_error: 0.0090\n",
      "Epoch 29/50\n",
      "20/20 [==============================] - 0s 3ms/step - loss: 1.2502e-04 - mean_absolute_error: 0.0092\n",
      "Epoch 30/50\n",
      "20/20 [==============================] - 0s 3ms/step - loss: 1.3381e-04 - mean_absolute_error: 0.0104\n",
      "Epoch 31/50\n",
      "20/20 [==============================] - 0s 3ms/step - loss: 1.1944e-04 - mean_absolute_error: 0.0091\n",
      "Epoch 32/50\n",
      "20/20 [==============================] - 0s 3ms/step - loss: 1.1502e-04 - mean_absolute_error: 0.0091\n",
      "Epoch 33/50\n",
      "20/20 [==============================] - 0s 3ms/step - loss: 1.2416e-04 - mean_absolute_error: 0.0095\n",
      "Epoch 34/50\n",
      "20/20 [==============================] - 0s 4ms/step - loss: 1.2334e-04 - mean_absolute_error: 0.0091\n",
      "Epoch 35/50\n",
      "20/20 [==============================] - 0s 3ms/step - loss: 1.1924e-04 - mean_absolute_error: 0.0094\n",
      "Epoch 36/50\n",
      "20/20 [==============================] - 0s 3ms/step - loss: 1.3948e-04 - mean_absolute_error: 0.0099\n",
      "Epoch 37/50\n",
      "20/20 [==============================] - 0s 3ms/step - loss: 1.1526e-04 - mean_absolute_error: 0.0089\n",
      "Epoch 38/50\n",
      "20/20 [==============================] - 0s 3ms/step - loss: 1.2147e-04 - mean_absolute_error: 0.0091\n",
      "Epoch 39/50\n",
      "20/20 [==============================] - 0s 4ms/step - loss: 1.1954e-04 - mean_absolute_error: 0.0094\n",
      "Epoch 40/50\n",
      "20/20 [==============================] - 0s 3ms/step - loss: 1.1824e-04 - mean_absolute_error: 0.0094\n",
      "Epoch 41/50\n",
      "20/20 [==============================] - 0s 3ms/step - loss: 1.3919e-04 - mean_absolute_error: 0.0098\n",
      "Epoch 42/50\n",
      "20/20 [==============================] - 0s 3ms/step - loss: 1.1289e-04 - mean_absolute_error: 0.0089\n",
      "Epoch 43/50\n",
      "20/20 [==============================] - 0s 3ms/step - loss: 1.3561e-04 - mean_absolute_error: 0.0101\n",
      "Epoch 44/50\n",
      "20/20 [==============================] - 0s 3ms/step - loss: 1.2406e-04 - mean_absolute_error: 0.0096\n",
      "Epoch 45/50\n",
      "20/20 [==============================] - 0s 3ms/step - loss: 1.3145e-04 - mean_absolute_error: 0.0092\n",
      "Epoch 46/50\n",
      "20/20 [==============================] - 0s 3ms/step - loss: 1.2713e-04 - mean_absolute_error: 0.0100\n",
      "Epoch 47/50\n",
      "20/20 [==============================] - 0s 3ms/step - loss: 1.1698e-04 - mean_absolute_error: 0.0089\n",
      "Epoch 48/50\n",
      "20/20 [==============================] - 0s 3ms/step - loss: 1.0813e-04 - mean_absolute_error: 0.0088\n",
      "Epoch 49/50\n",
      "20/20 [==============================] - 0s 3ms/step - loss: 1.2661e-04 - mean_absolute_error: 0.0102\n",
      "Epoch 50/50\n",
      "20/20 [==============================] - 0s 3ms/step - loss: 1.2305e-04 - mean_absolute_error: 0.0092\n"
     ]
    },
    {
     "data": {
      "text/plain": [
       "<keras.callbacks.History at 0x2848fbe50>"
      ]
     },
     "execution_count": 5,
     "metadata": {},
     "output_type": "execute_result"
    }
   ],
   "source": [
    "# On commence l'apprentissage à proprement parler\n",
    "linear_model.fit(X, Y, batch_size=1, epochs=50, shuffle='True')"
   ]
  },
  {
   "cell_type": "code",
   "execution_count": 6,
   "metadata": {},
   "outputs": [
    {
     "name": "stdout",
     "output_type": "stream",
     "text": [
      "[array([[0.10323995]], dtype=float32), array([-0.49790815], dtype=float32)]\n"
     ]
    }
   ],
   "source": [
    "# Affichage du paramètres du reseau après l'apprentissage\n",
    "# Qu'observez vous ?\n",
    "weights = linear_model.layers[0].get_weights()\n",
    "print(weights)"
   ]
  },
  {
   "cell_type": "markdown",
   "metadata": {},
   "source": [
    "## 5. Prédiction par le réseau"
   ]
  },
  {
   "cell_type": "code",
   "execution_count": 7,
   "metadata": {},
   "outputs": [
    {
     "name": "stdout",
     "output_type": "stream",
     "text": [
      "1/1 [==============================] - 0s 54ms/step\n"
     ]
    },
    {
     "name": "stderr",
     "output_type": "stream",
     "text": [
      "2022-09-26 00:17:00.736631: I tensorflow/core/grappler/optimizers/custom_graph_optimizer_registry.cc:114] Plugin optimizer for device_type GPU is enabled.\n"
     ]
    }
   ],
   "source": [
    "Y_pred = linear_model.predict(X)"
   ]
  },
  {
   "cell_type": "markdown",
   "metadata": {},
   "source": [
    "## 6. Visualisation des résultats"
   ]
  },
  {
   "cell_type": "code",
   "execution_count": 8,
   "metadata": {},
   "outputs": [
    {
     "data": {
      "image/png": "[encoded data removed]",
      "text/plain": [
       "<Figure size 640x480 with 1 Axes>"
      ]
     },
     "metadata": {},
     "output_type": "display_data"
    }
   ],
   "source": [
    "plt.plot(X,Y,'.b')\n",
    "plt.plot(X,Y_pred,'r')\n",
    "plt.plot(X,Y_gt,'g')\n",
    "plt.show()"
   ]
  },
  {
   "cell_type": "markdown",
   "metadata": {},
   "source": [
    "## A faire"
   ]
  },
  {
   "cell_type": "markdown",
   "metadata": {},
   "source": [
    "- Observer la robustesse du modèle en faisant varier l'intensité du bruit sur les exemples\n",
    "- Observer le résultat de l'apprentissage pour d'autres fonctions affines"
   ]
  },
  {
   "cell_type": "code",
   "execution_count": null,
   "metadata": {},
   "outputs": [],
   "source": []
  }
 ],
 "metadata": {
  "kernelspec": {
   "display_name": "Python 3 (ipykernel)",
   "language": "python",
   "name": "python3"
  },
  "language_info": {
   "codemirror_mode": {
    "name": "ipython",
    "version": 3
   },
   "file_extension": ".py",
   "mimetype": "text/x-python",
   "name": "python",
   "nbconvert_exporter": "python",
   "pygments_lexer": "ipython3",
   "version": "3.10.6"
  }
 },
 "nbformat": 4,
 "nbformat_minor": 4
}
