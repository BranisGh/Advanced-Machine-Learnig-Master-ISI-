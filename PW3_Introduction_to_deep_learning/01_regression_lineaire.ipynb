{
 "cells": [
  {
   "cell_type": "markdown",
   "metadata": {},
   "source": [
    "# Exemple simple de regression linéaire"
   ]
  },
  {
   "cell_type": "markdown",
   "metadata": {},
   "source": [
    "## 1. Importation des librairies"
   ]
  },
  {
   "cell_type": "code",
   "execution_count": 16,
   "metadata": {},
   "outputs": [],
   "source": [
    "import tensorflow as tf\n",
    "import numpy as np\n",
    "import matplotlib.pyplot as plt\n",
    "%matplotlib inline \n",
    "# Cause we want our plots to appear in the notebook\n",
    "from time import time\n",
    "\n",
    "import warnings\n",
    "#warnings.filterwarnings('ignore')"
   ]
  },
  {
   "cell_type": "markdown",
   "metadata": {},
   "source": [
    "## 2. Définition des données d'apprentissage"
   ]
  },
  {
   "cell_type": "code",
   "execution_count": 3,
   "metadata": {},
   "outputs": [
    {
     "data": {
      "text/plain": [
       "((20,), (20,))"
      ]
     },
     "execution_count": 3,
     "metadata": {},
     "output_type": "execute_result"
    }
   ],
   "source": [
    "a = 0.1\n",
    "b = -0.5\n",
    "X = np.arange(0, 1, 0.05)\n",
    "Y_gt = a*X + b\n",
    "Y = Y_gt + np.random.uniform(-0.02, 0.02, X.shape)\n",
    "X.shape, Y.shape"
   ]
  },
  {
   "cell_type": "markdown",
   "metadata": {},
   "source": [
    "## 3. Architecture du réseau "
   ]
  },
  {
   "cell_type": "code",
   "execution_count": 4,
   "metadata": {},
   "outputs": [],
   "source": [
    "linear_model = tf.keras.models.Sequential()\n",
    "# une première couche avec un neurone (couche cachée)\n",
    "linear_model.add(tf.keras.layers.Dense(1, input_shape=(1,)))\n",
    "\n",
    "## Définition des paramètres d'apprentissage\n",
    "# On choisit la méthode d'optimisation\n",
    "sgd = tf.keras.optimizers.SGD(learning_rate=0.01, momentum=0.9)\n",
    "\n",
    "# On compile le graphe en précisant le nom fonction de coût utlisée\n",
    "linear_model.compile(sgd, loss='mean_squared_error', metrics=['mean_absolute_error'])"
   ]
  },
  {
   "cell_type": "markdown",
   "metadata": {},
   "source": [
    "## 4. Apprentissage du réseau"
   ]
  },
  {
   "cell_type": "code",
   "execution_count": 5,
   "metadata": {},
   "outputs": [
    {
     "name": "stdout",
     "output_type": "stream",
     "text": [
      "Epoch 1/50\n",
      "20/20 [==============================] - 0s 840us/step - loss: 0.2111 - mean_absolute_error: 0.4108\n",
      "Epoch 2/50\n",
      "20/20 [==============================] - 0s 945us/step - loss: 0.1291 - mean_absolute_error: 0.3137\n",
      "Epoch 3/50\n",
      "20/20 [==============================] - 0s 1ms/step - loss: 0.0547 - mean_absolute_error: 0.1975\n",
      "Epoch 4/50\n",
      "20/20 [==============================] - 0s 1ms/step - loss: 0.0323 - mean_absolute_error: 0.1494\n",
      "Epoch 5/50\n",
      "20/20 [==============================] - 0s 1ms/step - loss: 0.0127 - mean_absolute_error: 0.0982\n",
      "Epoch 6/50\n",
      "20/20 [==============================] - 0s 892us/step - loss: 0.0068 - mean_absolute_error: 0.0693\n",
      "Epoch 7/50\n",
      "20/20 [==============================] - 0s 1ms/step - loss: 0.0035 - mean_absolute_error: 0.0496\n",
      "Epoch 8/50\n",
      "20/20 [==============================] - 0s 1ms/step - loss: 0.0019 - mean_absolute_error: 0.0357\n",
      "Epoch 9/50\n",
      "20/20 [==============================] - 0s 1ms/step - loss: 0.0010 - mean_absolute_error: 0.0262\n",
      "Epoch 10/50\n",
      "20/20 [==============================] - 0s 954us/step - loss: 6.4640e-04 - mean_absolute_error: 0.0203\n",
      "Epoch 11/50\n",
      "20/20 [==============================] - 0s 997us/step - loss: 4.2293e-04 - mean_absolute_error: 0.0166\n",
      "Epoch 12/50\n",
      "20/20 [==============================] - 0s 1ms/step - loss: 3.2106e-04 - mean_absolute_error: 0.0143\n",
      "Epoch 13/50\n",
      "20/20 [==============================] - 0s 945us/step - loss: 2.5510e-04 - mean_absolute_error: 0.0130\n",
      "Epoch 14/50\n",
      "20/20 [==============================] - 0s 1ms/step - loss: 2.3237e-04 - mean_absolute_error: 0.0127\n",
      "Epoch 15/50\n",
      "20/20 [==============================] - 0s 1ms/step - loss: 2.1640e-04 - mean_absolute_error: 0.0127\n",
      "Epoch 16/50\n",
      "20/20 [==============================] - 0s 999us/step - loss: 2.1245e-04 - mean_absolute_error: 0.0123\n",
      "Epoch 17/50\n",
      "20/20 [==============================] - 0s 997us/step - loss: 1.8275e-04 - mean_absolute_error: 0.0116\n",
      "Epoch 18/50\n",
      "20/20 [==============================] - 0s 735us/step - loss: 2.0518e-04 - mean_absolute_error: 0.0122\n",
      "Epoch 19/50\n",
      "20/20 [==============================] - 0s 889us/step - loss: 1.7782e-04 - mean_absolute_error: 0.0117\n",
      "Epoch 20/50\n",
      "20/20 [==============================] - 0s 1ms/step - loss: 1.7994e-04 - mean_absolute_error: 0.0116\n",
      "Epoch 21/50\n",
      "20/20 [==============================] - 0s 945us/step - loss: 1.7274e-04 - mean_absolute_error: 0.0115\n",
      "Epoch 22/50\n",
      "20/20 [==============================] - 0s 997us/step - loss: 1.8488e-04 - mean_absolute_error: 0.0120\n",
      "Epoch 23/50\n",
      "20/20 [==============================] - 0s 1ms/step - loss: 1.8666e-04 - mean_absolute_error: 0.0120\n",
      "Epoch 24/50\n",
      "20/20 [==============================] - 0s 1ms/step - loss: 1.7914e-04 - mean_absolute_error: 0.0115\n",
      "Epoch 25/50\n",
      "20/20 [==============================] - 0s 2ms/step - loss: 1.7516e-04 - mean_absolute_error: 0.0116\n",
      "Epoch 26/50\n",
      "20/20 [==============================] - 0s 840us/step - loss: 1.9711e-04 - mean_absolute_error: 0.0121\n",
      "Epoch 27/50\n",
      "20/20 [==============================] - 0s 892us/step - loss: 1.7499e-04 - mean_absolute_error: 0.0114\n",
      "Epoch 28/50\n",
      "20/20 [==============================] - 0s 1ms/step - loss: 1.7682e-04 - mean_absolute_error: 0.0116\n",
      "Epoch 29/50\n",
      "20/20 [==============================] - 0s 892us/step - loss: 1.7578e-04 - mean_absolute_error: 0.0116\n",
      "Epoch 30/50\n",
      "20/20 [==============================] - 0s 997us/step - loss: 1.8862e-04 - mean_absolute_error: 0.0121\n",
      "Epoch 31/50\n",
      "20/20 [==============================] - 0s 945us/step - loss: 1.9333e-04 - mean_absolute_error: 0.0121\n",
      "Epoch 32/50\n",
      "20/20 [==============================] - 0s 1ms/step - loss: 1.9727e-04 - mean_absolute_error: 0.0124\n",
      "Epoch 33/50\n",
      "20/20 [==============================] - 0s 997us/step - loss: 1.9080e-04 - mean_absolute_error: 0.0120\n",
      "Epoch 34/50\n",
      "20/20 [==============================] - 0s 1ms/step - loss: 2.0125e-04 - mean_absolute_error: 0.0125\n",
      "Epoch 35/50\n",
      "20/20 [==============================] - 0s 1ms/step - loss: 1.9246e-04 - mean_absolute_error: 0.0123\n",
      "Epoch 36/50\n",
      "20/20 [==============================] - 0s 1ms/step - loss: 1.8822e-04 - mean_absolute_error: 0.0116\n",
      "Epoch 37/50\n",
      "20/20 [==============================] - 0s 1ms/step - loss: 1.8945e-04 - mean_absolute_error: 0.0124\n",
      "Epoch 38/50\n",
      "20/20 [==============================] - 0s 945us/step - loss: 2.1999e-04 - mean_absolute_error: 0.0132\n",
      "Epoch 39/50\n",
      "20/20 [==============================] - 0s 1ms/step - loss: 1.8894e-04 - mean_absolute_error: 0.0119\n",
      "Epoch 40/50\n",
      "20/20 [==============================] - 0s 997us/step - loss: 1.7736e-04 - mean_absolute_error: 0.0117\n",
      "Epoch 41/50\n",
      "20/20 [==============================] - 0s 2ms/step - loss: 1.7593e-04 - mean_absolute_error: 0.0114\n",
      "Epoch 42/50\n",
      "20/20 [==============================] - 0s 997us/step - loss: 1.7956e-04 - mean_absolute_error: 0.0117\n",
      "Epoch 43/50\n",
      "20/20 [==============================] - 0s 892us/step - loss: 1.8867e-04 - mean_absolute_error: 0.0115\n",
      "Epoch 44/50\n",
      "20/20 [==============================] - 0s 1ms/step - loss: 1.9051e-04 - mean_absolute_error: 0.0119\n",
      "Epoch 45/50\n",
      "20/20 [==============================] - 0s 1ms/step - loss: 2.0131e-04 - mean_absolute_error: 0.0123\n",
      "Epoch 46/50\n",
      "20/20 [==============================] - 0s 787us/step - loss: 1.8259e-04 - mean_absolute_error: 0.0118\n",
      "Epoch 47/50\n",
      "20/20 [==============================] - 0s 997us/step - loss: 1.7160e-04 - mean_absolute_error: 0.0113\n",
      "Epoch 48/50\n",
      "20/20 [==============================] - 0s 840us/step - loss: 1.8896e-04 - mean_absolute_error: 0.0122\n",
      "Epoch 49/50\n",
      "20/20 [==============================] - 0s 945us/step - loss: 2.0574e-04 - mean_absolute_error: 0.0127\n",
      "Epoch 50/50\n",
      "20/20 [==============================] - 0s 840us/step - loss: 2.0870e-04 - mean_absolute_error: 0.0125\n"
     ]
    },
    {
     "data": {
      "text/plain": [
       "<keras.callbacks.History at 0x29f0d811b10>"
      ]
     },
     "execution_count": 5,
     "metadata": {},
     "output_type": "execute_result"
    }
   ],
   "source": [
    "# On commence l'apprentissage à proprement parler\n",
    "linear_model.fit(X, Y, batch_size=1, epochs=50, shuffle='True')"
   ]
  },
  {
   "cell_type": "code",
   "execution_count": 10,
   "metadata": {},
   "outputs": [
    {
     "name": "stdout",
     "output_type": "stream",
     "text": [
      "[array([[0.09713817]], dtype=float32), array([-0.5030076], dtype=float32)]\n"
     ]
    }
   ],
   "source": [
    "# Affichage du paramètres du reseau après l'apprentissage\n",
    "# Qu'observez vous ?\n",
    "weights = linear_model.layers[0].get_weights()\n",
    "print(weights)\n",
    "\n",
    "# for layer in linear_model.layers:\n",
    "#     print(layer.get_weights())"
   ]
  },
  {
   "cell_type": "markdown",
   "metadata": {},
   "source": [
    "## 5. Prédiction par le réseau"
   ]
  },
  {
   "cell_type": "code",
   "execution_count": 18,
   "metadata": {},
   "outputs": [
    {
     "name": "stdout",
     "output_type": "stream",
     "text": [
      "1/1 [==============================] - 0s 27ms/step\n"
     ]
    }
   ],
   "source": [
    "Y_pred = linear_model.predict(X)"
   ]
  },
  {
   "cell_type": "markdown",
   "metadata": {},
   "source": [
    "## 6. Visualisation des résultats"
   ]
  },
  {
   "cell_type": "code",
   "execution_count": 14,
   "metadata": {},
   "outputs": [
    {
     "data": {
      "image/png": "[encoded data removed]",
      "text/plain": [
       "<Figure size 576x360 with 1 Axes>"
      ]
     },
     "metadata": {
      "needs_background": "light"
     },
     "output_type": "display_data"
    }
   ],
   "source": [
    "plt.figure(figsize=(8, 5))\n",
    "plt.plot(X, Y, '.b')\n",
    "plt.plot(X, Y_pred, 'r')\n",
    "plt.plot(X, Y_gt, 'g')\n",
    "plt.show()"
   ]
  },
  {
   "cell_type": "markdown",
   "metadata": {},
   "source": [
    "## A faire"
   ]
  },
  {
   "cell_type": "markdown",
   "metadata": {},
   "source": [
    "- Observer la robustesse du modèle en faisant varier l'intensité du bruit sur les exemples\n",
    "- Observer le résultat de l'apprentissage pour d'autres fonctions affines"
   ]
  }
 ],
 "metadata": {
  "kernelspec": {
   "display_name": "Python 3.10.4 ('env_ML')",
   "language": "python",
   "name": "python3"
  },
  "language_info": {
   "codemirror_mode": {
    "name": "ipython",
    "version": 3
   },
   "file_extension": ".py",
   "mimetype": "text/x-python",
   "name": "python",
   "nbconvert_exporter": "python",
   "pygments_lexer": "ipython3",
   "version": "3.10.4"
  },
  "vscode": {
   "interpreter": {
    "hash": "3aeec228df1f54caf4e0351da5a2d0a118f716cc91cd17ac0ce0027b95db8302"
   }
  }
 },
 "nbformat": 4,
 "nbformat_minor": 4
}
