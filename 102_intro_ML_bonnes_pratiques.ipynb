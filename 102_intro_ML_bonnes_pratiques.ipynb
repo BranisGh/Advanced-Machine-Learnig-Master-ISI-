{
 "cells": [
  {
   "cell_type": "markdown",
   "metadata": {},
   "source": [
    "# Mon premier classifier (en SK-LEARN)"
   ]
  },
  {
   "cell_type": "markdown",
   "metadata": {},
   "source": [
    "## 1. Importation des librairies"
   ]
  },
  {
   "cell_type": "code",
   "execution_count": 15,
   "metadata": {},
   "outputs": [],
   "source": [
    "# SEULEMENT AVEC SCIKIT-LEARN\n",
    "# On importe les librairies nécessaires\n",
    "\n",
    "# Le module de datasets de sklearn\n",
    "from sklearn import datasets\n",
    "\n",
    "# Les librairies habituelles\n",
    "import numpy as np\n",
    "import matplotlib.pyplot as plt\n",
    "\n",
    "# On désactive les warnings\n",
    "import warnings\n",
    "warnings.filterwarnings('ignore')"
   ]
  },
  {
   "cell_type": "markdown",
   "metadata": {},
   "source": [
    "## 2. Chargement et formatage des données"
   ]
  },
  {
   "cell_type": "code",
   "execution_count": 16,
   "metadata": {},
   "outputs": [
    {
     "name": "stdout",
     "output_type": "stream",
     "text": [
      "Dimension des labels:\n",
      " (1797,) \n",
      "\n",
      "Dimension des data:\n",
      " (1797, 64) \n",
      "\n",
      "Dimension des images:\n",
      " (1797, 8, 8) \n",
      "\n"
     ]
    }
   ],
   "source": [
    "# On charge les données de MNIST (incluses dans Keras)\n",
    "digits = datasets.load_digits()\n",
    "\n",
    "label = digits.target\n",
    "data  = digits.data\n",
    "img   = digits.images\n",
    "\n",
    "# On inspecte les dimensions des données \n",
    "print('Dimension des labels:\\n', np.shape(label), '\\n')\n",
    "\n",
    "# On inspecte les dimensions des données \n",
    "print('Dimension des data:\\n', np.shape(data), '\\n')\n",
    "\n",
    "# On inspecte les dimensions des données \n",
    "print('Dimension des images:\\n', np.shape(img), '\\n')\n"
   ]
  },
  {
   "cell_type": "code",
   "execution_count": 17,
   "metadata": {},
   "outputs": [
    {
     "data": {
      "image/png": "[encoded data removed]",
      "text/plain": [
       "<Figure size 640x480 with 1 Axes>"
      ]
     },
     "metadata": {},
     "output_type": "display_data"
    },
    {
     "name": "stdout",
     "output_type": "stream",
     "text": [
      "Label de l image:\n",
      " 0 \n",
      "\n"
     ]
    }
   ],
   "source": [
    "# On trace une image\n",
    "plt.imshow(img[0], cmap='magma')\n",
    "plt.show()\n",
    "\n",
    "# On vérifie le label correspondant\n",
    "print('Label de l image:\\n', label[0], '\\n')"
   ]
  },
  {
   "cell_type": "markdown",
   "metadata": {},
   "source": [
    "## 3. Première version de l'apprentissage : 5-fold "
   ]
  },
  {
   "cell_type": "markdown",
   "metadata": {},
   "source": [
    "### 3.1 Organisation des données"
   ]
  },
  {
   "cell_type": "code",
   "execution_count": 18,
   "metadata": {},
   "outputs": [],
   "source": [
    "# On importe le module SVM (ou autre classifieur)\n",
    "from sklearn import svm\n",
    "\n",
    "# Maintenant on peut utiliser la librairie d'optimisation gridSearchCV\n",
    "from sklearn.model_selection import GridSearchCV\n",
    "from sklearn.model_selection import train_test_split\n",
    "\n",
    "# On split les données en jeux de train et test (20% de données en test)\n",
    "(data_train, data_test, lbl_train, lbl_test) = train_test_split(data, label, test_size = 0.2, random_state = 0)\n"
   ]
  },
  {
   "cell_type": "markdown",
   "metadata": {},
   "source": [
    "### 3.2 Déclaration du classifier"
   ]
  },
  {
   "cell_type": "code",
   "execution_count": 20,
   "metadata": {},
   "outputs": [],
   "source": [
    "# On définit le jeu de méta-paramètres du classifieur\n",
    "tuned_parameters = [{'kernel': ['rbf'], 'gamma': [1e-3, 1e-4],\n",
    "                     'C': [1, 10, 100, 1000]},\n",
    "                    {'kernel': ['linear'], 'C': [1, 10, 100, 1000]}]\n",
    "\n",
    "# On définit la grid search\n",
    "clf = GridSearchCV(svm.SVC(), tuned_parameters, cv=5,\n",
    "                       scoring='accuracy')  #'%s_macro' % score)\n"
   ]
  },
  {
   "cell_type": "markdown",
   "metadata": {},
   "source": [
    "### 3.3 Apprentissage du classifier"
   ]
  },
  {
   "cell_type": "code",
   "execution_count": 21,
   "metadata": {},
   "outputs": [
    {
     "name": "stdout",
     "output_type": "stream",
     "text": [
      "Best parameters set found on development set:\n",
      "\n",
      "{'C': 1, 'gamma': 0.001, 'kernel': 'rbf'}\n",
      "\n",
      "Grid scores on development set:\n",
      "\n",
      "0.991 (+/-0.009) for {'C': 1, 'gamma': 0.001, 'kernel': 'rbf'}\n",
      "0.973 (+/-0.020) for {'C': 1, 'gamma': 0.0001, 'kernel': 'rbf'}\n",
      "0.991 (+/-0.009) for {'C': 10, 'gamma': 0.001, 'kernel': 'rbf'}\n",
      "0.987 (+/-0.017) for {'C': 10, 'gamma': 0.0001, 'kernel': 'rbf'}\n",
      "0.991 (+/-0.009) for {'C': 100, 'gamma': 0.001, 'kernel': 'rbf'}\n",
      "0.989 (+/-0.010) for {'C': 100, 'gamma': 0.0001, 'kernel': 'rbf'}\n",
      "0.991 (+/-0.009) for {'C': 1000, 'gamma': 0.001, 'kernel': 'rbf'}\n",
      "0.989 (+/-0.010) for {'C': 1000, 'gamma': 0.0001, 'kernel': 'rbf'}\n",
      "0.979 (+/-0.014) for {'C': 1, 'kernel': 'linear'}\n",
      "0.979 (+/-0.014) for {'C': 10, 'kernel': 'linear'}\n",
      "0.979 (+/-0.014) for {'C': 100, 'kernel': 'linear'}\n",
      "0.979 (+/-0.014) for {'C': 1000, 'kernel': 'linear'}\n",
      "\n",
      "Detailed classification report:\n",
      "\n",
      "The model is trained on the full development set.\n",
      "The scores are computed on the full evaluation set.\n",
      "\n"
     ]
    }
   ],
   "source": [
    "# On apprend le classifieur sur la base d'entrainement\n",
    "clf.fit(data_train, lbl_train)\n",
    "\n",
    "# On print le rapport de l'apprentissage\n",
    "print(\"Best parameters set found on development set:\")\n",
    "print()\n",
    "print(clf.best_params_)\n",
    "print()\n",
    "print(\"Grid scores on development set:\")\n",
    "print()\n",
    "means = clf.cv_results_['mean_test_score']\n",
    "stds = clf.cv_results_['std_test_score']\n",
    "for mean, std, params in zip(means, stds, clf.cv_results_['params']):\n",
    "    print(\"%0.3f (+/-%0.03f) for %r\"\n",
    "            % (mean, std * 2, params))\n",
    "print()\n",
    "\n",
    "print(\"Detailed classification report:\")\n",
    "print()\n",
    "print(\"The model is trained on the full development set.\")\n",
    "print(\"The scores are computed on the full evaluation set.\")\n",
    "print()\n",
    "from sklearn.metrics import classification_report"
   ]
  },
  {
   "cell_type": "markdown",
   "metadata": {},
   "source": [
    "### 3.4 Prédiction du classifieur sur la base de test"
   ]
  },
  {
   "cell_type": "code",
   "execution_count": 22,
   "metadata": {},
   "outputs": [],
   "source": [
    "# On prédit sur la base de test\n",
    "lbl_pred = clf.predict(data_test)"
   ]
  },
  {
   "cell_type": "markdown",
   "metadata": {},
   "source": [
    "### 3.5 Evaluation du classifieur sur la base de test"
   ]
  },
  {
   "cell_type": "code",
   "execution_count": 23,
   "metadata": {},
   "outputs": [
    {
     "name": "stdout",
     "output_type": "stream",
     "text": [
      "La matrice de confusion sur le jeu d entrainement :\n",
      " [[27  0  0  0  0  0  0  0  0  0]\n",
      " [ 0 35  0  0  0  0  0  0  0  0]\n",
      " [ 0  0 36  0  0  0  0  0  0  0]\n",
      " [ 0  0  0 29  0  0  0  0  0  0]\n",
      " [ 0  0  0  0 30  0  0  0  0  0]\n",
      " [ 0  0  0  0  0 39  0  0  0  1]\n",
      " [ 0  0  0  0  0  0 44  0  0  0]\n",
      " [ 0  0  0  0  0  0  0 39  0  0]\n",
      " [ 0  1  0  0  0  0  0  0 38  0]\n",
      " [ 0  0  0  0  0  1  0  0  0 40]] \n",
      "\n",
      "L accuracy sur le jeu d entrainement est :\n",
      " 0.9916666666666667\n"
     ]
    }
   ],
   "source": [
    "# On importe les librairies pour l'évaluation\n",
    "from sklearn.metrics import accuracy_score \n",
    "from sklearn.metrics import confusion_matrix\n",
    "\n",
    "# On calcule la matrice de confusion\n",
    "cm_test = confusion_matrix(lbl_test, lbl_pred)\n",
    "print('La matrice de confusion sur le jeu d entrainement :\\n', cm_test, '\\n')\n",
    "\n",
    "# On calcul le score d accuracy\n",
    "acc_train=accuracy_score(lbl_test, lbl_pred)\n",
    "print('L accuracy sur le jeu d entrainement est :\\n', acc_train)\n"
   ]
  },
  {
   "cell_type": "markdown",
   "metadata": {},
   "source": [
    "## 4. Deuxième version de l'apprentissage : train/test set (défini à la main)"
   ]
  },
  {
   "cell_type": "markdown",
   "metadata": {},
   "source": [
    "### 4.1 Organisation des données"
   ]
  },
  {
   "cell_type": "code",
   "execution_count": 24,
   "metadata": {},
   "outputs": [
    {
     "name": "stdout",
     "output_type": "stream",
     "text": [
      "Nombre de splits créé\n",
      " 1\n",
      "(1437, 64)\n",
      "(360, 64)\n",
      "(1797, 64)\n",
      "(1797,)\n"
     ]
    }
   ],
   "source": [
    "# On importe les librairies nécessaires\n",
    "from sklearn.model_selection import train_test_split\n",
    "from sklearn.model_selection import PredefinedSplit\n",
    "\n",
    "# On split les données en jeux de train et test (20% de données en test)\n",
    "(data_train, data_test, lbl_train, lbl_test) = train_test_split(data, label, test_size = 0.2, random_state = 0)\n",
    "\n",
    "# On créé notre propre split de données pour l'optimisation\n",
    "train_idx     = np.full(len(lbl_train), -1, dtype=int)\n",
    "test_idx      = np.full(len(lbl_test), 1, dtype=int)\n",
    "myFold        = np.append(train_idx, test_idx)\n",
    "ps            = PredefinedSplit(myFold)\n",
    "\n",
    "dataL          = np.vstack((data_train, data_test))\n",
    "labelL         = np.append(lbl_train, lbl_test)\n",
    "\n",
    "# On vérifie combien de split on a créé\n",
    "print('Nombre de splits créé\\n', ps.get_n_splits())\n",
    "\n",
    "print(np.shape(data_train))\n",
    "print(np.shape(data_test))\n",
    "\n",
    "print(np.shape(dataL))\n",
    "print(np.shape(labelL))"
   ]
  },
  {
   "cell_type": "markdown",
   "metadata": {},
   "source": [
    "### 4.2 Déclaration du classifier"
   ]
  },
  {
   "cell_type": "code",
   "execution_count": 25,
   "metadata": {},
   "outputs": [],
   "source": [
    "# On importe la librairie SVM (ou autre classifieur)\n",
    "from sklearn import svm\n",
    "\n",
    "# Maintenant on peut utiliser la librairie d'optimisation gridSearchCV\n",
    "from sklearn.model_selection import GridSearchCV\n",
    "\n",
    "# Set the parameters by cross-validation\n",
    "tuned_parameters = [{'kernel': ['rbf'], 'gamma': [1e-3, 1e-4],\n",
    "                     'C': [1, 10, 100, 1000]},\n",
    "                    {'kernel': ['linear'], 'C': [1, 10, 100, 1000]}]\n",
    "# \n",
    "score = 'accuracy'\n",
    "\n",
    "# On apprend le classifier sur les données\n",
    "clf = GridSearchCV(svm.SVC(), tuned_parameters, cv=ps,\n",
    "                       scoring=score)  #'%s_macro' % score)\n"
   ]
  },
  {
   "cell_type": "markdown",
   "metadata": {},
   "source": [
    "### 4.3 Apprentissage du classifier"
   ]
  },
  {
   "cell_type": "code",
   "execution_count": 26,
   "metadata": {},
   "outputs": [
    {
     "name": "stdout",
     "output_type": "stream",
     "text": [
      "Best parameters set found on development set:\n",
      "\n",
      "{'C': 1, 'gamma': 0.001, 'kernel': 'rbf'}\n",
      "\n",
      "Grid scores on development set:\n",
      "\n",
      "0.992 (+/-0.000) for {'C': 1, 'gamma': 0.001, 'kernel': 'rbf'}\n",
      "0.981 (+/-0.000) for {'C': 1, 'gamma': 0.0001, 'kernel': 'rbf'}\n",
      "0.992 (+/-0.000) for {'C': 10, 'gamma': 0.001, 'kernel': 'rbf'}\n",
      "0.989 (+/-0.000) for {'C': 10, 'gamma': 0.0001, 'kernel': 'rbf'}\n",
      "0.992 (+/-0.000) for {'C': 100, 'gamma': 0.001, 'kernel': 'rbf'}\n",
      "0.989 (+/-0.000) for {'C': 100, 'gamma': 0.0001, 'kernel': 'rbf'}\n",
      "0.992 (+/-0.000) for {'C': 1000, 'gamma': 0.001, 'kernel': 'rbf'}\n",
      "0.989 (+/-0.000) for {'C': 1000, 'gamma': 0.0001, 'kernel': 'rbf'}\n",
      "0.978 (+/-0.000) for {'C': 1, 'kernel': 'linear'}\n",
      "0.978 (+/-0.000) for {'C': 10, 'kernel': 'linear'}\n",
      "0.978 (+/-0.000) for {'C': 100, 'kernel': 'linear'}\n",
      "0.978 (+/-0.000) for {'C': 1000, 'kernel': 'linear'}\n",
      "\n",
      "Detailed classification report:\n",
      "\n",
      "The model is trained on the full development set.\n",
      "The scores are computed on the full evaluation set.\n",
      "\n"
     ]
    }
   ],
   "source": [
    "# On apprend le classifier sur la base d'entrainement\n",
    "clf.fit(dataL, labelL)\n",
    "\n",
    "print(\"Best parameters set found on development set:\")\n",
    "print()\n",
    "print(clf.best_params_)\n",
    "print()\n",
    "print(\"Grid scores on development set:\")\n",
    "print()\n",
    "means = clf.cv_results_['mean_test_score']\n",
    "stds = clf.cv_results_['std_test_score']\n",
    "for mean, std, params in zip(means, stds, clf.cv_results_['params']):\n",
    "    print(\"%0.3f (+/-%0.03f) for %r\"\n",
    "            % (mean, std * 2, params))\n",
    "print()\n",
    "\n",
    "print(\"Detailed classification report:\")\n",
    "print()\n",
    "print(\"The model is trained on the full development set.\")\n",
    "print(\"The scores are computed on the full evaluation set.\")\n",
    "print()\n",
    "from sklearn.metrics import classification_report"
   ]
  },
  {
   "cell_type": "markdown",
   "metadata": {},
   "source": [
    "### 4.4 Prédiction du classifieur sur la base de test"
   ]
  },
  {
   "cell_type": "code",
   "execution_count": 27,
   "metadata": {},
   "outputs": [],
   "source": [
    "# On prédit sur la base de test\n",
    "lbl_pred = clf.predict(data_test)\n"
   ]
  },
  {
   "cell_type": "markdown",
   "metadata": {},
   "source": [
    "### 4.5 Evaluation du classifieur sur la base de test"
   ]
  },
  {
   "cell_type": "code",
   "execution_count": 28,
   "metadata": {},
   "outputs": [
    {
     "name": "stdout",
     "output_type": "stream",
     "text": [
      "La matrice de confusion sur le jeu d entrainement :\n",
      " [[27  0  0  0  0  0  0  0  0  0]\n",
      " [ 0 35  0  0  0  0  0  0  0  0]\n",
      " [ 0  0 36  0  0  0  0  0  0  0]\n",
      " [ 0  0  0 29  0  0  0  0  0  0]\n",
      " [ 0  0  0  0 30  0  0  0  0  0]\n",
      " [ 0  0  0  0  0 39  0  0  0  1]\n",
      " [ 0  0  0  0  0  0 44  0  0  0]\n",
      " [ 0  0  0  0  0  0  0 39  0  0]\n",
      " [ 0  0  0  0  0  0  0  0 39  0]\n",
      " [ 0  0  0  0  0  0  0  0  0 41]] \n",
      "\n",
      "L accuracy sur le jeu d entrainement est :\n",
      " 0.9972222222222222\n"
     ]
    }
   ],
   "source": [
    "# On importe les librairies pour l'évaluation\n",
    "from sklearn.metrics import accuracy_score \n",
    "from sklearn.metrics import confusion_matrix\n",
    "\n",
    "# On calcule la matrice de confusion\n",
    "cm_test = confusion_matrix(lbl_test, lbl_pred)\n",
    "print('La matrice de confusion sur le jeu d entrainement :\\n', cm_test, '\\n')\n",
    "\n",
    "# On calcul le score d accuracy\n",
    "acc_train=accuracy_score(lbl_test, lbl_pred)\n",
    "print('L accuracy sur le jeu d entrainement est :\\n', acc_train)"
   ]
  },
  {
   "cell_type": "code",
   "execution_count": null,
   "metadata": {},
   "outputs": [],
   "source": [
    "## C'EST BEAUCOUP MIEUX!!! :-)"
   ]
  }
 ],
 "metadata": {
  "kernelspec": {
   "display_name": "Python 3.10.4 ('env_tp_ML')",
   "language": "python",
   "name": "python3"
  },
  "language_info": {
   "codemirror_mode": {
    "name": "ipython",
    "version": 3
   },
   "file_extension": ".py",
   "mimetype": "text/x-python",
   "name": "python",
   "nbconvert_exporter": "python",
   "pygments_lexer": "ipython3",
   "version": "3.10.4"
  },
  "vscode": {
   "interpreter": {
    "hash": "8c8ab1bfed061e00359340c8ffe3850b6ac7718bb567451071710e7eaa05c23f"
   }
  }
 },
 "nbformat": 4,
 "nbformat_minor": 2
}
