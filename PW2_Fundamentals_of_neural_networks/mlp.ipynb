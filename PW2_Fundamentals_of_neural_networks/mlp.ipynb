{
  "cells": [
    {
      "cell_type": "code",
      "execution_count": null,
      "metadata": {
        "id": "Lp_bWhjIL-kq"
      },
      "outputs": [],
      "source": []
    },
    {
      "cell_type": "markdown",
      "source": [
        "*   **Name** : GHOUL\n",
        "*   **First name** : Branis\n",
        "*   **Student number** : 28612738\n",
        "*   **Master** : ISI"
      ],
      "metadata": {
        "id": "g0YoAOvHGKh4"
      }
    },
    {
      "cell_type": "markdown",
      "source": [
        "#Rendering of the advanced machine learning practical work 1 \n",
        "\n"
      ],
      "metadata": {
        "id": "QIHu-fuLEvlU"
      }
    },
    {
      "cell_type": "markdown",
      "source": [
        "# Import libraries  "
      ],
      "metadata": {
        "id": "mVh0UayBDokE"
      }
    },
    {
      "cell_type": "code",
      "source": [
        "# Import all the tools we need \n",
        "\n",
        "# Regular EDA and ploting libraries \n",
        "import pandas as pd \n",
        "import numpy as np \n",
        "import matplotlib.pyplot as plt\n",
        "import seaborn as sns \n",
        "from tqdm import tqdm\n",
        "\n",
        "%matplotlib inline \n",
        "#Cause we want our plots to appear in the notebook\n",
        "\n",
        "# Model evaluation \n",
        "from sklearn.model_selection import train_test_split\n",
        "from sklearn.metrics import confusion_matrix\n",
        "from sklearn.metrics import accuracy_score\n",
        "\n",
        "# We deactivate the warnings\n",
        "import warnings\n",
        "warnings.filterwarnings('ignore') "
      ],
      "metadata": {
        "id": "h0pzOG4oDmms"
      },
      "execution_count": 58,
      "outputs": []
    },
    {
      "cell_type": "markdown",
      "source": [
        "# Generate and view a dataset"
      ],
      "metadata": {
        "id": "4i7tcI0MErlO"
      }
    },
    {
      "cell_type": "code",
      "execution_count": 59,
      "metadata": {
        "notebookRunGroups": {
          "groupValue": ""
        },
        "id": "saCXjzSIL-kr"
      },
      "outputs": [],
      "source": [
        "def generate_data_3classes(n1,n2,n3, display=True):\n",
        "    X1 = np.random.randn(n1,2)*0.15 - np.array([0.2 , 0.2])\n",
        "    X2 = np.random.randn(n2,2)*0.25 + np.array([0.1 , 0.5])\n",
        "    X3 = np.random.randn(n3,2)*0.15 + np.array([0.6 , 0.2])\n",
        "    X = np.concatenate((X1,X2,X3), axis=0)\n",
        "    Y = np.concatenate([np.ones(n1), np.ones(n2)*2, np.ones(n3)*3])-1\n",
        "\n",
        "    if display:\n",
        "        plt.plot(X1[:,0], X1[:,1], '.r')\n",
        "        plt.plot(X2[:,0], X2[:,1], '.g')\n",
        "        plt.plot(X3[:,0], X3[:,1], '.b')\n",
        "        plt.show()\n",
        "\n",
        "    return X,Y\n",
        "\n",
        "# Converts a class vector (integers) to binary class matrix (copy from keras)\n",
        "def to_categorical(y, num_classes=None, dtype=\"float32\"):\n",
        "    y = np.array(y, dtype=\"int\")\n",
        "    input_shape = y.shape\n",
        "    if input_shape and input_shape[-1] == 1 and len(input_shape) > 1:\n",
        "        input_shape = tuple(input_shape[:-1])\n",
        "    y = y.ravel()\n",
        "    if not num_classes:\n",
        "        num_classes = np.max(y) + 1\n",
        "    n = y.shape[0]\n",
        "    categorical = np.zeros((n, num_classes), dtype=dtype)\n",
        "    categorical[np.arange(n), y] = 1\n",
        "    output_shape = input_shape + (num_classes,)\n",
        "    categorical = np.reshape(categorical, output_shape)\n",
        "    return categorical"
      ]
    },
    {
      "cell_type": "code",
      "source": [
        "X_train, Y_train = generate_data_3classes(100, 200, 150)\n",
        "X_train.shape, Y_train.shape"
      ],
      "metadata": {
        "id": "YdB2tuVLqjw3",
        "outputId": "9b85763d-5122-4436-94ef-a9b8942c9406",
        "colab": {
          "base_uri": "https://localhost:8080/",
          "height": 282
        }
      },
      "execution_count": 60,
      "outputs": [
        {
          "output_type": "display_data",
          "data": {
            "text/plain": [
              "<Figure size 432x288 with 1 Axes>"
            ],
            "image/png": "[encoded data removed]"
          },
          "metadata": {
            "needs_background": "light"
          }
        },
        {
          "output_type": "execute_result",
          "data": {
            "text/plain": [
              "((450, 2), (450,))"
            ]
          },
          "metadata": {},
          "execution_count": 60
        }
      ]
    },
    {
      "cell_type": "code",
      "source": [
        "Y_cat = to_categorical(Y_train)\n",
        "Y_cat.shape, Y_cat"
      ],
      "metadata": {
        "id": "U9S7wyMxrHiu",
        "outputId": "47a85a12-0727-4afa-d16a-d4d7f04b219c",
        "colab": {
          "base_uri": "https://localhost:8080/"
        }
      },
      "execution_count": 61,
      "outputs": [
        {
          "output_type": "execute_result",
          "data": {
            "text/plain": [
              "((450, 3), array([[1., 0., 0.],\n",
              "        [1., 0., 0.],\n",
              "        [1., 0., 0.],\n",
              "        ...,\n",
              "        [0., 0., 1.],\n",
              "        [0., 0., 1.],\n",
              "        [0., 0., 1.]], dtype=float32))"
            ]
          },
          "metadata": {},
          "execution_count": 61
        }
      ]
    },
    {
      "cell_type": "code",
      "execution_count": 62,
      "metadata": {
        "id": "YGIM2D2xL-ks",
        "outputId": "b9bb694f-b80c-40fa-ecd5-724495db3edc",
        "colab": {
          "base_uri": "https://localhost:8080/",
          "height": 265
        }
      },
      "outputs": [
        {
          "output_type": "display_data",
          "data": {
            "text/plain": [
              "<Figure size 432x288 with 1 Axes>"
            ],
            "image/png": "[encoded data removed]"
          },
          "metadata": {
            "needs_background": "light"
          }
        }
      ],
      "source": [
        "X_train, Y_train = generate_data_3classes(100, 200, 150)\n",
        "Y_cat = to_categorical(Y_train)\n",
        "\n",
        "K=Y_cat.shape[1] # nombre de classes\n",
        "(num_examples, D) = X_train.shape # nombre d'exemples et dimension des exemples"
      ]
    },
    {
      "cell_type": "code",
      "execution_count": 63,
      "metadata": {
        "id": "J7bCUy_jL-ks"
      },
      "outputs": [],
      "source": [
        "# Fonction sigmoide\n",
        "def sigmo(v):\n",
        "\treturn 1/(1 + np.exp(-v))\n",
        "\n",
        "# Derivative sigmoid function\n",
        "def sigmop(v):\n",
        "\treturn v * (1 - v)"
      ]
    },
    {
      "cell_type": "code",
      "execution_count": 64,
      "metadata": {
        "id": "cfb_040kL-kt"
      },
      "outputs": [],
      "source": [
        "# Random initialization of weights\n",
        "W = 1 * np.random.normal(size=(D,K))\n",
        "b = np.zeros((1,K))\n",
        "\n",
        "# Learning parameters\n",
        "step_size = 1e-1\n",
        "num_iter = 20000"
      ]
    },
    {
      "cell_type": "markdown",
      "source": [
        "# Learning the network "
      ],
      "metadata": {
        "id": "3eqB7_dTS1ns"
      }
    },
    {
      "cell_type": "markdown",
      "source": [
        "In this part we will create a single layer neural network model that can classify many different objects (n classes). We will use two different cost functions: mean square error and log loss. The latter are optimized with the gradient slope algorithm. Then we will evaluate the performance of our model with the two different cost functions."
      ],
      "metadata": {
        "id": "BQgE-r3cPJ87"
      }
    },
    {
      "cell_type": "code",
      "source": [
        "from abc import ABC, abstractmethod\n",
        "\n",
        "class CostFunction(ABC):\n",
        "  def __init__(self, X, y_t, y):\n",
        "    self.X = X\n",
        "    self.y_t = y_t\n",
        "    self.y = y\n",
        "    self.err = y_t - y\n",
        "\n",
        "  @abstractmethod\n",
        "  def loss(self):\n",
        "    pass\n",
        "  \n",
        "  @abstractmethod\n",
        "  def lossp(self):\n",
        "    pass\n",
        "\n",
        "\n",
        "class LogLoss(CostFunction):\n",
        "  def __init__(self, X, y_t, y):\n",
        "    super().__init__(X, y_t, y)\n",
        "  \n",
        "  def loss(self):\n",
        "    epsilon = 1e-15\n",
        "    return 1 / len(self.y) * np.sum(-self.y * np.log(y_t + epsilon) - (1 - self.y) * np.log(1 - y_t + epsilon))\n",
        "  \n",
        "  def lossp(self):\n",
        "    dW = 1/len(y) * np.dot(X.T, self.err)\n",
        "    db = 1/len(y) * np.sum(self.err)\n",
        "    return (dW, db)\n",
        "\n",
        "\n",
        "class Mse(CostFunction):\n",
        "  def __init__(self, X, y_t, y):\n",
        "    super().__init__(X, y_t, y)\n",
        "  \n",
        "  def loss(self):\n",
        "    return 1/len(y) * np.sum(self.err**2)\n",
        "  \n",
        "  def lossp(self):\n",
        "    dW = 2 * np.dot( X.T, self.err*sigmop(y_t))\n",
        "    db = 2 * np.sum(self.err*sigmop(y_t), axis=0)\n",
        "\n",
        "\n",
        "class SingleLayerNeuralNetwork:\n",
        "  \"\"\"single layer neural network using gradient descent for n-class classification.\n",
        "  Parameters\n",
        "  ----------\n",
        "  X             : numpy.ndarray\n",
        "                  Train Dataset\n",
        "  y             : numpy.ndarray\n",
        "                  Labels of train dataset\n",
        "\n",
        "  Attributes\n",
        "  ----------\n",
        "  X             : numpy.ndarray\n",
        "                  Train Dataset\n",
        "  y             : numpy.ndarray\n",
        "                  Labels of train dataset\n",
        "  nb_neurons    : int \n",
        "                number of neurons in the single layer neural network  \n",
        "  W, b          : weights/ after fitting the model\n",
        "  \"\"\"\n",
        "\n",
        "  def __init__(self, X, y, cost_function):\n",
        "    self.X = X\n",
        "    self.y = y\n",
        "\n",
        "    assert len(np.unique(y)) > 1\n",
        "    if np.unique(y)>2:\n",
        "      self.nb_neurons = len(np.unique(y))\n",
        "    else:\n",
        "      self.nb_neurons = 1\n",
        "\n",
        "    self.W = np.random.normal(loc=0.0, scale=1.0, size=(X.shape[1],  self.nb_neurons))\n",
        "    self.b = np.random.normal(loc=0.0, scale=1.0, size=(self.nb_neurons)) \n",
        "    self.cost_function = cost_function\n",
        "\n",
        "  def model(self):\n",
        "    v = self.X.dot(self.W) + self.b\n",
        "    y_t = sigmo(v)\n",
        "    return (y_t, v)\n",
        "\n",
        "  def update_weights(W, b, dW, db, eps=1e-3):\n",
        "    self.W = self.W - eps*dW\n",
        "    self.b = self.b - eps*db\n",
        "    return (self.W, self.b)\n",
        "\n",
        "  def predict(X):\n",
        "    y_t, _ = self.model()\n",
        "    return np.argmax(y_t, axis=1) if len(np.unique(y_t)) else y_t >= 0.5\n"
      ],
      "metadata": {
        "id": "w-Erl5__N6pA"
      },
      "execution_count": 68,
      "outputs": []
    },
    {
      "cell_type": "code",
      "source": [
        "# Help functions \n",
        "def plot_decision_boundary(X, y, W, b, ax):\n",
        "  \"\"\"\n",
        "  Plots the decision boundary created by a model predicting on X.\n",
        "  This function has been adapted from two phenomenal resources:\n",
        "   1. CS231n - https://cs231n.github.io/neural-networks-case-study/\n",
        "   2. Made with ML basics - https://github.com/GokuMohandas/MadeWithML/blob/main/notebooks/08_Neural_Networks.ipynb\n",
        "  \"\"\"\n",
        "  # Define the axis boundaries of the plot and create a meshgrid\n",
        "  x_min, x_max = X[:, 0].min() - 0.1, X[:, 0].max() + 0.1\n",
        "  y_min, y_max = X[:, 1].min() - 0.1, X[:, 1].max() + 0.1\n",
        "  xx, yy = np.meshgrid(np.linspace(x_min, x_max, 100),\n",
        "                       np.linspace(y_min, y_max, 100))\n",
        "  \n",
        "  # Create X values (we're going to predict on all of these)\n",
        "  x_in = np.c_[xx.ravel(), yy.ravel()] # stack 2D arrays together: https://numpy.org/devdocs/reference/generated/numpy.c_.html\n",
        "  \n",
        "  # Make predictions using the trained model\n",
        "  y_pred = predict(x_in, W, b).reshape(xx.shape)\n",
        "  \n",
        "  # Plot decision boundary\n",
        "  ax.contourf(xx, yy, y_pred, cmap=plt.cm.RdYlBu, alpha=0.7)\n",
        "  ax.scatter(X[:, 0], X[:, 1], c=y, s=40, cmap=plt.cm.RdYlBu)\n",
        "  # ax.xlim(xx.min(), xx.max())\n",
        "  # ax.ylim(yy.min(), yy.max())"
      ],
      "metadata": {
        "id": "XO1e37iaH0XM"
      },
      "execution_count": null,
      "outputs": []
    },
    {
      "cell_type": "code",
      "source": [
        "# Learning the network\n",
        "X = X_train\n",
        "Y = Y_train\n",
        "\n",
        "snn = SingleLayerNeuralNetwork()\n",
        "# dictionary containing future accuracy and log_loss\n",
        "training_history = {'log_loss': [],\n",
        "                    'accuracy': []}\n",
        "\n",
        "for i in range(num_iter):\n",
        "  # ==== propagation ==== #\n",
        "\n",
        "  # State of the neurons\n",
        "  y_t, _ = model(X_train, W, b)\n",
        "  # log loss error\n",
        "  Loss = log_loss(y_t, Y_cat)\n",
        "  # Save accuracy score and log loss erroe for each iteration in a dictionary\n",
        "  training_history['log_loss'].append(Loss)\n",
        "  y_pred = predict(X, W, b)\n",
        "  training_history['accuracy'].append(accuracy_score(Y.flatten(), y_pred.flatten()))\n",
        "\n",
        "  if i % 1000 == 0:   \n",
        "    print('iteration {}: loss {}'.format(i, Loss))\n",
        "      \n",
        "  # ==== retro-propagation ==== #\n",
        "\n",
        "  dL_W, dL_b = gradients_log_loss(y_t, X, Y_cat)\n",
        "  W, b =  update_weights(W, b, dL_W, dL_b, eps=step_size)        \n",
        "  \n"
      ],
      "metadata": {
        "colab": {
          "base_uri": "https://localhost:8080/"
        },
        "id": "SamI-jhSL45j",
        "outputId": "5f6127fc-4492-4a9b-a7b6-02eb134e3319"
      },
      "execution_count": 69,
      "outputs": [
        {
          "output_type": "stream",
          "name": "stdout",
          "text": [
            "iteration 0: loss 2.1385324583643905\n",
            "iteration 1000: loss 0.7042763437165381\n",
            "iteration 2000: loss 0.5831844511766392\n",
            "iteration 3000: loss 0.5322930550387086\n",
            "iteration 4000: loss 0.5033393924803703\n",
            "iteration 5000: loss 0.4843451192928104\n",
            "iteration 6000: loss 0.47080137901337205\n",
            "iteration 7000: loss 0.46060068581425684\n",
            "iteration 8000: loss 0.45261470593267616\n",
            "iteration 9000: loss 0.446179866468433\n",
            "iteration 10000: loss 0.4408780361728779\n",
            "iteration 11000: loss 0.4364314231990309\n",
            "iteration 12000: loss 0.432647581428659\n",
            "iteration 13000: loss 0.42938858784366635\n",
            "iteration 14000: loss 0.42655278373408234\n",
            "iteration 15000: loss 0.42406345386269095\n",
            "iteration 16000: loss 0.4218615337549352\n",
            "iteration 17000: loss 0.41990075654060827\n",
            "iteration 18000: loss 0.41814433154279057\n",
            "iteration 19000: loss 0.41656261510421777\n"
          ]
        }
      ]
    },
    {
      "cell_type": "code",
      "source": [
        "# Plot courbe d'apprentissage\n",
        "fig, axes = plt.subplots(1, 3, figsize=(20, 5))\n",
        "axes[0].plot(training_history['log_loss'], label='train log_loss')\n",
        "axes[1].plot(training_history['accuracy'], label='train accuracy')\n",
        "plot_decision_boundary(X, Y, W, b, axes[2])"
      ],
      "metadata": {
        "colab": {
          "base_uri": "https://localhost:8080/",
          "height": 320
        },
        "id": "WD6GdD6iomBD",
        "outputId": "63ba4bbd-86fe-42c8-d701-8c8faaabc499"
      },
      "execution_count": 70,
      "outputs": [
        {
          "output_type": "display_data",
          "data": {
            "text/plain": [
              "<Figure size 1440x360 with 3 Axes>"
            ],
            "image/png": "[encoded data removed]"
          },
          "metadata": {
            "needs_background": "light"
          }
        }
      ]
    },
    {
      "cell_type": "code",
      "execution_count": 34,
      "metadata": {
        "id": "2fmP9q-XL-kt",
        "colab": {
          "base_uri": "https://localhost:8080/",
          "height": 442
        },
        "outputId": "90e40a58-9db6-4238-c128-092c4a86f7ab"
      },
      "outputs": [
        {
          "output_type": "stream",
          "name": "stdout",
          "text": [
            "iteration 0: loss -424.10194911847253\n",
            "iteration 1: loss -427.14863129782475\n",
            "iteration 2: loss -431.0811790978156\n",
            "iteration 3: loss -436.1989852291788\n",
            "iteration 4: loss -442.9219217198664\n",
            "iteration 5: loss -451.81910834860753\n",
            "iteration 6: loss -463.58340702677526\n",
            "iteration 7: loss -478.8039349386802\n",
            "iteration 8: loss -497.2665175172576\n",
            "iteration 9: loss -516.8969326092086\n"
          ]
        },
        {
          "output_type": "display_data",
          "data": {
            "text/plain": [
              "<Figure size 432x288 with 1 Axes>"
            ],
            "image/png": "[encoded data removed]"
          },
          "metadata": {
            "needs_background": "light"
          }
        }
      ],
      "source": [
        "# Learning the network\n",
        "X = X_train\n",
        "Y = Y_train\n",
        "\n",
        "\n",
        "# List of quadratic errors\n",
        "se = []\n",
        "for i in range(num_iter):\n",
        "    # ==== propagation ==== #\n",
        "\n",
        "    # State of the neurons\n",
        "    v = X.dot(W)\n",
        "    # Transition function\n",
        "    Y_t = sigmo(v)\n",
        "    # Loss function (quadratic error)\n",
        "    eps = (Y_t - to_categorical(Y))\n",
        "    loss = -np.sum(eps**2)\n",
        "    # Save errors for each iteration in a list \n",
        "    se.append(loss)\n",
        "\n",
        "    if i % 1 == 0:   \n",
        "        print('iteration {}: loss {}'.format(i, loss))\n",
        "        \n",
        "\n",
        "    # ==== retro-propagation ==== #\n",
        "\n",
        "    dL_W = 2 * np.dot(X.T, (eps * sigmop(v)))\n",
        "    dL_b = 2 * np.sum(eps * sigmop(v))        \n",
        "\n",
        "    W = W - step_size * dL_W\n",
        "    b = b - step_size * dL_b\n",
        "    \n",
        "\n",
        "# Visualize the squared error for each iteration \n",
        "plt.plot(se)\n",
        "plt.show()\n"
      ]
    },
    {
      "cell_type": "code",
      "source": [
        "Y_t.shape, to_categorical(Y).shape"
      ],
      "metadata": {
        "colab": {
          "base_uri": "https://localhost:8080/"
        },
        "id": "BNurjJV4WTSq",
        "outputId": "008f8d28-8710-4a1a-d5a0-20ec2f793a29"
      },
      "execution_count": 12,
      "outputs": [
        {
          "output_type": "execute_result",
          "data": {
            "text/plain": [
              "((450, 3), (450, 3))"
            ]
          },
          "metadata": {},
          "execution_count": 12
        }
      ]
    },
    {
      "cell_type": "code",
      "execution_count": null,
      "metadata": {
        "id": "Bktl0_orL-kt"
      },
      "outputs": [],
      "source": [
        "# calcul de la précision\n",
        "Y_pred = np.max(v, axis=1)\n",
        "class_pred = np.argmax(v, axis=1)\n",
        "print('Training accuracy: {:.2}'.format(np.mean(class_pred == Y_train)))"
      ]
    },
    {
      "cell_type": "markdown",
      "source": [
        "# Go further"
      ],
      "metadata": {
        "id": "fpg-VAHHZfS1"
      }
    },
    {
      "cell_type": "markdown",
      "metadata": {
        "id": "quSOcQ_WL-ku"
      },
      "source": [
        "Pour aller plus loin : \n",
        "- code d'évaluation des performances (et de visualisation)\n",
        "- création d'un jeu de test indépendant (performance en généralisation)\n",
        "- ajouter une couche cachée (observer les gains en performance et les frontières de décision)\n"
      ]
    },
    {
      "cell_type": "code",
      "source": [
        "class MLP:\n",
        "  \"\"\"MLPs using gradient descent for n-class classification.\n",
        "  Parameters\n",
        "  ----------\n",
        "  X             : numpy.ndarray\n",
        "                  Train Dataset\n",
        "  y             : numpy.ndarray\n",
        "                  Labels of train dataset\n",
        "  hidden_layers : list\n",
        "                  hidden_layers\n",
        "\n",
        "  Attributes\n",
        "  ----------\n",
        "  X             : numpy.ndarray\n",
        "                  Train Dataset\n",
        "  y             : numpy.ndarray\n",
        "                  Labels of train dataset\n",
        "  all_layers    : list\n",
        "                 A list containing the number of \n",
        "                 neurons of all layers of the MLP model\n",
        "  weights       : weights/ after fitting the model\n",
        "\n",
        "  \"\"\"\n",
        "\n",
        "  def init_weights(self, all_layers):\n",
        "    np.random.seed(1)\n",
        "    weights = {}\n",
        "\n",
        "    for layer in range(1, len(all_layers)):\n",
        "      weights['W' + str(layer)] = np.random.randn(all_layers[layer], all_layers[layer - 1])\n",
        "      weights['b' + str(layer)] = np.random.randn(all_layers[layer], 1)\n",
        "\n",
        "    return weights\n",
        "\n",
        "\n",
        "  def __init__(self, X, y, hidden_layers):\n",
        "    self.X = X\n",
        "    self.y = y\n",
        "    # self.all_layers = [X.shape[1]] + hidden_layers + [len(np.unique(y))]\n",
        "    self.all_layers = [X.shape[1]] + hidden_layers + [1]\n",
        "    self.weights = self.init_weights(self.all_layers)\n",
        "\n",
        "  def forward_propagation(self):\n",
        "    transition = {'A0': self.X}\n",
        "    network_size = len(self.all_layers)\n",
        "\n",
        "    for layer in range(1, network_size + 1):\n",
        "      Z = self.weights['W' + str(layer)].dot(transition['A' + str(layer - 1)]) + self.weights['b' + str(layer)]\n",
        "      transition['A' + str(layer)] = 1 / (1 + np.exp(-Z))\n",
        "\n",
        "    return transition\n",
        "  \n",
        "  def back_propagation(self, transition):\n",
        "\n",
        "    m = self.y.shape[1]\n",
        "    network_size = len(self.all_layers)\n",
        "\n",
        "    dZ = transition['A' + str(network_size)] - y\n",
        "    gradients = {}\n",
        "\n",
        "    for layer in reversed(range(1, network_size + 1)):\n",
        "      gradients['dW' + str(layer)] = 1/m * np.dot(dZ, transition['A' + str(layer - 1)].T)\n",
        "      gradients['db' + str(layer)] = 1/m * np.sum(dZ, axis=1, keepdims=True)\n",
        "      if layer > 1:\n",
        "        dZ = np.dot(self.weights['W' + str(layer)].T, dZ) * transition['A' + str(layer - 1)] * (1 - transition['A' + str(layer - 1)])\n",
        "\n",
        "    return gradients\n",
        "  \n",
        "  def update(self, gradients, learning_rate=1e-1):\n",
        "    network_size = len(self.all_layers)\n",
        "\n",
        "    for c in range(1, network_size + 1):\n",
        "        self.weights['W' + str(c)] = self.weights['W' + str(c)] - learning_rate * gradients['dW' + str(c)]\n",
        "        self.weights['b' + str(c)] = self.weights['b' + str(c)] - learning_rate * gradients['db' + str(c)]\n",
        "\n",
        "  def predict(self, X):\n",
        "    activations = self.forward_propagation()\n",
        "    network_size = len(self.all_layers)\n",
        "    Af = activations['A' + str(network_size)]\n",
        "    return Af >= 0.5\n",
        "\n",
        "\n",
        "  def fit(self, learning_rate=1e-3, n_iter=100):\n",
        "    \"\"\"\n",
        "    parameters :\n",
        "    ------------\n",
        "    learning_rate : float\n",
        "                  The learning step of the gradient decent\n",
        "    n_iter        : int\n",
        "                  The number of learning iterations of the MLP model \n",
        "    \"\"\"\n",
        "    # dictionary containing future accuracy and log_loss\n",
        "    training_history = {'training_accuracy' : [],\n",
        "                        'training_log_loss'  : []}\n",
        "    network_size = len(self.all_layers)\n",
        "\n",
        "    # gradient descent\n",
        "    for i in tqdm(range(n_iter)):\n",
        "\n",
        "        transision = self.forward_propagation()\n",
        "        gradients = self.back_propagation(y, transision)\n",
        "        self.update(gradients, learning_rate)\n",
        "        Af = transision['A' + str(network_size)]\n",
        "\n",
        "        # calcul du log_loss et de l'accuracy\n",
        "        training_history['training_accuracy'] = log_loss(y.flatten(), Af.flatten())\n",
        "        y_pred = self.predict(X)\n",
        "        training_history['training_log_loss'] = accuracy_score(y.flatten(), y_pred.flatten())\n",
        "\n",
        "    # Plot courbe d'apprentissage\n",
        "    plt.figure(figsize=(12, 4))\n",
        "    plt.subplot(1, 2, 1)\n",
        "    plt.plot(training_history['training_log_loss'], label='train loss')\n",
        "    plt.legend()\n",
        "    plt.subplot(1, 2, 2)\n",
        "    plt.plot(training_history['training_accuracy'], label='train acc')\n",
        "    plt.legend()\n",
        "    plt.show()\n",
        "\n",
        "    return training_history  "
      ],
      "metadata": {
        "id": "hpmSdfAZZZbx"
      },
      "execution_count": 79,
      "outputs": []
    },
    {
      "cell_type": "markdown",
      "source": [
        "# Dataset"
      ],
      "metadata": {
        "id": "GljEDr5U55GU"
      }
    },
    {
      "cell_type": "code",
      "source": [
        "import numpy as np\n",
        "import matplotlib.pyplot as plt\n",
        "from sklearn.datasets import make_blobs, make_circles\n",
        "from sklearn.metrics import accuracy_score, log_loss\n",
        "from tqdm import tqdm\n",
        "from sklearn.metrics import accuracy_score, log_loss\n"
      ],
      "metadata": {
        "id": "ZNl6VACY5_-9"
      },
      "execution_count": 80,
      "outputs": []
    },
    {
      "cell_type": "code",
      "source": [
        "X, y = make_circles(n_samples=100, noise=0.1, factor=0.3, random_state=0)\n",
        "# X = X.T\n",
        "# y = y.reshape((1, y.shape[0]))\n",
        "y = y.reshape((-1, 1))\n",
        "print('dimensions de X:', X.shape)\n",
        "print('dimensions de y:', y.shape)\n",
        "\n",
        "# plt.scatter(X[0, :], X[1, :], c=y, cmap='summer')\n",
        "# plt.show()"
      ],
      "metadata": {
        "colab": {
          "base_uri": "https://localhost:8080/"
        },
        "id": "-XnoKgof56wg",
        "outputId": "82885355-24f5-4607-a2e3-564d540a03ea"
      },
      "execution_count": 81,
      "outputs": [
        {
          "output_type": "stream",
          "name": "stdout",
          "text": [
            "dimensions de X: (100, 2)\n",
            "dimensions de y: (100, 1)\n"
          ]
        }
      ]
    },
    {
      "cell_type": "code",
      "source": [
        "mlp = MLP(X, y, hidden_layers=[16, 16, 16])\n",
        "for k, v in mlp.weights.items():\n",
        "  print(v.shape) \n"
      ],
      "metadata": {
        "colab": {
          "base_uri": "https://localhost:8080/"
        },
        "id": "mXKZooxU6BZt",
        "outputId": "5adeecff-8d75-4ecd-8c78-fb2c3a3c113c"
      },
      "execution_count": 82,
      "outputs": [
        {
          "output_type": "stream",
          "name": "stdout",
          "text": [
            "(16, 2)\n",
            "(16, 1)\n",
            "(16, 16)\n",
            "(16, 1)\n",
            "(16, 16)\n",
            "(16, 1)\n",
            "(1, 16)\n",
            "(1, 1)\n"
          ]
        }
      ]
    },
    {
      "cell_type": "code",
      "source": [
        "training_history = mlp.fit(learning_rate=1e-3, n_iter=100)"
      ],
      "metadata": {
        "colab": {
          "base_uri": "https://localhost:8080/",
          "height": 328
        },
        "id": "InFHM8Ll9c3m",
        "outputId": "49cee187-8fd8-416f-b564-c263b976b9d3"
      },
      "execution_count": 83,
      "outputs": [
        {
          "output_type": "stream",
          "name": "stderr",
          "text": [
            "  0%|          | 0/100 [00:00<?, ?it/s]\n"
          ]
        },
        {
          "output_type": "error",
          "ename": "ValueError",
          "evalue": "ignored",
          "traceback": [
            "\u001b[0;31m---------------------------------------------------------------------------\u001b[0m",
            "\u001b[0;31mValueError\u001b[0m                                Traceback (most recent call last)",
            "\u001b[0;32m<ipython-input-83-c7007c15463b>\u001b[0m in \u001b[0;36m<module>\u001b[0;34m\u001b[0m\n\u001b[0;32m----> 1\u001b[0;31m \u001b[0mtraining_history\u001b[0m \u001b[0;34m=\u001b[0m \u001b[0mmlp\u001b[0m\u001b[0;34m.\u001b[0m\u001b[0mfit\u001b[0m\u001b[0;34m(\u001b[0m\u001b[0mlearning_rate\u001b[0m\u001b[0;34m=\u001b[0m\u001b[0;36m1e-3\u001b[0m\u001b[0;34m,\u001b[0m \u001b[0mn_iter\u001b[0m\u001b[0;34m=\u001b[0m\u001b[0;36m100\u001b[0m\u001b[0;34m)\u001b[0m\u001b[0;34m\u001b[0m\u001b[0;34m\u001b[0m\u001b[0m\n\u001b[0m",
            "\u001b[0;32m<ipython-input-79-6ddf1f74e02b>\u001b[0m in \u001b[0;36mfit\u001b[0;34m(self, learning_rate, n_iter)\u001b[0m\n\u001b[1;32m     99\u001b[0m     \u001b[0;32mfor\u001b[0m \u001b[0mi\u001b[0m \u001b[0;32min\u001b[0m \u001b[0mtqdm\u001b[0m\u001b[0;34m(\u001b[0m\u001b[0mrange\u001b[0m\u001b[0;34m(\u001b[0m\u001b[0mn_iter\u001b[0m\u001b[0;34m)\u001b[0m\u001b[0;34m)\u001b[0m\u001b[0;34m:\u001b[0m\u001b[0;34m\u001b[0m\u001b[0;34m\u001b[0m\u001b[0m\n\u001b[1;32m    100\u001b[0m \u001b[0;34m\u001b[0m\u001b[0m\n\u001b[0;32m--> 101\u001b[0;31m         \u001b[0mtransision\u001b[0m \u001b[0;34m=\u001b[0m \u001b[0mself\u001b[0m\u001b[0;34m.\u001b[0m\u001b[0mforward_propagation\u001b[0m\u001b[0;34m(\u001b[0m\u001b[0;34m)\u001b[0m\u001b[0;34m\u001b[0m\u001b[0;34m\u001b[0m\u001b[0m\n\u001b[0m\u001b[1;32m    102\u001b[0m         \u001b[0mgradients\u001b[0m \u001b[0;34m=\u001b[0m \u001b[0mself\u001b[0m\u001b[0;34m.\u001b[0m\u001b[0mback_propagation\u001b[0m\u001b[0;34m(\u001b[0m\u001b[0my\u001b[0m\u001b[0;34m,\u001b[0m \u001b[0mtransision\u001b[0m\u001b[0;34m)\u001b[0m\u001b[0;34m\u001b[0m\u001b[0;34m\u001b[0m\u001b[0m\n\u001b[1;32m    103\u001b[0m         \u001b[0mself\u001b[0m\u001b[0;34m.\u001b[0m\u001b[0mupdate\u001b[0m\u001b[0;34m(\u001b[0m\u001b[0mgradients\u001b[0m\u001b[0;34m,\u001b[0m \u001b[0mlearning_rate\u001b[0m\u001b[0;34m)\u001b[0m\u001b[0;34m\u001b[0m\u001b[0;34m\u001b[0m\u001b[0m\n",
            "\u001b[0;32m<ipython-input-79-6ddf1f74e02b>\u001b[0m in \u001b[0;36mforward_propagation\u001b[0;34m(self)\u001b[0m\n\u001b[1;32m     47\u001b[0m \u001b[0;34m\u001b[0m\u001b[0m\n\u001b[1;32m     48\u001b[0m     \u001b[0;32mfor\u001b[0m \u001b[0mlayer\u001b[0m \u001b[0;32min\u001b[0m \u001b[0mrange\u001b[0m\u001b[0;34m(\u001b[0m\u001b[0;36m1\u001b[0m\u001b[0;34m,\u001b[0m \u001b[0mnetwork_size\u001b[0m \u001b[0;34m+\u001b[0m \u001b[0;36m1\u001b[0m\u001b[0;34m)\u001b[0m\u001b[0;34m:\u001b[0m\u001b[0;34m\u001b[0m\u001b[0;34m\u001b[0m\u001b[0m\n\u001b[0;32m---> 49\u001b[0;31m       \u001b[0mZ\u001b[0m \u001b[0;34m=\u001b[0m \u001b[0mself\u001b[0m\u001b[0;34m.\u001b[0m\u001b[0mweights\u001b[0m\u001b[0;34m[\u001b[0m\u001b[0;34m'W'\u001b[0m \u001b[0;34m+\u001b[0m \u001b[0mstr\u001b[0m\u001b[0;34m(\u001b[0m\u001b[0mlayer\u001b[0m\u001b[0;34m)\u001b[0m\u001b[0;34m]\u001b[0m\u001b[0;34m.\u001b[0m\u001b[0mdot\u001b[0m\u001b[0;34m(\u001b[0m\u001b[0mtransition\u001b[0m\u001b[0;34m[\u001b[0m\u001b[0;34m'A'\u001b[0m \u001b[0;34m+\u001b[0m \u001b[0mstr\u001b[0m\u001b[0;34m(\u001b[0m\u001b[0mlayer\u001b[0m \u001b[0;34m-\u001b[0m \u001b[0;36m1\u001b[0m\u001b[0;34m)\u001b[0m\u001b[0;34m]\u001b[0m\u001b[0;34m)\u001b[0m \u001b[0;34m+\u001b[0m \u001b[0mself\u001b[0m\u001b[0;34m.\u001b[0m\u001b[0mweights\u001b[0m\u001b[0;34m[\u001b[0m\u001b[0;34m'b'\u001b[0m \u001b[0;34m+\u001b[0m \u001b[0mstr\u001b[0m\u001b[0;34m(\u001b[0m\u001b[0mlayer\u001b[0m\u001b[0;34m)\u001b[0m\u001b[0;34m]\u001b[0m\u001b[0;34m\u001b[0m\u001b[0;34m\u001b[0m\u001b[0m\n\u001b[0m\u001b[1;32m     50\u001b[0m       \u001b[0mtransition\u001b[0m\u001b[0;34m[\u001b[0m\u001b[0;34m'A'\u001b[0m \u001b[0;34m+\u001b[0m \u001b[0mstr\u001b[0m\u001b[0;34m(\u001b[0m\u001b[0mlayer\u001b[0m\u001b[0;34m)\u001b[0m\u001b[0;34m]\u001b[0m \u001b[0;34m=\u001b[0m \u001b[0;36m1\u001b[0m \u001b[0;34m/\u001b[0m \u001b[0;34m(\u001b[0m\u001b[0;36m1\u001b[0m \u001b[0;34m+\u001b[0m \u001b[0mnp\u001b[0m\u001b[0;34m.\u001b[0m\u001b[0mexp\u001b[0m\u001b[0;34m(\u001b[0m\u001b[0;34m-\u001b[0m\u001b[0mZ\u001b[0m\u001b[0;34m)\u001b[0m\u001b[0;34m)\u001b[0m\u001b[0;34m\u001b[0m\u001b[0;34m\u001b[0m\u001b[0m\n\u001b[1;32m     51\u001b[0m \u001b[0;34m\u001b[0m\u001b[0m\n",
            "\u001b[0;31mValueError\u001b[0m: shapes (16,2) and (100,2) not aligned: 2 (dim 1) != 100 (dim 0)"
          ]
        }
      ]
    },
    {
      "cell_type": "code",
      "source": [],
      "metadata": {
        "id": "JZSlhb6-7P5B"
      },
      "execution_count": null,
      "outputs": []
    }
  ],
  "metadata": {
    "kernelspec": {
      "display_name": "Python 3 (ipykernel)",
      "language": "python",
      "name": "python3"
    },
    "language_info": {
      "codemirror_mode": {
        "name": "ipython",
        "version": 3
      },
      "file_extension": ".py",
      "mimetype": "text/x-python",
      "name": "python",
      "nbconvert_exporter": "python",
      "pygments_lexer": "ipython3",
      "version": "3.9.13"
    },
    "orig_nbformat": 4,
    "vscode": {
      "interpreter": {
        "hash": "9f5af14daace554f6d695160d513a76faa40f5515cabb53273760d1b9fb23d38"
      }
    },
    "colab": {
      "provenance": [],
      "collapsed_sections": []
    }
  },
  "nbformat": 4,
  "nbformat_minor": 0
}