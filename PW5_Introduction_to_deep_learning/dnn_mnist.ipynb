{
 "cells": [
  {
   "cell_type": "markdown",
   "metadata": {},
   "source": [
    "# Apprentissage des réseaux profonds"
   ]
  },
  {
   "cell_type": "markdown",
   "metadata": {},
   "source": [
    "## 1. Importation des librairies"
   ]
  },
  {
   "cell_type": "code",
   "execution_count": 46,
   "metadata": {},
   "outputs": [],
   "source": [
    "import tensorflow as tf\n",
    "import numpy as np\n",
    "import matplotlib.pyplot as plt\n",
    "# Pour les utilisateurs de MacOS  (pour utiliser plt & keras en même temps)\n",
    "# import os\n",
    "# os.environ['KMP_DUPLICATE_LIB_OK']='True'\n",
    "# pour desactiver les warnings \n",
    "# import warnings\n",
    "# warnings.filterwarnings('ignore')\n",
    "# pour la reproductibilité des résultats\n",
    "from numpy.random import seed\n",
    "seed(1)\n",
    "tf.compat.v1.set_random_seed(1)"
   ]
  },
  {
   "cell_type": "markdown",
   "metadata": {},
   "source": [
    "## 2. Chargement des données d'apprentissage : la base MNIST"
   ]
  },
  {
   "cell_type": "code",
   "execution_count": 47,
   "metadata": {},
   "outputs": [],
   "source": [
    "mnist = tf.keras.datasets.mnist\n",
    "(train_images, train_labels), (test_images, test_labels) = mnist.load_data()"
   ]
  },
  {
   "cell_type": "code",
   "execution_count": 48,
   "metadata": {},
   "outputs": [
    {
     "name": "stdout",
     "output_type": "stream",
     "text": [
      "La dimention de la base de données d'apprentissage : (60000, 28, 28)\n",
      "La dimention de la base de données de test         : (10000, 28, 28)\n",
      "Nombre de classes de la base de données            : 10\n",
      "Les labels des classe de la base de données        : [0 1 2 3 4 5 6 7 8 9]\n"
     ]
    }
   ],
   "source": [
    "# Observez la dimension des données. A quoi correspondent ces dimensions ?\n",
    "print(f\"La dimention de la base de données d'apprentissage : {train_images.shape}\")\n",
    "print(f\"La dimention de la base de données de test         : {test_images.shape}\")\n",
    "print(f\"Nombre de classes de la base de données            : {len(np.unique(train_labels))}\")\n",
    "print(f\"Les labels des classe de la base de données        : {np.sort(np.unique(train_labels))}\")"
   ]
  },
  {
   "cell_type": "markdown",
   "metadata": {},
   "source": [
    "Récupérez la dimension des images\n"
   ]
  },
  {
   "cell_type": "code",
   "execution_count": 49,
   "metadata": {},
   "outputs": [],
   "source": [
    "height = train_images.shape[1]\n",
    "width = train_images.shape[2]"
   ]
  },
  {
   "cell_type": "markdown",
   "metadata": {},
   "source": [
    "Affichez la première image de la base d'apprentissage"
   ]
  },
  {
   "cell_type": "code",
   "execution_count": 50,
   "metadata": {},
   "outputs": [
    {
     "data": {
      "text/plain": [
       "Text(0.5, 1.0, 'label : 5')"
      ]
     },
     "execution_count": 50,
     "metadata": {},
     "output_type": "execute_result"
    },
    {
     "data": {
      "image/png": "[encoded data removed]",
      "text/plain": [
       "<Figure size 360x360 with 1 Axes>"
      ]
     },
     "metadata": {
      "needs_background": "light"
     },
     "output_type": "display_data"
    }
   ],
   "source": [
    "num_ex = 0\n",
    "im = train_images[num_ex]\n",
    "plt.figure(figsize=(5, 5))\n",
    "plt.imshow(im); plt.axis(False)\n",
    "plt.title(f'label : {train_labels[num_ex]}')"
   ]
  },
  {
   "cell_type": "markdown",
   "metadata": {},
   "source": [
    "Affichez son label associé"
   ]
  },
  {
   "cell_type": "code",
   "execution_count": 51,
   "metadata": {},
   "outputs": [
    {
     "name": "stdout",
     "output_type": "stream",
     "text": [
      "label : 5\n"
     ]
    }
   ],
   "source": [
    "print('label : {}'.format(train_labels[num_ex]))"
   ]
  },
  {
   "cell_type": "markdown",
   "metadata": {},
   "source": [
    "## 3. Conditionnement des données"
   ]
  },
  {
   "cell_type": "markdown",
   "metadata": {},
   "source": [
    "Quelles sont les valeurs extrèmes des pixels ? pourquoi divise-t-on par 255.0 ?"
   ]
  },
  {
   "cell_type": "code",
   "execution_count": 52,
   "metadata": {},
   "outputs": [
    {
     "name": "stdout",
     "output_type": "stream",
     "text": [
      "min : 0, max : 255\n"
     ]
    }
   ],
   "source": [
    "print(\"min : {}, max : {}\".format(im.min() , im.max()))"
   ]
  },
  {
   "cell_type": "code",
   "execution_count": 53,
   "metadata": {},
   "outputs": [],
   "source": [
    "train_images = train_images / 255.0\n",
    "test_images = test_images / 255.0\n",
    "# train_images = train_images.astype('float32') / 255  # équivalent"
   ]
  },
  {
   "cell_type": "markdown",
   "metadata": {},
   "source": [
    "Pourquoi divise-t-on par 255.0 ?"
   ]
  },
  {
   "cell_type": "markdown",
   "metadata": {},
   "source": [
    "La raison en est la suivante: Sachant que chaque neurone calcule la somme de ses entrées $X$ pondérées par des poids $W$ et le biais $\\Theta$. Lorsque les valeurs du vecteur d'entrée ne sont pas dans la même échelle de grandeur, ce dernier peut peut efficacement annulé en modifiant les poids et les biais correspondants, ce qui laisse le vecteur d'entrée intact."
   ]
  },
  {
   "cell_type": "markdown",
   "metadata": {},
   "source": [
    "Peut-on utiliser directement les images en entrée du MLP ? Pourquoi ?  \n",
    "Proposer une solution"
   ]
  },
  {
   "cell_type": "markdown",
   "metadata": {},
   "source": [
    "Les entrées des réseau de neurones sont des vecteurs à dimension $(m, 1)$. Or, comme nous l'avons vu précédemment les dimensions des images de la base d'entrainement est $(n, n)$. La solution est de redimensionné les image sous forme $(n X n, 1)$"
   ]
  },
  {
   "cell_type": "code",
   "execution_count": 41,
   "metadata": {},
   "outputs": [],
   "source": [
    "# train_images = np.reshape(train_images,(train_images.shape[0],height*width))\n",
    "# test_images = np.reshape(test_images,(test_images.shape[0],height*width))"
   ]
  },
  {
   "cell_type": "markdown",
   "metadata": {},
   "source": [
    "Utiliser l'encodage \"one hot\" pour les labels des données d'apprentissage et de test.  \n",
    "Indice : https://www.tensorflow.org/api_docs/python/tf/keras/utils/to_categorical  \n",
    "Quelle doit-être la nouvelle dimensions des labels ?"
   ]
  },
  {
   "cell_type": "code",
   "execution_count": 54,
   "metadata": {},
   "outputs": [
    {
     "data": {
      "text/plain": [
       "array([[0., 0., 0., ..., 1., 0., 0.],\n",
       "       [0., 0., 1., ..., 0., 0., 0.],\n",
       "       [0., 1., 0., ..., 0., 0., 0.],\n",
       "       ...,\n",
       "       [0., 0., 0., ..., 0., 0., 0.],\n",
       "       [0., 0., 0., ..., 0., 0., 0.],\n",
       "       [0., 0., 0., ..., 0., 0., 0.]], dtype=float32)"
      ]
     },
     "execution_count": 54,
     "metadata": {},
     "output_type": "execute_result"
    }
   ],
   "source": [
    "# One hot encoding\n",
    "train_labels = tf.keras.utils.to_categorical(train_labels)\n",
    "test_labels = tf.keras.utils.to_categorical(test_labels)\n",
    "test_labels"
   ]
  },
  {
   "cell_type": "code",
   "execution_count": 55,
   "metadata": {},
   "outputs": [
    {
     "data": {
      "text/plain": [
       "(60000, 10)"
      ]
     },
     "execution_count": 55,
     "metadata": {},
     "output_type": "execute_result"
    }
   ],
   "source": [
    "# Observer les nouvelles dimension des données d'apprentissage\n",
    "train_labels.shape"
   ]
  },
  {
   "cell_type": "markdown",
   "metadata": {},
   "source": [
    "## 3. Architecture du réseau "
   ]
  },
  {
   "cell_type": "markdown",
   "metadata": {},
   "source": [
    "Premier réseau - MLP à 1 couche cachée avec :\n",
    "- en amont, une couche pour \"applatir\" les données 2D (flatten)\n",
    "- 25 neurones sur la couche cachée\n",
    "- des fonctions d'activation sigmoïde\n",
    "- la fonction de coût erreur quadratique moyenne\n",
    "- une optimisation par déscente de gradient stochastique (taux d'apprentissage $10^{-3}$ et momentum $0.9$)"
   ]
  },
  {
   "cell_type": "code",
   "execution_count": 56,
   "metadata": {},
   "outputs": [],
   "source": [
    "## Définition du modèle\n",
    "\n",
    "## Définition de l'architecture du modèle\n",
    "mnist_model = tf.keras.models.Sequential()\n",
    "# Expliquez à quoi correspondent les valeurs numériques qui définissent les couches du réseau\n",
    "mnist_model.add(tf.keras.layers.Flatten(input_shape=(28, 28)))\n",
    "mnist_model.add(tf.keras.layers.Dense(100 ,input_shape=(784,),  activation='relu'))\n",
    "mnist_model.add(tf.keras.layers.BatchNormalization(axis=-1, momentum=0.99, epsilon=0.001, center=True, scale=True, beta_initializer='zeros', gamma_initializer='ones', moving_mean_initializer='zeros', moving_variance_initializer='ones', beta_regularizer=None, gamma_regularizer=None, beta_constraint=None, gamma_constraint=None))\n",
    "\n",
    "mnist_model.add(tf.keras.layers.Dense(50 ,input_shape=(100,),  activation='relu'))\n",
    "mnist_model.add(tf.keras.layers.BatchNormalization(axis=-1, momentum=0.99, epsilon=0.001, center=True, scale=True, beta_initializer='zeros', gamma_initializer='ones', moving_mean_initializer='zeros', moving_variance_initializer='ones', beta_regularizer=None, gamma_regularizer=None, beta_constraint=None, gamma_constraint=None))\n",
    "\n",
    "mnist_model.add(tf.keras.layers.Dense(25 ,input_shape=(50,),  activation='relu'))\n",
    "mnist_model.add(tf.keras.layers.BatchNormalization(axis=-1, momentum=0.99, epsilon=0.001, center=True, scale=True, beta_initializer='zeros', gamma_initializer='ones', moving_mean_initializer='zeros', moving_variance_initializer='ones', beta_regularizer=None, gamma_regularizer=None, beta_constraint=None, gamma_constraint=None))\n",
    "\n",
    "mnist_model.add(tf.keras.layers.Dense(10 , activation='softmax'))\n",
    "\n",
    "sgd = tf.keras.optimizers.Adam()  #SGD(lr=0.001, momentum=0.9) \n",
    "\n",
    "mnist_model.compile(sgd, loss='categorical_crossentropy', metrics=['accuracy'])\n",
    "\n",
    "\n",
    "\n"
   ]
  },
  {
   "cell_type": "markdown",
   "metadata": {},
   "source": [
    "On affiche l'architecture du réseau"
   ]
  },
  {
   "cell_type": "code",
   "execution_count": 57,
   "metadata": {},
   "outputs": [
    {
     "name": "stdout",
     "output_type": "stream",
     "text": [
      "Model: \"sequential_2\"\n",
      "_________________________________________________________________\n",
      " Layer (type)                Output Shape              Param #   \n",
      "=================================================================\n",
      " flatten_2 (Flatten)         (None, 784)               0         \n",
      "                                                                 \n",
      " dense_8 (Dense)             (None, 100)               78500     \n",
      "                                                                 \n",
      " batch_normalization_6 (Batc  (None, 100)              400       \n",
      " hNormalization)                                                 \n",
      "                                                                 \n",
      " dense_9 (Dense)             (None, 50)                5050      \n",
      "                                                                 \n",
      " batch_normalization_7 (Batc  (None, 50)               200       \n",
      " hNormalization)                                                 \n",
      "                                                                 \n",
      " dense_10 (Dense)            (None, 25)                1275      \n",
      "                                                                 \n",
      " batch_normalization_8 (Batc  (None, 25)               100       \n",
      " hNormalization)                                                 \n",
      "                                                                 \n",
      " dense_11 (Dense)            (None, 10)                260       \n",
      "                                                                 \n",
      "=================================================================\n",
      "Total params: 85,785\n",
      "Trainable params: 85,435\n",
      "Non-trainable params: 350\n",
      "_________________________________________________________________\n"
     ]
    }
   ],
   "source": [
    "# visualisation du nombre de paramètres du réseau\n",
    "mnist_model.summary()"
   ]
  },
  {
   "cell_type": "markdown",
   "metadata": {},
   "source": [
    "## 4. Apprentissage du réseau"
   ]
  },
  {
   "cell_type": "markdown",
   "metadata": {},
   "source": [
    "Avec des batchs de taille 64 et 10 epochs"
   ]
  },
  {
   "cell_type": "code",
   "execution_count": 58,
   "metadata": {},
   "outputs": [
    {
     "name": "stdout",
     "output_type": "stream",
     "text": [
      "Epoch 1/10\n",
      "938/938 [==============================] - 3s 2ms/step - loss: 0.3206 - accuracy: 0.9118\n",
      "Epoch 2/10\n",
      "938/938 [==============================] - 2s 2ms/step - loss: 0.1241 - accuracy: 0.9631\n",
      "Epoch 3/10\n",
      "938/938 [==============================] - 3s 3ms/step - loss: 0.0945 - accuracy: 0.9715\n",
      "Epoch 4/10\n",
      "938/938 [==============================] - 2s 2ms/step - loss: 0.0763 - accuracy: 0.9768\n",
      "Epoch 5/10\n",
      "938/938 [==============================] - 2s 2ms/step - loss: 0.0627 - accuracy: 0.9804\n",
      "Epoch 6/10\n",
      "938/938 [==============================] - 2s 2ms/step - loss: 0.0562 - accuracy: 0.9825\n",
      "Epoch 7/10\n",
      "938/938 [==============================] - 2s 2ms/step - loss: 0.0496 - accuracy: 0.9840\n",
      "Epoch 8/10\n",
      "938/938 [==============================] - 2s 2ms/step - loss: 0.0444 - accuracy: 0.9860\n",
      "Epoch 9/10\n",
      "938/938 [==============================] - 2s 2ms/step - loss: 0.0390 - accuracy: 0.9872\n",
      "Epoch 10/10\n",
      "938/938 [==============================] - 2s 2ms/step - loss: 0.0354 - accuracy: 0.9884\n"
     ]
    },
    {
     "data": {
      "text/plain": [
       "<keras.callbacks.History at 0x29ed0211fd0>"
      ]
     },
     "execution_count": 58,
     "metadata": {},
     "output_type": "execute_result"
    }
   ],
   "source": [
    "mnist_model.fit(train_images,\n",
    "         train_labels,\n",
    "         batch_size=64,\n",
    "         epochs=10)"
   ]
  },
  {
   "cell_type": "markdown",
   "metadata": {},
   "source": [
    "## 5. Evaluation du modèle sur la base de test"
   ]
  },
  {
   "cell_type": "markdown",
   "metadata": {},
   "source": [
    "__Attention__ : en toute rigueur, l'evaluation devrait être menée sur une base de validation (fragment de la base de d'apprentissage)"
   ]
  },
  {
   "cell_type": "code",
   "execution_count": 59,
   "metadata": {},
   "outputs": [
    {
     "name": "stdout",
     "output_type": "stream",
     "text": [
      "313/313 [==============================] - 1s 1ms/step - loss: 0.0742 - accuracy: 0.9780\n",
      "Test accuracy: 0.9779999852180481\n"
     ]
    }
   ],
   "source": [
    "## Evaluation du modèle \n",
    "test_loss, test_acc = mnist_model.evaluate(test_images, test_labels)\n",
    "print('Test accuracy:', test_acc)"
   ]
  },
  {
   "cell_type": "markdown",
   "metadata": {},
   "source": [
    "## 6. Visualisation des poids du réseau"
   ]
  },
  {
   "cell_type": "markdown",
   "metadata": {},
   "source": [
    "On utilise la méthodes get_weights() pour récupérer la liste des poids : \n",
    "https://www.tensorflow.org/api_docs/python/tf/keras/layers/Layer#get_weights  \n",
    "La méthode retourne une liste de deux tableaux : les poids et les biais de la couche"
   ]
  },
  {
   "cell_type": "code",
   "execution_count": 60,
   "metadata": {},
   "outputs": [],
   "source": [
    "# visualiser la couche de poids\n",
    "# Observer les différences en fonction de la méthode d'optimisation et de l'architecture du réseau\n",
    "# layers[1] pour passer le flatten et arriver sur la première couche\n",
    "# get_weights()[0] -> les poids\n",
    "# get_weights()[1] -> les biais\n",
    "mnist_model.layers[1].get_weights()[1].shape\n",
    "weights_all  = mnist_model.layers[1].get_weights()[0]\n",
    "\n"
   ]
  },
  {
   "cell_type": "markdown",
   "metadata": {},
   "source": [
    "On peut visualiser ces poids. Comment peut-on interpréter ces images ?"
   ]
  },
  {
   "cell_type": "code",
   "execution_count": 61,
   "metadata": {},
   "outputs": [
    {
     "data": {
      "image/png": "[encoded data removed]",
      "text/plain": [
       "<Figure size 720x720 with 25 Axes>"
      ]
     },
     "metadata": {},
     "output_type": "display_data"
    }
   ],
   "source": [
    "plt.figure(figsize=(10,10))\n",
    "for i in range(25):\n",
    "    plt.subplot(5,5,i+1)\n",
    "    plt.xticks([])\n",
    "    plt.yticks([])\n",
    "    plt.grid(False)\n",
    "    vis = np.reshape(weights_all[:,i],(height,width))\n",
    "    plt.imshow(vis, cmap=plt.cm.binary)\n",
    "    #plt.xlabel(class_names[train_labels[i]])\n",
    "plt.show()"
   ]
  },
  {
   "cell_type": "markdown",
   "metadata": {},
   "source": [
    "## 7. A faire"
   ]
  },
  {
   "cell_type": "markdown",
   "metadata": {},
   "source": [
    "1) Evaluer l'influence sur les performances et les \"images des poids\" lorsque l'on augmente d'un facteur 10 :\n",
    "- le nombre d'epochs\n",
    "- le pas d'apprentissage\n",
    "\n",
    "2) Tester la fonction de cout entropie croisée\n",
    "\n",
    "3) Tester la fonction d'activation softmax sur la dernière couche\n",
    "\n",
    "4) Améliorer encore les performances du réseau en :\n",
    "- Augmentant le nombre de neurones sur la couche cachée\n",
    "- Augmentant la profondeur du réseau\n",
    "- Changeant la méthode d'optimisation \n",
    "- Utilisant la normalisation par batch (batch norm)\n",
    "\n",
    "Reporter la justesse (accuracy) pour les différentes architectures testées"
   ]
  },
  {
   "cell_type": "code",
   "execution_count": null,
   "metadata": {},
   "outputs": [],
   "source": []
  }
 ],
 "metadata": {
  "kernelspec": {
   "display_name": "Python 3.9.7 ('base')",
   "language": "python",
   "name": "python3"
  },
  "language_info": {
   "codemirror_mode": {
    "name": "ipython",
    "version": 3
   },
   "file_extension": ".py",
   "mimetype": "text/x-python",
   "name": "python",
   "nbconvert_exporter": "python",
   "pygments_lexer": "ipython3",
   "version": "3.9.7"
  },
  "vscode": {
   "interpreter": {
    "hash": "f43ea83be3efa71f272f111399653028d46bef4df135a6fdb6525a542d7969a3"
   }
  }
 },
 "nbformat": 4,
 "nbformat_minor": 4
}
