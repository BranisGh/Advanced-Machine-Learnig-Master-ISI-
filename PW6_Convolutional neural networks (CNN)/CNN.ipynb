{
 "cells": [
  {
   "cell_type": "markdown",
   "metadata": {},
   "source": [
    "# Les réseaux convolutionnels"
   ]
  },
  {
   "cell_type": "markdown",
   "metadata": {},
   "source": [
    "Réseau inspiré de http://yann.lecun.com/exdb/publis/pdf/lecun-98.pdf"
   ]
  },
  {
   "cell_type": "markdown",
   "metadata": {},
   "source": [
    "## 1. Importation des librairies"
   ]
  },
  {
   "cell_type": "code",
   "execution_count": 1,
   "metadata": {},
   "outputs": [],
   "source": [
    "import tensorflow as tf\n",
    "import numpy as np\n",
    "import matplotlib.pyplot as plt\n",
    "\n",
    "## pour que les résultats soient reproductibles\n",
    "#from numpy.random import seed\n",
    "#seed(1)\n",
    "#from tensorflow import set_random_seed\n",
    "#set_random_seed(1)"
   ]
  },
  {
   "cell_type": "markdown",
   "metadata": {},
   "source": [
    "## 2. Chargement et conditionnement des données d'apprentissage"
   ]
  },
  {
   "cell_type": "markdown",
   "metadata": {},
   "source": [
    "Chargement et normalisation des données"
   ]
  },
  {
   "cell_type": "code",
   "execution_count": 28,
   "metadata": {},
   "outputs": [
    {
     "name": "stdout",
     "output_type": "stream",
     "text": [
      "La dimension de la base de données d'entrainement : (60000, 28, 28)\n",
      "La dimension de la base de données de test : (10000, 28, 28)\n",
      "Les différentes classe [  0   1   2   3   4   5   6   7   8   9  10  11  12  13  14  15  16  17\n",
      "  18  19  20  21  22  23  24  25  26  27  28  29  30  31  32  33  34  35\n",
      "  36  37  38  39  40  41  42  43  44  45  46  47  48  49  50  51  52  53\n",
      "  54  55  56  57  58  59  60  61  62  63  64  65  66  67  68  69  70  71\n",
      "  72  73  74  75  76  77  78  79  80  81  82  83  84  85  86  87  88  89\n",
      "  90  91  92  93  94  95  96  97  98  99 100 101 102 103 104 105 106 107\n",
      " 108 109 110 111 112 113 114 115 116 117 118 119 120 121 122 123 124 125\n",
      " 126 127 128 129 130 131 132 133 134 135 136 137 138 139 140 141 142 143\n",
      " 144 145 146 147 148 149 150 151 152 153 154 155 156 157 158 159 160 161\n",
      " 162 163 164 165 166 167 168 169 170 171 172 173 174 175 176 177 178 179\n",
      " 180 181 182 183 184 185 186 187 188 189 190 191 192 193 194 195 196 197\n",
      " 198 199 200 201 202 203 204 205 206 207 208 209 210 211 212 213 214 215\n",
      " 216 217 218 219 220 221 222 223 224 225 226 227 228 229 230 231 232 233\n",
      " 234 235 236 237 238 239 240 241 242 243 244 245 246 247 248 249 250 251\n",
      " 252 253 254 255]\n"
     ]
    }
   ],
   "source": [
    "mnist = tf.keras.datasets.mnist\n",
    "(train_images, train_labels), (test_images, test_labels) = mnist.load_data()\n",
    "train_images = train_images / 255.0\n",
    "print(f\"La dimension de la base de données d'entrainement : {train_images.shape}\")\n",
    "print(f\"La dimension de la base de données de test : {test_images.shape}\")\n",
    "print(f\"Les différentes classe {np.unique(test_images)}\")"
   ]
  },
  {
   "cell_type": "markdown",
   "metadata": {},
   "source": [
    "Affichage de quelques images "
   ]
  },
  {
   "cell_type": "code",
   "execution_count": 29,
   "metadata": {},
   "outputs": [
    {
     "data": {
      "image/png": "[encoded data removed]",
      "text/plain": [
       "<Figure size 720x720 with 16 Axes>"
      ]
     },
     "metadata": {
      "needs_background": "light"
     },
     "output_type": "display_data"
    }
   ],
   "source": [
    "import cv2\n",
    "total_rows = total_cols = 4\n",
    "fig, axes = plt.subplots(total_rows, total_cols, figsize=(10, 10))\n",
    "for img, lab, ax in zip(train_images, train_labels, list(axes.flat)):\n",
    "    ax.imshow(img)\n",
    "    ax.grid(False)\n",
    "    ax.set_axis_off()\n",
    "    ax.set_title(f'{lab}')"
   ]
  },
  {
   "cell_type": "markdown",
   "metadata": {},
   "source": [
    "Pour les CNN : On rajoute une dimension pour spécifier qu'il s'agit d'imgages en NdG"
   ]
  },
  {
   "cell_type": "code",
   "execution_count": 30,
   "metadata": {},
   "outputs": [
    {
     "name": "stdout",
     "output_type": "stream",
     "text": [
      "La dimension de la base de données d'entrainement : (60000, 28, 28, 1)\n",
      "La dimension de la base de données de test : (10000, 28, 28, 1)\n"
     ]
    }
   ],
   "source": [
    "train_images = train_images.reshape(60000, 28, 28, 1)\n",
    "test_images = test_images.reshape(10000, 28, 28, 1)\n",
    "print(f\"La dimension de la base de données d'entrainement : {train_images.shape}\")\n",
    "print(f\"La dimension de la base de données de test : {test_images.shape}\")"
   ]
  },
  {
   "cell_type": "markdown",
   "metadata": {},
   "source": [
    "One hot encoding"
   ]
  },
  {
   "cell_type": "code",
   "execution_count": 31,
   "metadata": {},
   "outputs": [
    {
     "name": "stdout",
     "output_type": "stream",
     "text": [
      "La dimension de labels de la base de données d'entrainement : (60000, 10)\n",
      "La dimension de labesl de la base de données de test : (10000, 10)\n"
     ]
    }
   ],
   "source": [
    "train_labels = tf.keras.utils.to_categorical(train_labels)\n",
    "test_labels = tf.keras.utils.to_categorical(test_labels)\n",
    "\n",
    "print(f\"La dimension de labels de la base de données d'entrainement : {train_labels.shape}\")\n",
    "print(f\"La dimension de labesl de la base de données de test : {test_labels.shape}\")"
   ]
  },
  {
   "cell_type": "markdown",
   "metadata": {},
   "source": [
    "## 3. Architecture du réseau "
   ]
  },
  {
   "cell_type": "markdown",
   "metadata": {},
   "source": [
    "Concevoir un réseau inspiré LeNet5 http://yann.lecun.com/exdb/publis/pdf/lecun-98.pdf\n",
    "![LeNet5](https://miro.medium.com/max/2000/1*1TI1aGBZ4dybR6__DI9dzA.png)\n",
    "\n",
    "\n",
    "La structure globale sera conservée (nombre de couches, nombre de neurones par couche…) mais dans cette version :\n",
    "- Les couches de convolution sont totalement connectées\n",
    "- La sortie est une couche fully connected (FC) classique \n",
    "- La fonction de coût est l’entropie croisée\n"
   ]
  },
  {
   "cell_type": "code",
   "execution_count": 32,
   "metadata": {},
   "outputs": [
    {
     "name": "stdout",
     "output_type": "stream",
     "text": [
      "Model: \"sequential_1\"\n",
      "_________________________________________________________________\n",
      " Layer (type)                Output Shape              Param #   \n",
      "=================================================================\n",
      " conv2d (Conv2D)             (None, 28, 28, 6)         156       \n",
      "                                                                 \n",
      " average_pooling2d (AverageP  (None, 14, 14, 6)        0         \n",
      " ooling2D)                                                       \n",
      "                                                                 \n",
      " conv2d_1 (Conv2D)           (None, 10, 10, 16)        2416      \n",
      "                                                                 \n",
      " average_pooling2d_1 (Averag  (None, 5, 5, 16)         0         \n",
      " ePooling2D)                                                     \n",
      "                                                                 \n",
      " flatten (Flatten)           (None, 400)               0         \n",
      "                                                                 \n",
      " dense (Dense)               (None, 120)               48120     \n",
      "                                                                 \n",
      " dense_1 (Dense)             (None, 84)                10164     \n",
      "                                                                 \n",
      " dense_2 (Dense)             (None, 10)                850       \n",
      "                                                                 \n",
      "=================================================================\n",
      "Total params: 61,706\n",
      "Trainable params: 61,706\n",
      "Non-trainable params: 0\n",
      "_________________________________________________________________\n",
      "None\n"
     ]
    }
   ],
   "source": [
    "filter_size_conv1 = (5,5)\n",
    "\n",
    "## Définition de l'architecture du modèle\n",
    "mnist_model = tf.keras.models.Sequential()\n",
    "# Expliquez à quoi correspondent les valeurs numériques qui définissent les couches du réseau\n",
    "mnist_model.add(tf.keras.layers.Conv2D(filters=6,kernel_size=filter_size_conv1,padding=\"same\", activation='tanh', input_shape=(28, 28, 1)))\n",
    "mnist_model.add(tf.keras.layers.AveragePooling2D())\n",
    "mnist_model.add(tf.keras.layers.Conv2D(filters=16,kernel_size=(5,5),padding=\"valid\", activation='tanh'))\n",
    "mnist_model.add(tf.keras.layers.AveragePooling2D())\n",
    "mnist_model.add(tf.keras.layers.Flatten())\n",
    "mnist_model.add(tf.keras.layers.Dense(120 , activation='tanh'))\n",
    "#mnist_model.add(tf.keras.layers.Dropout(0.5))\n",
    "mnist_model.add(tf.keras.layers.Dense(84 , activation='tanh'))\n",
    "mnist_model.add(tf.keras.layers.Dense(10 , activation='softmax'))\n",
    "\n",
    "# expliquer le nombre de paramètre de ce réseau\n",
    "print(mnist_model.summary())"
   ]
  },
  {
   "cell_type": "code",
   "execution_count": 34,
   "metadata": {},
   "outputs": [
    {
     "name": "stdout",
     "output_type": "stream",
     "text": [
      "(5, 5, 1, 6)\n"
     ]
    },
    {
     "data": {
      "image/png": "[encoded data removed]",
      "text/plain": [
       "<Figure size 144x216 with 6 Axes>"
      ]
     },
     "metadata": {},
     "output_type": "display_data"
    }
   ],
   "source": [
    "sgd = tf.keras.optimizers.Adam()\n",
    "\n",
    "mnist_model.compile(sgd, loss='categorical_crossentropy', metrics=['accuracy'])\n",
    "\n",
    "def displayConvFilers(model, layer_name, num_filter=4, filter_size=(3,3), num_channel=0, fig_size=(2,2)):\n",
    "    '''\n",
    "    model : le réseau de neurone dont on souhaite visualiser les filtres\n",
    "    nb_filter : le nombre de filtre que l'on souhaite visualiser\n",
    "    filter size : la taille des filtres de la couche\n",
    "    num_channel : le numéro du canal que l'on souaite visualiser \n",
    "    fig_size : les dimensions de la figure. Doivent être en cohérence avec nb_filter\n",
    "    '''\n",
    "    \n",
    "    layer_dict = dict([(layer.name, layer) for layer in mnist_model.layers])\n",
    "    \n",
    "    weight, biais = layer_dict[layer_name].get_weights()\n",
    "    print(weight.shape) \n",
    "    plt.figure(figsize=fig_size)\n",
    "    for i in range(num_filter):\n",
    "        plt.subplot(fig_size[0],fig_size[1],i+1)\n",
    "        plt.xticks([])\n",
    "        plt.yticks([])\n",
    "        plt.grid(False)\n",
    "        vis = np.reshape(weight[:,:,num_channel,i],filter_size)\n",
    "        plt.imshow(vis, cmap=plt.cm.binary)\n",
    "    plt.show()\n",
    "\n",
    "# On visualise avant l'entrainement\n",
    "displayConvFilers(  mnist_model, 'conv2d', \n",
    "                    num_filter=6, \n",
    "                    filter_size=filter_size_conv1, \n",
    "                    num_channel=0, \n",
    "                    fig_size=(2,3)\n",
    "                )\n"
   ]
  },
  {
   "cell_type": "markdown",
   "metadata": {},
   "source": [
    "## 4. Apprentissage du réseau"
   ]
  },
  {
   "cell_type": "code",
   "execution_count": 35,
   "metadata": {},
   "outputs": [
    {
     "name": "stdout",
     "output_type": "stream",
     "text": [
      "Epoch 1/20\n",
      "938/938 [==============================] - 11s 11ms/step - loss: 0.2641 - accuracy: 0.9228\n",
      "Epoch 2/20\n",
      "938/938 [==============================] - 10s 11ms/step - loss: 0.1027 - accuracy: 0.9685\n",
      "Epoch 3/20\n",
      "938/938 [==============================] - 19s 21ms/step - loss: 0.0703 - accuracy: 0.9785\n",
      "Epoch 4/20\n",
      "938/938 [==============================] - 14s 15ms/step - loss: 0.0514 - accuracy: 0.9842\n",
      "Epoch 5/20\n",
      "938/938 [==============================] - 15s 16ms/step - loss: 0.0414 - accuracy: 0.9870\n",
      "Epoch 6/20\n",
      "938/938 [==============================] - 15s 16ms/step - loss: 0.0320 - accuracy: 0.9900\n",
      "Epoch 7/20\n",
      "938/938 [==============================] - 16s 17ms/step - loss: 0.0276 - accuracy: 0.9909\n",
      "Epoch 8/20\n",
      "938/938 [==============================] - 14s 15ms/step - loss: 0.0229 - accuracy: 0.9926\n",
      "Epoch 9/20\n",
      "938/938 [==============================] - 13s 14ms/step - loss: 0.0192 - accuracy: 0.9944\n",
      "Epoch 10/20\n",
      "938/938 [==============================] - 14s 15ms/step - loss: 0.0168 - accuracy: 0.9947\n",
      "Epoch 11/20\n",
      "938/938 [==============================] - 13s 14ms/step - loss: 0.0142 - accuracy: 0.9954\n",
      "Epoch 12/20\n",
      "938/938 [==============================] - 13s 14ms/step - loss: 0.0133 - accuracy: 0.9958\n",
      "Epoch 13/20\n",
      "938/938 [==============================] - 17s 18ms/step - loss: 0.0115 - accuracy: 0.9964\n",
      "Epoch 14/20\n",
      "938/938 [==============================] - 13s 14ms/step - loss: 0.0112 - accuracy: 0.9964\n",
      "Epoch 15/20\n",
      "938/938 [==============================] - 13s 14ms/step - loss: 0.0084 - accuracy: 0.9971\n",
      "Epoch 16/20\n",
      "938/938 [==============================] - 13s 13ms/step - loss: 0.0094 - accuracy: 0.9968\n",
      "Epoch 17/20\n",
      "938/938 [==============================] - 13s 14ms/step - loss: 0.0082 - accuracy: 0.9973\n",
      "Epoch 18/20\n",
      "938/938 [==============================] - 14s 15ms/step - loss: 0.0063 - accuracy: 0.9980\n",
      "Epoch 19/20\n",
      "938/938 [==============================] - 15s 16ms/step - loss: 0.0096 - accuracy: 0.9969\n",
      "Epoch 20/20\n",
      "938/938 [==============================] - 15s 16ms/step - loss: 0.0062 - accuracy: 0.9980\n"
     ]
    },
    {
     "data": {
      "text/plain": [
       "<keras.callbacks.History at 0x1d599643be0>"
      ]
     },
     "execution_count": 35,
     "metadata": {},
     "output_type": "execute_result"
    }
   ],
   "source": [
    "mnist_model.fit(train_images,\n",
    "         train_labels,\n",
    "         batch_size=64,\n",
    "         epochs=20\n",
    "         )"
   ]
  },
  {
   "cell_type": "markdown",
   "metadata": {},
   "source": [
    "## 5. Evaluation du modèle sur la base de test"
   ]
  },
  {
   "cell_type": "code",
   "execution_count": 36,
   "metadata": {},
   "outputs": [
    {
     "name": "stdout",
     "output_type": "stream",
     "text": [
      "313/313 [==============================] - 2s 4ms/step - loss: 0.0594 - accuracy: 0.9843\n",
      "Test accuracy: 0.9843000173568726\n"
     ]
    }
   ],
   "source": [
    "## Evaluation du modèle \n",
    "test_loss, test_acc = mnist_model.evaluate(test_images, test_labels)\n",
    "print('Test accuracy:', test_acc)\n"
   ]
  },
  {
   "cell_type": "markdown",
   "metadata": {},
   "source": [
    "## 6. Visualisation des filtres appris prar me réseau"
   ]
  },
  {
   "cell_type": "markdown",
   "metadata": {},
   "source": [
    "Compléter la fonction de visualisation des filtres suivante :"
   ]
  },
  {
   "cell_type": "code",
   "execution_count": 37,
   "metadata": {},
   "outputs": [
    {
     "name": "stdout",
     "output_type": "stream",
     "text": [
      "(5, 5, 1, 6)\n"
     ]
    },
    {
     "data": {
      "image/png": "[encoded data removed]",
      "text/plain": [
       "<Figure size 144x216 with 6 Axes>"
      ]
     },
     "metadata": {},
     "output_type": "display_data"
    }
   ],
   "source": [
    "# On visualise apres l'entrainement\n",
    "displayConvFilers(  mnist_model, 'conv2d', \n",
    "                    num_filter=6, \n",
    "                    filter_size=filter_size_conv1, \n",
    "                    num_channel=0, \n",
    "                    fig_size=(2,3)\n",
    "                )\n"
   ]
  },
  {
   "cell_type": "markdown",
   "metadata": {},
   "source": [
    "Appeler deux fois la fonction pour afficher des filtres de la première couche et des filtres de la deuxième couche de convolution"
   ]
  },
  {
   "cell_type": "code",
   "execution_count": 42,
   "metadata": {},
   "outputs": [
    {
     "name": "stdout",
     "output_type": "stream",
     "text": [
      "(5, 5, 1, 6)\n"
     ]
    },
    {
     "data": {
      "image/png": "[encoded data removed]",
      "text/plain": [
       "<Figure size 144x216 with 6 Axes>"
      ]
     },
     "metadata": {},
     "output_type": "display_data"
    },
    {
     "name": "stdout",
     "output_type": "stream",
     "text": [
      "(5, 5, 6, 16)\n"
     ]
    },
    {
     "data": {
      "image/png": "[encoded data removed]",
      "text/plain": [
       "<Figure size 144x216 with 6 Axes>"
      ]
     },
     "metadata": {},
     "output_type": "display_data"
    }
   ],
   "source": [
    "# On visualise avant l'entrainement\n",
    "displayConvFilers(  mnist_model, 'conv2d', \n",
    "                    num_filter=6, \n",
    "                    filter_size=filter_size_conv1, \n",
    "                    num_channel=0, \n",
    "                    fig_size=(2,3)\n",
    "                )\n",
    "\n",
    "# On visualise avant l'entrainement\n",
    "displayConvFilers(  mnist_model, 'conv2d_1', \n",
    "                    num_filter=6, \n",
    "                    filter_size=filter_size_conv1, \n",
    "                    num_channel=0, \n",
    "                    fig_size=(2,3)\n",
    "                )\n"
   ]
  },
  {
   "cell_type": "code",
   "execution_count": null,
   "metadata": {},
   "outputs": [],
   "source": []
  }
 ],
 "metadata": {
  "kernelspec": {
   "display_name": "Python 3.10.4 ('env_ML')",
   "language": "python",
   "name": "python3"
  },
  "language_info": {
   "codemirror_mode": {
    "name": "ipython",
    "version": 3
   },
   "file_extension": ".py",
   "mimetype": "text/x-python",
   "name": "python",
   "nbconvert_exporter": "python",
   "pygments_lexer": "ipython3",
   "version": "3.10.4"
  },
  "vscode": {
   "interpreter": {
    "hash": "3aeec228df1f54caf4e0351da5a2d0a118f716cc91cd17ac0ce0027b95db8302"
   }
  }
 },
 "nbformat": 4,
 "nbformat_minor": 4
}
